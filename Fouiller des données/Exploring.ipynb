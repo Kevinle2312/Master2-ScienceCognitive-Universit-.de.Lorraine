{
 "cells": [
  {
   "cell_type": "code",
   "execution_count": 1,
   "metadata": {
    "collapsed": true,
    "pycharm": {
     "name": "#%%\n"
    }
   },
   "outputs": [
    {
     "name": "stderr",
     "output_type": "stream",
     "text": [
      "C:\\Users\\Le Cao Tung Lam\\AppData\\Local\\Temp\\ipykernel_33488\\4273211584.py:3: DtypeWarning: Columns (1,2,3,4,11,12,13,15,18,21,24,39,40,48,49,54,55,56,70,71,77,80,83,84,89,91,92,93,95) have mixed types. Specify dtype option on import or set low_memory=False.\n",
      "  data = pd.read_csv(\"GrandEst.csv\", sep=';')\n"
     ]
    },
    {
     "data": {
      "text/plain": "         REGION NUMMR ACHLR  AEMM AEMMR  AGED  AGER20  AGEREV  AGEREVQ  ANAI  \\\n0            44     1     3  2008     9    58      64      57       55  1959   \n1            44     1     3  2008     9    69      79      68       65  1948   \n2            44     2     4  1977     6    70      79      69       65  1948   \n3            44     3     3  2012     9    30      29      29       25  1985   \n4            44     3     3  2012     9    30      29      29       25  1985   \n...         ...   ...   ...   ...   ...   ...     ...     ...      ...   ...   \n1474554      44     Z     Z  ZZZZ     Z    23      24      22       20  1993   \n1474555      44     Z     Z  ZZZZ     Z    64      64      63       60  1952   \n1474556      44     Z     Z  ZZZZ     Z    29      29      28       25  1987   \n1474557      44     Z     Z  ZZZZ     Z    48      54      47       45  1968   \n1474558      44     Z     Z  ZZZZ     Z    35      39      34       30  1981   \n\n         ... TP TRANS TYPC TYPFC TYPL TYPMD TYPMR UR VOIT  WC  \n0        ...  Z     Z    3     2    2   500    44  1    1   Z  \n1        ...  Z     Z    3     2    2   500    44  1    1   Z  \n2        ...  Z     Z    1     Z    1    22    12  0    1   Z  \n3        ...  1     4    3     2    2   300    41  0    1   Z  \n4        ...  1     4    3     2    2   300    41  0    1   Z  \n...      ... ..   ...  ...   ...  ...   ...   ... ..  ...  ..  \n1474554  ...  Z     Z    Z     Z    Z   ZZZ    ZZ  0    Z   X  \n1474555  ...  Z     Z    Z     Z    Z   ZZZ    ZZ  0    Z   X  \n1474556  ...  Z     Z    Z     Z    Z   ZZZ    ZZ  0    Z   X  \n1474557  ...  Z     Z    Z     Z    Z   ZZZ    ZZ  0    Z   X  \n1474558  ...  Z     Z    Z     Z    Z   ZZZ    ZZ  0    Z   X  \n\n[1474559 rows x 97 columns]",
      "text/html": "<div>\n<style scoped>\n    .dataframe tbody tr th:only-of-type {\n        vertical-align: middle;\n    }\n\n    .dataframe tbody tr th {\n        vertical-align: top;\n    }\n\n    .dataframe thead th {\n        text-align: right;\n    }\n</style>\n<table border=\"1\" class=\"dataframe\">\n  <thead>\n    <tr style=\"text-align: right;\">\n      <th></th>\n      <th>REGION</th>\n      <th>NUMMR</th>\n      <th>ACHLR</th>\n      <th>AEMM</th>\n      <th>AEMMR</th>\n      <th>AGED</th>\n      <th>AGER20</th>\n      <th>AGEREV</th>\n      <th>AGEREVQ</th>\n      <th>ANAI</th>\n      <th>...</th>\n      <th>TP</th>\n      <th>TRANS</th>\n      <th>TYPC</th>\n      <th>TYPFC</th>\n      <th>TYPL</th>\n      <th>TYPMD</th>\n      <th>TYPMR</th>\n      <th>UR</th>\n      <th>VOIT</th>\n      <th>WC</th>\n    </tr>\n  </thead>\n  <tbody>\n    <tr>\n      <th>0</th>\n      <td>44</td>\n      <td>1</td>\n      <td>3</td>\n      <td>2008</td>\n      <td>9</td>\n      <td>58</td>\n      <td>64</td>\n      <td>57</td>\n      <td>55</td>\n      <td>1959</td>\n      <td>...</td>\n      <td>Z</td>\n      <td>Z</td>\n      <td>3</td>\n      <td>2</td>\n      <td>2</td>\n      <td>500</td>\n      <td>44</td>\n      <td>1</td>\n      <td>1</td>\n      <td>Z</td>\n    </tr>\n    <tr>\n      <th>1</th>\n      <td>44</td>\n      <td>1</td>\n      <td>3</td>\n      <td>2008</td>\n      <td>9</td>\n      <td>69</td>\n      <td>79</td>\n      <td>68</td>\n      <td>65</td>\n      <td>1948</td>\n      <td>...</td>\n      <td>Z</td>\n      <td>Z</td>\n      <td>3</td>\n      <td>2</td>\n      <td>2</td>\n      <td>500</td>\n      <td>44</td>\n      <td>1</td>\n      <td>1</td>\n      <td>Z</td>\n    </tr>\n    <tr>\n      <th>2</th>\n      <td>44</td>\n      <td>2</td>\n      <td>4</td>\n      <td>1977</td>\n      <td>6</td>\n      <td>70</td>\n      <td>79</td>\n      <td>69</td>\n      <td>65</td>\n      <td>1948</td>\n      <td>...</td>\n      <td>Z</td>\n      <td>Z</td>\n      <td>1</td>\n      <td>Z</td>\n      <td>1</td>\n      <td>22</td>\n      <td>12</td>\n      <td>0</td>\n      <td>1</td>\n      <td>Z</td>\n    </tr>\n    <tr>\n      <th>3</th>\n      <td>44</td>\n      <td>3</td>\n      <td>3</td>\n      <td>2012</td>\n      <td>9</td>\n      <td>30</td>\n      <td>29</td>\n      <td>29</td>\n      <td>25</td>\n      <td>1985</td>\n      <td>...</td>\n      <td>1</td>\n      <td>4</td>\n      <td>3</td>\n      <td>2</td>\n      <td>2</td>\n      <td>300</td>\n      <td>41</td>\n      <td>0</td>\n      <td>1</td>\n      <td>Z</td>\n    </tr>\n    <tr>\n      <th>4</th>\n      <td>44</td>\n      <td>3</td>\n      <td>3</td>\n      <td>2012</td>\n      <td>9</td>\n      <td>30</td>\n      <td>29</td>\n      <td>29</td>\n      <td>25</td>\n      <td>1985</td>\n      <td>...</td>\n      <td>1</td>\n      <td>4</td>\n      <td>3</td>\n      <td>2</td>\n      <td>2</td>\n      <td>300</td>\n      <td>41</td>\n      <td>0</td>\n      <td>1</td>\n      <td>Z</td>\n    </tr>\n    <tr>\n      <th>...</th>\n      <td>...</td>\n      <td>...</td>\n      <td>...</td>\n      <td>...</td>\n      <td>...</td>\n      <td>...</td>\n      <td>...</td>\n      <td>...</td>\n      <td>...</td>\n      <td>...</td>\n      <td>...</td>\n      <td>...</td>\n      <td>...</td>\n      <td>...</td>\n      <td>...</td>\n      <td>...</td>\n      <td>...</td>\n      <td>...</td>\n      <td>...</td>\n      <td>...</td>\n      <td>...</td>\n    </tr>\n    <tr>\n      <th>1474554</th>\n      <td>44</td>\n      <td>Z</td>\n      <td>Z</td>\n      <td>ZZZZ</td>\n      <td>Z</td>\n      <td>23</td>\n      <td>24</td>\n      <td>22</td>\n      <td>20</td>\n      <td>1993</td>\n      <td>...</td>\n      <td>Z</td>\n      <td>Z</td>\n      <td>Z</td>\n      <td>Z</td>\n      <td>Z</td>\n      <td>ZZZ</td>\n      <td>ZZ</td>\n      <td>0</td>\n      <td>Z</td>\n      <td>X</td>\n    </tr>\n    <tr>\n      <th>1474555</th>\n      <td>44</td>\n      <td>Z</td>\n      <td>Z</td>\n      <td>ZZZZ</td>\n      <td>Z</td>\n      <td>64</td>\n      <td>64</td>\n      <td>63</td>\n      <td>60</td>\n      <td>1952</td>\n      <td>...</td>\n      <td>Z</td>\n      <td>Z</td>\n      <td>Z</td>\n      <td>Z</td>\n      <td>Z</td>\n      <td>ZZZ</td>\n      <td>ZZ</td>\n      <td>0</td>\n      <td>Z</td>\n      <td>X</td>\n    </tr>\n    <tr>\n      <th>1474556</th>\n      <td>44</td>\n      <td>Z</td>\n      <td>Z</td>\n      <td>ZZZZ</td>\n      <td>Z</td>\n      <td>29</td>\n      <td>29</td>\n      <td>28</td>\n      <td>25</td>\n      <td>1987</td>\n      <td>...</td>\n      <td>Z</td>\n      <td>Z</td>\n      <td>Z</td>\n      <td>Z</td>\n      <td>Z</td>\n      <td>ZZZ</td>\n      <td>ZZ</td>\n      <td>0</td>\n      <td>Z</td>\n      <td>X</td>\n    </tr>\n    <tr>\n      <th>1474557</th>\n      <td>44</td>\n      <td>Z</td>\n      <td>Z</td>\n      <td>ZZZZ</td>\n      <td>Z</td>\n      <td>48</td>\n      <td>54</td>\n      <td>47</td>\n      <td>45</td>\n      <td>1968</td>\n      <td>...</td>\n      <td>Z</td>\n      <td>Z</td>\n      <td>Z</td>\n      <td>Z</td>\n      <td>Z</td>\n      <td>ZZZ</td>\n      <td>ZZ</td>\n      <td>0</td>\n      <td>Z</td>\n      <td>X</td>\n    </tr>\n    <tr>\n      <th>1474558</th>\n      <td>44</td>\n      <td>Z</td>\n      <td>Z</td>\n      <td>ZZZZ</td>\n      <td>Z</td>\n      <td>35</td>\n      <td>39</td>\n      <td>34</td>\n      <td>30</td>\n      <td>1981</td>\n      <td>...</td>\n      <td>Z</td>\n      <td>Z</td>\n      <td>Z</td>\n      <td>Z</td>\n      <td>Z</td>\n      <td>ZZZ</td>\n      <td>ZZ</td>\n      <td>0</td>\n      <td>Z</td>\n      <td>X</td>\n    </tr>\n  </tbody>\n</table>\n<p>1474559 rows × 97 columns</p>\n</div>"
     },
     "execution_count": 1,
     "metadata": {},
     "output_type": "execute_result"
    }
   ],
   "source": [
    "import pandas as pd\n",
    "\n",
    "data = pd.read_csv(\"GrandEst.csv\", sep=';')\n",
    "data"
   ]
  },
  {
   "cell_type": "code",
   "execution_count": 2,
   "outputs": [
    {
     "data": {
      "text/plain": "<AxesSubplot:>"
     },
     "execution_count": 2,
     "metadata": {},
     "output_type": "execute_result"
    },
    {
     "data": {
      "text/plain": "<Figure size 2500x1000 with 2 Axes>",
      "image/png": "[encoded data removed]"
     },
     "metadata": {},
     "output_type": "display_data"
    }
   ],
   "source": [
    "import missingno as mno\n",
    "\n",
    "mno.matrix(data)"
   ],
   "metadata": {
    "collapsed": false,
    "pycharm": {
     "name": "#%%\n"
    }
   }
  },
  {
   "cell_type": "code",
   "execution_count": 3,
   "outputs": [
    {
     "data": {
      "text/plain": "REGION    0\nNUMMR     0\nACHLR     0\nAEMM      0\nAEMMR     0\n         ..\nTYPMD     0\nTYPMR     0\nUR        0\nVOIT      0\nWC        0\nLength: 97, dtype: int64"
     },
     "execution_count": 3,
     "metadata": {},
     "output_type": "execute_result"
    }
   ],
   "source": [
    "data.isnull().sum()"
   ],
   "metadata": {
    "collapsed": false,
    "pycharm": {
     "name": "#%%\n"
    }
   }
  },
  {
   "cell_type": "code",
   "execution_count": 4,
   "outputs": [
    {
     "name": "stdout",
     "output_type": "stream",
     "text": [
      "Numeric Summary:\n",
      "          REGION          AGED        AGER20        AGEREV       AGEREVQ  \\\n",
      "count  1474559.0  1.474559e+06  1.474559e+06  1.474559e+06  1.474559e+06   \n",
      "mean        44.0  4.119959e+01  4.404130e+01  4.025289e+01  3.827333e+01   \n",
      "std          0.0  2.377913e+01  2.466069e+01  2.378251e+01  2.378742e+01   \n",
      "min         44.0  0.000000e+00  2.000000e+00  0.000000e+00  0.000000e+00   \n",
      "25%         44.0  2.100000e+01  2.400000e+01  2.000000e+01  2.000000e+01   \n",
      "50%         44.0  4.100000e+01  5.400000e+01  4.000000e+01  4.000000e+01   \n",
      "75%         44.0  6.000000e+01  6.400000e+01  5.900000e+01  5.500000e+01   \n",
      "max         44.0  1.200000e+02  8.000000e+01  1.200000e+02  1.200000e+02   \n",
      "\n",
      "               ANAI         CATPC        COUPLE           CS1           CS2  \\\n",
      "count  1.474559e+06  1.474559e+06  1.474559e+06  1.474559e+06  1.474559e+06   \n",
      "mean   1.974799e+03  2.357315e-02  1.528884e+00  6.205605e+00  6.534064e+01   \n",
      "std    2.380090e+01  1.706289e-01  4.991652e-01  1.761572e+00  1.737931e+01   \n",
      "min    1.895000e+03  0.000000e+00  1.000000e+00  1.000000e+00  1.000000e+01   \n",
      "25%    1.956000e+03  0.000000e+00  1.000000e+00  5.000000e+00  5.100000e+01   \n",
      "50%    1.975000e+03  0.000000e+00  2.000000e+00  7.000000e+00  7.300000e+01   \n",
      "75%    1.995000e+03  0.000000e+00  2.000000e+00  8.000000e+00  8.200000e+01   \n",
      "max    2.018000e+03  2.000000e+00  2.000000e+00  8.000000e+00  8.200000e+01   \n",
      "\n",
      "       ...          MODV         NAIDT         NAT13          NATC  \\\n",
      "count  ...  1.474559e+06  1.474559e+06  1.474559e+06  1.474559e+06   \n",
      "mean   ...  3.097440e+01  3.740517e+00  5.772180e-01  3.012643e-01   \n",
      "std    ...  1.511382e+01  9.856482e+00  2.053927e+00  9.647405e-01   \n",
      "min    ...  1.100000e+01  0.000000e+00  0.000000e+00  0.000000e+00   \n",
      "25%    ...  1.200000e+01  0.000000e+00  0.000000e+00  0.000000e+00   \n",
      "50%    ...  3.200000e+01  0.000000e+00  0.000000e+00  0.000000e+00   \n",
      "75%    ...  4.000000e+01  0.000000e+00  0.000000e+00  0.000000e+00   \n",
      "max    ...  7.000000e+01  3.000000e+01  1.200000e+01  7.000000e+00   \n",
      "\n",
      "              ORIDT        PNAI12          SEXE          TACT       TACTD16  \\\n",
      "count  1.474559e+06  1.474559e+06  1.474559e+06  1.474559e+06  1.474559e+06   \n",
      "mean   9.357035e-02  1.770051e+00  1.515196e+00  1.703435e+01  1.710142e+02   \n",
      "std    1.125484e+00  2.306216e+00  4.997692e-01  5.612000e+00  5.543946e+01   \n",
      "min    0.000000e+00  1.000000e+00  1.000000e+00  1.100000e+01  1.110000e+02   \n",
      "25%    0.000000e+00  1.000000e+00  1.000000e+00  1.100000e+01  1.110000e+02   \n",
      "50%    0.000000e+00  1.000000e+00  2.000000e+00  2.100000e+01  2.100000e+02   \n",
      "75%    0.000000e+00  1.000000e+00  2.000000e+00  2.200000e+01  2.200000e+02   \n",
      "max    2.100000e+01  1.200000e+01  2.000000e+00  2.500000e+01  2.500000e+02   \n",
      "\n",
      "                 UR  \n",
      "count  1.474559e+06  \n",
      "mean   7.844196e-01  \n",
      "std    4.112245e-01  \n",
      "min    0.000000e+00  \n",
      "25%    1.000000e+00  \n",
      "50%    1.000000e+00  \n",
      "75%    1.000000e+00  \n",
      "max    1.000000e+00  \n",
      "\n",
      "[8 rows x 29 columns]\n",
      "\n",
      "Categorical Summary:\n",
      "          NUMMR    ACHLR     AEMM    AEMMR    ANARR     ANEM    ANEMR  \\\n",
      "count   1474559  1474559  1474559  1474559  1474559  1474559  1474559   \n",
      "unique   672741       15      186       16       11      184       21   \n",
      "top           Z        4     2013        9        Z        1        1   \n",
      "freq      30265   372810   111919  1002377  1293933   167725   320464   \n",
      "\n",
      "           APAF   ARRIVR    ASCEN  ...     SURF       TP    TRANS     TYPC  \\\n",
      "count   1474559  1474559  1474559  ...  1474559  1474559  1474559  1474559   \n",
      "unique       15       10        5  ...       15        3        6       11   \n",
      "top           3        Z        2  ...        5        Z        Z        3   \n",
      "freq     398176  1293933  1201792  ...   363707   888309   888309   613379   \n",
      "\n",
      "          TYPFC     TYPL    TYPMD    TYPMR     VOIT       WC  \n",
      "count   1474559  1474559  1474559  1474559  1474559  1474559  \n",
      "unique        3       12       66       19        9        2  \n",
      "top           2        1      302       41        1        Z  \n",
      "freq     978173   791713   174871   478412   599288  1444294  \n",
      "\n",
      "[4 rows x 68 columns]\n",
      "\n",
      "Unique Values in Categorical Columns:\n",
      "NUMMR    672741\n",
      "ACHLR        15\n",
      "AEMM        186\n",
      "AEMMR        16\n",
      "ANARR        11\n",
      "          ...  \n",
      "TYPL         12\n",
      "TYPMD        66\n",
      "TYPMR        19\n",
      "VOIT          9\n",
      "WC            2\n",
      "Length: 68, dtype: int64\n"
     ]
    }
   ],
   "source": [
    "# Summary statistics for numeric columns\n",
    "numeric_summary = data.describe()\n",
    "\n",
    "# Frequency of unique values in categorical columns\n",
    "categorical_summary = data.describe(include=['object'])\n",
    "\n",
    "# Count missing values in each column\n",
    "missing_values = data.isnull().sum()\n",
    "\n",
    "# Count unique values in each categorical column\n",
    "unique_values = data.select_dtypes(include=['object']).nunique()\n",
    "\n",
    "# # Value counts for a specific categorical column\n",
    "# value_counts = data['categorical_column'].value_counts()\n",
    "\n",
    "# Display the results\n",
    "print(\"Numeric Summary:\")\n",
    "print(numeric_summary)\n",
    "print(\"\\nCategorical Summary:\")\n",
    "print(categorical_summary)\n",
    "\n",
    "print(\"\\nUnique Values in Categorical Columns:\")\n",
    "print(unique_values)\n",
    "# print(\"\\nValue Counts for a Categorical Column:\")\n",
    "# print(value_counts)\n",
    "\n",
    "\n",
    "\n",
    "\n",
    "\n",
    "\n"
   ],
   "metadata": {
    "collapsed": false,
    "pycharm": {
     "name": "#%%\n"
    }
   }
  },
  {
   "cell_type": "code",
   "execution_count": 5,
   "outputs": [
    {
     "data": {
      "text/plain": "count    1474559.0\nmean          44.0\nstd            0.0\nmin           44.0\n25%           44.0\n50%           44.0\n75%           44.0\nmax           44.0\nName: REGION, dtype: float64"
     },
     "execution_count": 5,
     "metadata": {},
     "output_type": "execute_result"
    }
   ],
   "source": [
    "data['REGION'].describe()"
   ],
   "metadata": {
    "collapsed": false,
    "pycharm": {
     "name": "#%%\n"
    }
   }
  },
  {
   "cell_type": "code",
   "execution_count": 7,
   "outputs": [
    {
     "data": {
      "text/plain": "44    1474559\nName: REGION, dtype: int64"
     },
     "execution_count": 7,
     "metadata": {},
     "output_type": "execute_result"
    }
   ],
   "source": [
    "data['REGION'].value_counts()"
   ],
   "metadata": {
    "collapsed": false,
    "pycharm": {
     "name": "#%%\n"
    }
   }
  },
  {
   "cell_type": "code",
   "execution_count": null,
   "outputs": [],
   "source": [],
   "metadata": {
    "collapsed": false,
    "pycharm": {
     "name": "#%%\n"
    }
   }
  }
 ],
 "metadata": {
  "kernelspec": {
   "display_name": "Python 3",
   "language": "python",
   "name": "python3"
  },
  "language_info": {
   "codemirror_mode": {
    "name": "ipython",
    "version": 2
   },
   "file_extension": ".py",
   "mimetype": "text/x-python",
   "name": "python",
   "nbconvert_exporter": "python",
   "pygments_lexer": "ipython2",
   "version": "2.7.6"
  }
 },
 "nbformat": 4,
 "nbformat_minor": 0
}