{
 "cells": [
  {
   "cell_type": "markdown",
   "metadata": {
    "id": "13MFwXs1tpJl",
    "pycharm": {
     "name": "#%% md\n"
    }
   },
   "source": [
    "# Traitement de données TD4\n",
    "\n",
    "Le code pour ce TD est à rendre sur Arche avant le **vendredi 10 novembre 2023** pour les non-alternant·e·s et avant le **vendredi 24 novembre 2023** pour les alternant·e·s. Il sera à rendre sous la forme d'un notebook (.ipynb). Si vous utilisez Google colab, télécharger le fichier .ipynb pour le déposer sur Arche.\n",
    "\n",
    "Les critères d'évaluation incluent la qualité du traitement des données, l'utilisation judicieuse des functions de pandas (et d'autres librairies python si utiles) et la clarté des résultats de l'analyse (c.à.d est-ce que la préparation de vos données vous permet de justifier vos conclusions ?)"
   ]
  },
  {
   "cell_type": "markdown",
   "metadata": {
    "id": "ToGJn_g8u4WZ",
    "pycharm": {
     "name": "#%% md\n"
    }
   },
   "source": [
    "# Données\n",
    "\n",
    "Le fichier à l'adresse https://mdaquin.github.io/d/tdd/colony.csv contient des données sur les colonies de d'abeilles aux états unis, et les pertes de colonies dans les différents états au cours des années 2025 à 2021. Il a été obtenu du [site du derpartement d'agriculture du gouvernement américain](https://usda.library.cornell.edu/concern/publications/rn301137d?locale=en) (USDA). Il contient les colonnes suivante\n",
    "\n",
    " - year :\tl'année\n",
    " - months\t: la période de l'année concernée\n",
    " - state : l'état des états unis (ou \"Other States\") concerné\n",
    " - colony_n : nombre de colonies\n",
    " - colony_max : nombre maximum de colonies dans la période\n",
    " - colony_lost : nombre de colonies perdues\n",
    " - colony_lost_pct : pourcentage des colonies perdues\n",
    " - colony_added : nombre de colonies ajoutées\n",
    " - colony_reno : nombre de colonies rénovées\n",
    " - colony_reno_pct :\tpourcentage des colonies rénovées\n",
    "\n",
    "Un autre fichier est aussi disponible à https://mdaquin.github.io/d/tdd/stressor.csv donnant l'exposition à des éléments pouvant conduire à la perte de colonies dans chaque état à chaque période. Ce jeu de données inclut :\n",
    "\n",
    " - year :\tl'année\n",
    " - months\t: la période de l'année concernée\n",
    " - state : l'état des états unis (ou \"Other States\") concerné\n",
    " - stressor\t: le type de problème\n",
    " - stress_pct : le pourcentage de colonies ayant été affectées par le problème.\n",
    "\n",
    "L'objectif du TD est de comprendre quels facteurs (géographiques, économiques, etc.) influent sur ces les colonies d'abeilles."
   ]
  },
  {
   "cell_type": "markdown",
   "metadata": {
    "id": "nQSsgN-7wG2D",
    "pycharm": {
     "name": "#%% md\n"
    }
   },
   "source": [
    "# Tâches\n",
    "\n",
    "Votre objectif ici est donc d'analyser ces données en relation avec d'autres données que vous trouverez en ligne afin :\n",
    "1. trouver quels sont les problèmes ayant le plus d'influence sur la perte de colonies d'abeilles.\n",
    "2. d'expliquer les différences en nombre de colonies entre états.\n",
    "3. expliquer les différences de pertes de colonies d'une année à l'autre, globalement et état par état.\n",
    "\n",
    "Pour cela, il vous faudra trouver des données supplémentaires, en particulier sur les états. Vous pouvez par exemple en trouver sur le site du [recensement américain](https://www.census.gov/data.html) ou  sur le site du [service national de météorologie américain](https://www.weather.gov/phi/localclimate.html)."
   ]
  },
  {
   "cell_type": "markdown",
   "metadata": {
    "id": "oK1XQljGyLfA",
    "pycharm": {
     "name": "#%% md\n"
    }
   },
   "source": [
    "# Format du rendu\n",
    "\n",
    "Le rendu est demandé sous la forme d'un notebook de façon à ce qu'il puisse jouer le role à la fois de code et de rapport pour votre analyse. Il est important donc d'ajouter des cellules de texte pour, au fur et à mesure du code et des tâches, expliquer votre démarche, vos résultats et vos conclusions.\n",
    "\n",
    "N'hésitez pas aussi à ajouter des commentaires dans le code pour le rendre plus lisible."
   ]
  },
  {
   "cell_type": "code",
   "execution_count": 1822,
   "metadata": {
    "id": "wrNWokE6yp6C",
    "pycharm": {
     "name": "#%%\n"
    }
   },
   "outputs": [
    {
     "data": {
      "text/plain": "      year         months          state               stressor  stress_pct\n0     2015  January-March        Alabama           Varroa mites        10.0\n1     2015  January-March        Alabama  Other pests/parasites         5.4\n2     2015  January-March        Alabama              Disesases         NaN\n3     2015  January-March        Alabama             Pesticides         2.2\n4     2015  January-March        Alabama                  Other         9.1\n...    ...            ...            ...                    ...         ...\n7327  2021     April-June  United States  Other pests/parasites        12.8\n7328  2021     April-June  United States              Disesases         5.5\n7329  2021     April-June  United States             Pesticides        12.3\n7330  2021     April-June  United States                  Other        11.3\n7331  2021     April-June  United States                Unknown         3.9\n\n[7332 rows x 5 columns]",
      "text/html": "<div>\n<style scoped>\n    .dataframe tbody tr th:only-of-type {\n        vertical-align: middle;\n    }\n\n    .dataframe tbody tr th {\n        vertical-align: top;\n    }\n\n    .dataframe thead th {\n        text-align: right;\n    }\n</style>\n<table border=\"1\" class=\"dataframe\">\n  <thead>\n    <tr style=\"text-align: right;\">\n      <th></th>\n      <th>year</th>\n      <th>months</th>\n      <th>state</th>\n      <th>stressor</th>\n      <th>stress_pct</th>\n    </tr>\n  </thead>\n  <tbody>\n    <tr>\n      <th>0</th>\n      <td>2015</td>\n      <td>January-March</td>\n      <td>Alabama</td>\n      <td>Varroa mites</td>\n      <td>10.0</td>\n    </tr>\n    <tr>\n      <th>1</th>\n      <td>2015</td>\n      <td>January-March</td>\n      <td>Alabama</td>\n      <td>Other pests/parasites</td>\n      <td>5.4</td>\n    </tr>\n    <tr>\n      <th>2</th>\n      <td>2015</td>\n      <td>January-March</td>\n      <td>Alabama</td>\n      <td>Disesases</td>\n      <td>NaN</td>\n    </tr>\n    <tr>\n      <th>3</th>\n      <td>2015</td>\n      <td>January-March</td>\n      <td>Alabama</td>\n      <td>Pesticides</td>\n      <td>2.2</td>\n    </tr>\n    <tr>\n      <th>4</th>\n      <td>2015</td>\n      <td>January-March</td>\n      <td>Alabama</td>\n      <td>Other</td>\n      <td>9.1</td>\n    </tr>\n    <tr>\n      <th>...</th>\n      <td>...</td>\n      <td>...</td>\n      <td>...</td>\n      <td>...</td>\n      <td>...</td>\n    </tr>\n    <tr>\n      <th>7327</th>\n      <td>2021</td>\n      <td>April-June</td>\n      <td>United States</td>\n      <td>Other pests/parasites</td>\n      <td>12.8</td>\n    </tr>\n    <tr>\n      <th>7328</th>\n      <td>2021</td>\n      <td>April-June</td>\n      <td>United States</td>\n      <td>Disesases</td>\n      <td>5.5</td>\n    </tr>\n    <tr>\n      <th>7329</th>\n      <td>2021</td>\n      <td>April-June</td>\n      <td>United States</td>\n      <td>Pesticides</td>\n      <td>12.3</td>\n    </tr>\n    <tr>\n      <th>7330</th>\n      <td>2021</td>\n      <td>April-June</td>\n      <td>United States</td>\n      <td>Other</td>\n      <td>11.3</td>\n    </tr>\n    <tr>\n      <th>7331</th>\n      <td>2021</td>\n      <td>April-June</td>\n      <td>United States</td>\n      <td>Unknown</td>\n      <td>3.9</td>\n    </tr>\n  </tbody>\n</table>\n<p>7332 rows × 5 columns</p>\n</div>"
     },
     "execution_count": 1822,
     "metadata": {},
     "output_type": "execute_result"
    }
   ],
   "source": [
    "# commencez ici\n",
    "import pandas as pd\n",
    "\n",
    "perturbation_factor = pd.read_csv('https://mdaquin.github.io/d/tdd/stressor.csv')\n",
    "perturbation_factor"
   ]
  },
  {
   "cell_type": "markdown",
   "metadata": {
    "pycharm": {
     "name": "#%% md\n"
    }
   },
   "source": [
    "Ici, je voudrais de savoir le type de donner pour chaque colonne"
   ]
  },
  {
   "cell_type": "code",
   "execution_count": 1823,
   "metadata": {
    "pycharm": {
     "name": "#%%\n"
    }
   },
   "outputs": [
    {
     "name": "stdout",
     "output_type": "stream",
     "text": [
      "<class 'pandas.core.frame.DataFrame'>\n",
      "RangeIndex: 7332 entries, 0 to 7331\n",
      "Data columns (total 5 columns):\n",
      " #   Column      Non-Null Count  Dtype  \n",
      "---  ------      --------------  -----  \n",
      " 0   year        7332 non-null   int64  \n",
      " 1   months      7332 non-null   object \n",
      " 2   state       7332 non-null   object \n",
      " 3   stressor    7332 non-null   object \n",
      " 4   stress_pct  6489 non-null   float64\n",
      "dtypes: float64(1), int64(1), object(3)\n",
      "memory usage: 286.5+ KB\n"
     ]
    }
   ],
   "source": [
    "perturbation_factor.info()"
   ]
  },
  {
   "cell_type": "markdown",
   "metadata": {
    "pycharm": {
     "name": "#%% md\n"
    }
   },
   "source": [
    "Il me semble que la stress_pct ont des valeurs manques"
   ]
  },
  {
   "cell_type": "code",
   "execution_count": 1824,
   "metadata": {
    "pycharm": {
     "name": "#%%\n"
    }
   },
   "outputs": [
    {
     "data": {
      "text/plain": "<AxesSubplot:>"
     },
     "execution_count": 1824,
     "metadata": {},
     "output_type": "execute_result"
    },
    {
     "data": {
      "text/plain": "<Figure size 2500x1000 with 2 Axes>",
      "image/png": "[encoded data removed]"
     },
     "metadata": {},
     "output_type": "display_data"
    }
   ],
   "source": [
    "import missingno as mno\n",
    "mno.matrix(perturbation_factor)"
   ]
  },
  {
   "cell_type": "markdown",
   "metadata": {
    "pycharm": {
     "name": "#%% md\n"
    }
   },
   "source": [
    "Voici la list des valeurs manques, donc 11% des valeurs sont inconnues :"
   ]
  },
  {
   "cell_type": "code",
   "execution_count": 1825,
   "metadata": {
    "pycharm": {
     "name": "#%%\n"
    }
   },
   "outputs": [
    {
     "data": {
      "text/plain": "      year         months          state               stressor  stress_pct\n2     2015  January-March        Alabama              Disesases         NaN\n9     2015  January-March        Arizona             Pesticides         NaN\n32    2015  January-March    Connecticut              Disesases         NaN\n33    2015  January-March    Connecticut             Pesticides         NaN\n51    2015  January-March         Hawaii             Pesticides         NaN\n...    ...            ...            ...                    ...         ...\n7301  2021     April-June     Washington                Unknown         NaN\n7305  2021     April-June  West Virginia             Pesticides         NaN\n7316  2021     April-June        Wyoming              Disesases         NaN\n7321  2021     April-June   Other States  Other pests/parasites         NaN\n7322  2021     April-June   Other States              Disesases         NaN\n\n[843 rows x 5 columns]",
      "text/html": "<div>\n<style scoped>\n    .dataframe tbody tr th:only-of-type {\n        vertical-align: middle;\n    }\n\n    .dataframe tbody tr th {\n        vertical-align: top;\n    }\n\n    .dataframe thead th {\n        text-align: right;\n    }\n</style>\n<table border=\"1\" class=\"dataframe\">\n  <thead>\n    <tr style=\"text-align: right;\">\n      <th></th>\n      <th>year</th>\n      <th>months</th>\n      <th>state</th>\n      <th>stressor</th>\n      <th>stress_pct</th>\n    </tr>\n  </thead>\n  <tbody>\n    <tr>\n      <th>2</th>\n      <td>2015</td>\n      <td>January-March</td>\n      <td>Alabama</td>\n      <td>Disesases</td>\n      <td>NaN</td>\n    </tr>\n    <tr>\n      <th>9</th>\n      <td>2015</td>\n      <td>January-March</td>\n      <td>Arizona</td>\n      <td>Pesticides</td>\n      <td>NaN</td>\n    </tr>\n    <tr>\n      <th>32</th>\n      <td>2015</td>\n      <td>January-March</td>\n      <td>Connecticut</td>\n      <td>Disesases</td>\n      <td>NaN</td>\n    </tr>\n    <tr>\n      <th>33</th>\n      <td>2015</td>\n      <td>January-March</td>\n      <td>Connecticut</td>\n      <td>Pesticides</td>\n      <td>NaN</td>\n    </tr>\n    <tr>\n      <th>51</th>\n      <td>2015</td>\n      <td>January-March</td>\n      <td>Hawaii</td>\n      <td>Pesticides</td>\n      <td>NaN</td>\n    </tr>\n    <tr>\n      <th>...</th>\n      <td>...</td>\n      <td>...</td>\n      <td>...</td>\n      <td>...</td>\n      <td>...</td>\n    </tr>\n    <tr>\n      <th>7301</th>\n      <td>2021</td>\n      <td>April-June</td>\n      <td>Washington</td>\n      <td>Unknown</td>\n      <td>NaN</td>\n    </tr>\n    <tr>\n      <th>7305</th>\n      <td>2021</td>\n      <td>April-June</td>\n      <td>West Virginia</td>\n      <td>Pesticides</td>\n      <td>NaN</td>\n    </tr>\n    <tr>\n      <th>7316</th>\n      <td>2021</td>\n      <td>April-June</td>\n      <td>Wyoming</td>\n      <td>Disesases</td>\n      <td>NaN</td>\n    </tr>\n    <tr>\n      <th>7321</th>\n      <td>2021</td>\n      <td>April-June</td>\n      <td>Other States</td>\n      <td>Other pests/parasites</td>\n      <td>NaN</td>\n    </tr>\n    <tr>\n      <th>7322</th>\n      <td>2021</td>\n      <td>April-June</td>\n      <td>Other States</td>\n      <td>Disesases</td>\n      <td>NaN</td>\n    </tr>\n  </tbody>\n</table>\n<p>843 rows × 5 columns</p>\n</div>"
     },
     "execution_count": 1825,
     "metadata": {},
     "output_type": "execute_result"
    }
   ],
   "source": [
    "rows_with_missing_values = perturbation_factor[perturbation_factor.stress_pct.isna()]\n",
    "rows_with_missing_values"
   ]
  },
  {
   "cell_type": "code",
   "execution_count": 1826,
   "metadata": {
    "pycharm": {
     "name": "#%%\n"
    }
   },
   "outputs": [
    {
     "data": {
      "text/plain": "0.11497545008183306"
     },
     "execution_count": 1826,
     "metadata": {},
     "output_type": "execute_result"
    }
   ],
   "source": [
    "perturbation_factor.stress_pct.isna().sum()/len(perturbation_factor)"
   ]
  },
  {
   "cell_type": "markdown",
   "metadata": {
    "pycharm": {
     "name": "#%% md\n"
    }
   },
   "source": [
    "Maintenance, je voudrais de savoir s'il y a des indices pour les récupérer, je vais essayer de savoir s'il est possible récupérer\n",
    "Et si possible, dans quel sens et quelle sont les conséquences sur la résulta"
   ]
  },
  {
   "cell_type": "markdown",
   "metadata": {
    "pycharm": {
     "name": "#%% md\n"
    }
   },
   "source": [
    "Je prendre un exemple de l'etat de Arkansas:"
   ]
  },
  {
   "cell_type": "code",
   "execution_count": 1827,
   "metadata": {
    "pycharm": {
     "name": "#%%\n"
    }
   },
   "outputs": [
    {
     "data": {
      "text/plain": "      year         months     state               stressor  stress_pct\n12    2015  January-March  Arkansas           Varroa mites        17.6\n13    2015  January-March  Arkansas  Other pests/parasites        11.4\n14    2015  January-March  Arkansas              Disesases         1.5\n15    2015  January-March  Arkansas             Pesticides         3.4\n16    2015  January-March  Arkansas                  Other         1.0\n...    ...            ...       ...                    ...         ...\n7063  2021     April-June  Arkansas  Other pests/parasites        23.0\n7064  2021     April-June  Arkansas              Disesases         5.9\n7065  2021     April-June  Arkansas             Pesticides         2.9\n7066  2021     April-June  Arkansas                  Other         2.1\n7067  2021     April-June  Arkansas                Unknown         3.7\n\n[156 rows x 5 columns]",
      "text/html": "<div>\n<style scoped>\n    .dataframe tbody tr th:only-of-type {\n        vertical-align: middle;\n    }\n\n    .dataframe tbody tr th {\n        vertical-align: top;\n    }\n\n    .dataframe thead th {\n        text-align: right;\n    }\n</style>\n<table border=\"1\" class=\"dataframe\">\n  <thead>\n    <tr style=\"text-align: right;\">\n      <th></th>\n      <th>year</th>\n      <th>months</th>\n      <th>state</th>\n      <th>stressor</th>\n      <th>stress_pct</th>\n    </tr>\n  </thead>\n  <tbody>\n    <tr>\n      <th>12</th>\n      <td>2015</td>\n      <td>January-March</td>\n      <td>Arkansas</td>\n      <td>Varroa mites</td>\n      <td>17.6</td>\n    </tr>\n    <tr>\n      <th>13</th>\n      <td>2015</td>\n      <td>January-March</td>\n      <td>Arkansas</td>\n      <td>Other pests/parasites</td>\n      <td>11.4</td>\n    </tr>\n    <tr>\n      <th>14</th>\n      <td>2015</td>\n      <td>January-March</td>\n      <td>Arkansas</td>\n      <td>Disesases</td>\n      <td>1.5</td>\n    </tr>\n    <tr>\n      <th>15</th>\n      <td>2015</td>\n      <td>January-March</td>\n      <td>Arkansas</td>\n      <td>Pesticides</td>\n      <td>3.4</td>\n    </tr>\n    <tr>\n      <th>16</th>\n      <td>2015</td>\n      <td>January-March</td>\n      <td>Arkansas</td>\n      <td>Other</td>\n      <td>1.0</td>\n    </tr>\n    <tr>\n      <th>...</th>\n      <td>...</td>\n      <td>...</td>\n      <td>...</td>\n      <td>...</td>\n      <td>...</td>\n    </tr>\n    <tr>\n      <th>7063</th>\n      <td>2021</td>\n      <td>April-June</td>\n      <td>Arkansas</td>\n      <td>Other pests/parasites</td>\n      <td>23.0</td>\n    </tr>\n    <tr>\n      <th>7064</th>\n      <td>2021</td>\n      <td>April-June</td>\n      <td>Arkansas</td>\n      <td>Disesases</td>\n      <td>5.9</td>\n    </tr>\n    <tr>\n      <th>7065</th>\n      <td>2021</td>\n      <td>April-June</td>\n      <td>Arkansas</td>\n      <td>Pesticides</td>\n      <td>2.9</td>\n    </tr>\n    <tr>\n      <th>7066</th>\n      <td>2021</td>\n      <td>April-June</td>\n      <td>Arkansas</td>\n      <td>Other</td>\n      <td>2.1</td>\n    </tr>\n    <tr>\n      <th>7067</th>\n      <td>2021</td>\n      <td>April-June</td>\n      <td>Arkansas</td>\n      <td>Unknown</td>\n      <td>3.7</td>\n    </tr>\n  </tbody>\n</table>\n<p>156 rows × 5 columns</p>\n</div>"
     },
     "execution_count": 1827,
     "metadata": {},
     "output_type": "execute_result"
    }
   ],
   "source": [
    "fl = perturbation_factor[(perturbation_factor['state'] == \"Arkansas\")]\n",
    "fl"
   ]
  },
  {
   "cell_type": "markdown",
   "metadata": {
    "pycharm": {
     "name": "#%% md\n"
    }
   },
   "source": [
    "J'ai choisi Varroa mites et Pesticides pour examiner :"
   ]
  },
  {
   "cell_type": "code",
   "execution_count": 1828,
   "metadata": {
    "pycharm": {
     "name": "#%%\n"
    }
   },
   "outputs": [
    {
     "data": {
      "text/plain": "<Figure size 1000x600 with 1 Axes>",
      "image/png": "[encoded data removed]"
     },
     "metadata": {},
     "output_type": "display_data"
    }
   ],
   "source": [
    "import seaborn as sns\n",
    "from matplotlib import pyplot as plt\n",
    "\n",
    "fl_1 = fl[fl.stressor == \"Varroa mites\"]\n",
    "\n",
    "# Create a line plot for the filtered data\n",
    "plt.figure(figsize=(10, 6))\n",
    "sns.lineplot(data=fl_1, x='months', y='stress_pct', hue='year', marker='o', palette='Set1')\n",
    "plt.xlabel('Month')\n",
    "plt.ylabel('Stress Percentage')\n",
    "plt.title('Stress Percentage Over Time by Year')\n",
    "plt.xticks(rotation=45)\n",
    "plt.legend(title='Year', bbox_to_anchor=(1.05, 1), loc='upper left')\n",
    "plt.grid(True)\n",
    "plt.show()"
   ]
  },
  {
   "cell_type": "code",
   "execution_count": 1829,
   "metadata": {
    "pycharm": {
     "name": "#%%\n"
    }
   },
   "outputs": [
    {
     "data": {
      "text/plain": "<Figure size 1000x600 with 1 Axes>",
      "image/png": "[encoded data removed]"
     },
     "metadata": {},
     "output_type": "display_data"
    }
   ],
   "source": [
    "fl_2 = fl[fl.stressor == \"Disesases\"]\n",
    "\n",
    "# Create a line plot for the filtered data\n",
    "plt.figure(figsize=(10, 6))\n",
    "sns.lineplot(data=fl_2, x='months', y='stress_pct', hue='year', marker='o', palette='Set1')\n",
    "plt.xlabel('Month')\n",
    "plt.ylabel('Stress Percentage')\n",
    "plt.title('Stress Percentage Over Time by Year')\n",
    "plt.xticks(rotation=45)\n",
    "plt.legend(title='Year', bbox_to_anchor=(1.05, 1), loc='upper left')\n",
    "plt.grid(True)\n",
    "plt.show()"
   ]
  },
  {
   "cell_type": "markdown",
   "metadata": {
    "pycharm": {
     "name": "#%% md\n"
    }
   },
   "source": [
    "Nous pouvons voir que les valuers present dans une manière aléatoire. Il n'y a pas un tendance entre les mois, entre l'année. Donc, essayer de récupére les données en utilisant la sense de chronologique n'est pas une bonne idée."
   ]
  },
  {
   "cell_type": "markdown",
   "metadata": {
    "pycharm": {
     "name": "#%% md\n"
    }
   },
   "source": [
    "Maintenaint, je vais examiner la somme de pourcentage par ans (entre un facteur seulement) et par mois (entre les facteurs dans un period) :"
   ]
  },
  {
   "cell_type": "code",
   "execution_count": 1830,
   "metadata": {
    "pycharm": {
     "name": "#%%\n"
    }
   },
   "outputs": [
    {
     "data": {
      "text/plain": "190.79999999999998"
     },
     "execution_count": 1830,
     "metadata": {},
     "output_type": "execute_result"
    }
   ],
   "source": [
    "total = perturbation_factor[(perturbation_factor['year'] == 2015) & (perturbation_factor['state'] == \"Arkansas\") & (perturbation_factor['stressor'] == \"Varroa mites\")]['stress_pct'].sum()\n",
    "total"
   ]
  },
  {
   "cell_type": "code",
   "execution_count": 1831,
   "metadata": {
    "pycharm": {
     "name": "#%%\n"
    }
   },
   "outputs": [
    {
     "data": {
      "text/plain": "195.60000000000002"
     },
     "execution_count": 1831,
     "metadata": {},
     "output_type": "execute_result"
    }
   ],
   "source": [
    "total = perturbation_factor[(perturbation_factor['year'] == 2015) & (perturbation_factor['state'] == \"Arkansas\") & (perturbation_factor['months'] == \"April-June\")]['stress_pct'].sum()\n",
    "total"
   ]
  },
  {
   "cell_type": "markdown",
   "source": [
    "Les valeurs totals dans les deux cas dépasser 100%, donc les pourcentages est fait pas au niveau de chaque année. Pour un period, il est possible d'avoir multiples facteurs de perturbations."
   ],
   "metadata": {
    "collapsed": false,
    "pycharm": {
     "name": "#%% md\n"
    }
   }
  },
  {
   "cell_type": "markdown",
   "source": [
    "Pour les valeurs manquantes, je décide de ne pas les re-constrituer à partir des données existants. Je vais regarder la deuxième jeu donnée"
   ],
   "metadata": {
    "collapsed": false,
    "pycharm": {
     "name": "#%% md\n"
    }
   }
  },
  {
   "cell_type": "code",
   "execution_count": null,
   "outputs": [],
   "source": [
    "abey_colonie = pd.read_csv('https://mdaquin.github.io/d/tdd/colony.csv')"
   ],
   "metadata": {
    "collapsed": false,
    "pycharm": {
     "name": "#%%\n"
    }
   }
  },
  {
   "cell_type": "code",
   "execution_count": null,
   "outputs": [],
   "source": [
    "abey_colonie"
   ],
   "metadata": {
    "collapsed": false,
    "pycharm": {
     "name": "#%%\n"
    }
   }
  },
  {
   "cell_type": "markdown",
   "source": [],
   "metadata": {
    "collapsed": false,
    "pycharm": {
     "name": "#%% md\n"
    }
   }
  },
  {
   "cell_type": "code",
   "execution_count": null,
   "outputs": [],
   "source": [
    "import missingno as mno\n",
    "mno.matrix(abey_colonie)"
   ],
   "metadata": {
    "collapsed": false,
    "pycharm": {
     "name": "#%%\n"
    }
   }
  },
  {
   "cell_type": "code",
   "execution_count": null,
   "outputs": [],
   "source": [
    "rows_with_missing_values = abey_colonie[abey_colonie.colony_n.isna()]\n",
    "rows_with_missing_values"
   ],
   "metadata": {
    "collapsed": false,
    "pycharm": {
     "name": "#%%\n"
    }
   }
  },
  {
   "cell_type": "code",
   "execution_count": null,
   "outputs": [],
   "source": [
    "abey_colonie = abey_colonie[~((abey_colonie['year'] == 2019) & (abey_colonie['months'] == \"April-June\"))]"
   ],
   "metadata": {
    "collapsed": false,
    "pycharm": {
     "name": "#%%\n"
    }
   }
  },
  {
   "cell_type": "code",
   "execution_count": null,
   "outputs": [],
   "source": [
    "abey_colonie['colony_max'].fillna(abey_colonie['colony_n'] + abey_colonie['colony_added'], inplace=True)"
   ],
   "metadata": {
    "collapsed": false,
    "pycharm": {
     "name": "#%%\n"
    }
   }
  },
  {
   "cell_type": "code",
   "execution_count": null,
   "outputs": [],
   "source": [
    "abey_colonie['colony_added'].fillna(abey_colonie['colony_max'] - abey_colonie['colony_n'], inplace=True)"
   ],
   "metadata": {
    "collapsed": false,
    "pycharm": {
     "name": "#%%\n"
    }
   }
  },
  {
   "cell_type": "code",
   "execution_count": null,
   "outputs": [],
   "source": [
    "abey_colonie['colony_lost_pct'].fillna((abey_colonie['colony_lost']/abey_colonie['colony_max'])*100, inplace=True)"
   ],
   "metadata": {
    "collapsed": false,
    "pycharm": {
     "name": "#%%\n"
    }
   }
  },
  {
   "cell_type": "code",
   "execution_count": null,
   "outputs": [],
   "source": [
    "abey_colonie['colony_reno'] = abey_colonie.apply(lambda row: (row['colony_reno_pct'] / 100) * row['colony_max'] if pd.isna(row['colony_reno']) and not pd.isna(row['colony_reno_pct']) else row['colony_reno'], axis=1)"
   ],
   "metadata": {
    "collapsed": false,
    "pycharm": {
     "name": "#%%\n"
    }
   }
  },
  {
   "cell_type": "code",
   "execution_count": null,
   "outputs": [],
   "source": [
    "abey_colonie['colony_reno_pct'] = abey_colonie.apply(lambda row: (row['colony_reno'] / row['colony_max']) * 100 if pd.isna(row['colony_reno_pct']) and not pd.isna(row['colony_reno']) else row['colony_reno_pct'], axis=1)"
   ],
   "metadata": {
    "collapsed": false,
    "pycharm": {
     "name": "#%%\n"
    }
   }
  },
  {
   "cell_type": "code",
   "execution_count": null,
   "outputs": [],
   "source": [
    "mno.matrix(abey_colonie)"
   ],
   "metadata": {
    "collapsed": false,
    "pycharm": {
     "name": "#%%\n"
    }
   }
  },
  {
   "cell_type": "code",
   "execution_count": null,
   "outputs": [],
   "source": [
    "rows_with_missing_values = abey_colonie[(abey_colonie.colony_reno.isna())]\n",
    "rows_with_missing_values"
   ],
   "metadata": {
    "collapsed": false,
    "pycharm": {
     "name": "#%%\n"
    }
   }
  },
  {
   "cell_type": "code",
   "execution_count": null,
   "outputs": [],
   "source": [
    "# abey_colonie['colony_reno'].fillna(0, inplace=True)"
   ],
   "metadata": {
    "collapsed": false,
    "pycharm": {
     "name": "#%%\n"
    }
   }
  },
  {
   "cell_type": "code",
   "execution_count": null,
   "outputs": [],
   "source": [
    "perturbation_factor = perturbation_factor[~((perturbation_factor['year'] == 2019) & (perturbation_factor['months'] == \"April-June\"))]"
   ],
   "metadata": {
    "collapsed": false,
    "pycharm": {
     "name": "#%%\n"
    }
   }
  },
  {
   "cell_type": "code",
   "execution_count": null,
   "outputs": [],
   "source": [
    "perturbation_factor['stress_pct'].fillna(0,inplace=True)"
   ],
   "metadata": {
    "collapsed": false,
    "pycharm": {
     "name": "#%%\n"
    }
   }
  },
  {
   "cell_type": "code",
   "execution_count": null,
   "outputs": [],
   "source": [
    "# Pivot the DataFrame to create separate columns for each stressor\n",
    "perturbation_factor = perturbation_factor.pivot(index=['year', 'months', 'state'], columns='stressor')['stress_pct'].reset_index()\n",
    "\n",
    "# Reset the column names\n",
    "perturbation_factor.columns.name = None"
   ],
   "metadata": {
    "collapsed": false,
    "pycharm": {
     "name": "#%%\n"
    }
   }
  },
  {
   "cell_type": "code",
   "execution_count": null,
   "outputs": [],
   "source": [
    "# Calculate the mean colony loss for each factor\n",
    "mean_varroa_mites_loss = perturbation_factor['Varroa mites'].mean()\n",
    "mean_other_pests_loss = perturbation_factor['Other pests/parasites'].mean()\n",
    "mean_diseases_loss = perturbation_factor['Disesases'].mean()\n",
    "mean_pesticides_loss = perturbation_factor['Pesticides'].mean()\n",
    "mean_other_loss = perturbation_factor['Other'].mean()\n",
    "mean_unknown_loss = perturbation_factor['Unknown'].mean()\n",
    "\n",
    "# Create a DataFrame to store mean colony loss for each factor\n",
    "mean_loss = pd.DataFrame()\n",
    "\n",
    "# Calculate the mean colony loss for each problem or stressor factor\n",
    "mean_loss['Factor'] = ['Varroa mites', 'Other pests/parasites', 'Diseases', 'Pesticides', 'Other', 'Unknown']\n",
    "mean_loss['Mean Colony Loss'] = [mean_varroa_mites_loss, mean_other_pests_loss, mean_diseases_loss, mean_pesticides_loss, mean_other_loss, mean_unknown_loss]\n",
    "\n",
    "# Print the mean colony loss for each factor\n",
    "print(\"Mean Colony Loss for Varroa Mites:\", mean_varroa_mites_loss)\n",
    "print(\"Mean Colony Loss for Other Pests/Parasites:\", mean_other_pests_loss)\n",
    "print(\"Mean Colony Loss for Diseases:\", mean_diseases_loss)\n",
    "print(\"Mean Colony Loss for Pesticides:\", mean_pesticides_loss)\n",
    "print(\"Mean Colony Loss for Other:\", mean_other_loss)\n",
    "print(\"Mean Colony Loss for Unknown:\", mean_unknown_loss)"
   ],
   "metadata": {
    "collapsed": false,
    "pycharm": {
     "name": "#%%\n"
    }
   }
  },
  {
   "cell_type": "code",
   "execution_count": null,
   "outputs": [],
   "source": [
    "# Create a bar plot to visualize the mean colony loss for each factor\n",
    "plt.figure(figsize=(10, 6))\n",
    "plt.bar(mean_loss['Factor'], mean_loss['Mean Colony Loss'], color='skyblue')\n",
    "plt.xlabel('Problem or Stressor Factor')\n",
    "plt.ylabel('Mean Colony Loss')\n",
    "plt.title('Mean Colony Loss by Problem or Stressor Factor')\n",
    "plt.xticks(rotation=45, ha='right')  # Rotate x-axis labels for readability\n",
    "plt.show()"
   ],
   "metadata": {
    "collapsed": false,
    "pycharm": {
     "name": "#%%\n"
    }
   }
  },
  {
   "cell_type": "code",
   "execution_count": null,
   "outputs": [],
   "source": [
    "# Create data distributions and box plots for each factor\n",
    "factors = ['Varroa mites', 'Other pests/parasites', 'Disesases', 'Pesticides', 'Other', 'Unknown']\n",
    "\n",
    "for factor in factors:\n",
    "    plt.figure(figsize=(10, 6))\n",
    "    subset = factor\n",
    "\n",
    "    # Data Distribution (Histogram)\n",
    "    plt.subplot(1, 2, 1)\n",
    "    plt.hist(perturbation_factor[subset], bins=20, color='blue', alpha=0.7)\n",
    "    plt.xlabel('Colony Lost')\n",
    "    plt.ylabel('Frequency')\n",
    "    plt.title(f'Distribution of Colony Loss for {factor}')\n",
    "\n",
    "    # Box Plot\n",
    "    plt.subplot(1, 2, 2)\n",
    "    sns.boxplot(y=perturbation_factor[subset], color='red')\n",
    "    plt.title(f'Box Plot of Colony Loss for {factor}')\n",
    "\n",
    "    plt.show()\n",
    "\n",
    "    plt.show()"
   ],
   "metadata": {
    "collapsed": false,
    "pycharm": {
     "name": "#%%\n"
    }
   }
  },
  {
   "cell_type": "code",
   "execution_count": null,
   "outputs": [],
   "source": [
    "# Group by 'state,' 'year,'\n",
    "abey_colonie_filter_by_year = abey_colonie.groupby(['state', 'year']).agg({\n",
    "    'colony_n': 'mean',\n",
    "    'colony_max': 'max',  # Take the maximum value of a year\n",
    "    'colony_lost': 'sum',\n",
    "    'colony_lost_pct': 'mean',\n",
    "    'colony_added': 'sum'\n",
    "}).reset_index()\n",
    "abey_colonie_filter_by_year_no_us = abey_colonie_filter_by_year[abey_colonie_filter_by_year['state'] != 'United States']\n",
    "\n",
    "# Create an empty DataFrame to store the results\n",
    "top10_lost_by_year = pd.DataFrame()\n",
    "top10_max_by_year = pd.DataFrame()\n",
    "\n",
    "for year in abey_colonie_filter_by_year['year'].unique():\n",
    "    # Filter the DataFrame for the current year, sort it, and take the top 5 rows\n",
    "    top5 = abey_colonie_filter_by_year[abey_colonie_filter_by_year['year'] == year].sort_values(by='colony_lost_pct', ascending=False).head(10)\n",
    "\n",
    "    # Create a new column with the year as the column name and populate it with state values\n",
    "    top10_lost_by_year[str(year)] = top5['state'].tolist()\n",
    "\n",
    "    # Filter the DataFrame for the current year, sort it, and take the top 5 rows\n",
    "    top5 = abey_colonie_filter_by_year[abey_colonie_filter_by_year['year'] == year].sort_values(by='colony_max', ascending=False).head(11)\n",
    "\n",
    "    # Create a new column with the year as the column name and populate it with state values\n",
    "    top10_max_by_year[str(year)] = top5['state'].tolist()\n",
    "\n",
    "top10_max_by_year = top10_max_by_year.drop(0)\n",
    "top10_lost_by_year"
   ],
   "metadata": {
    "collapsed": false,
    "pycharm": {
     "name": "#%%\n"
    }
   }
  },
  {
   "cell_type": "code",
   "execution_count": null,
   "outputs": [],
   "source": [
    "for year in abey_colonie_filter_by_year['year'].unique():\n",
    "    # Calculate the national total for the specific year\n",
    "    national_total_max = abey_colonie_filter_by_year[(abey_colonie_filter_by_year['year'] == year) & (abey_colonie_filter_by_year['state'] == 'United States')]['colony_max'].values[0]\n",
    "    national_total_lost = abey_colonie_filter_by_year[(abey_colonie_filter_by_year['year'] == year) & (abey_colonie_filter_by_year['state'] == 'United States')]['colony_lost'].values[0]\n",
    "\n",
    "    # Filter the DataFrame for the specific year\n",
    "    year_mask = abey_colonie_filter_by_year['year'] == year\n",
    "\n",
    "    # Filter out 'United States' from the DataFrame for the pie chart\n",
    "    data_max = abey_colonie_filter_by_year.loc[year_mask & (abey_colonie_filter_by_year['state'] != 'United States')]\n",
    "    data_lost = abey_colonie_filter_by_year.loc[year_mask & (abey_colonie_filter_by_year['state'] != 'United States')]\n",
    "\n",
    "    # Calculate the proportions of colony_max and colony_lost for each state compared to the national totals\n",
    "    data_max['proportion'] = data_max['colony_max'] / national_total_max\n",
    "    data_lost['proportion'] = data_lost['colony_lost'] / national_total_lost\n",
    "\n",
    "    # Filter out slices with small proportions (e.g., less than 1%)\n",
    "    min_proportion = 0.01\n",
    "    data_max = data_max[data_max['proportion'] >= min_proportion]\n",
    "    data_lost = data_lost[data_lost['proportion'] >= min_proportion]\n",
    "\n",
    "    # Create subplots with two pie charts side by side\n",
    "    fig, axes = plt.subplots(1, 2, figsize=(14, 6))\n",
    "\n",
    "    # Create the first pie chart for colony_max\n",
    "    ax1 = axes[0]\n",
    "    labels_max = data_max['state']\n",
    "    proportions_max = data_max['proportion']\n",
    "    ax1.pie(proportions_max, labels=labels_max, autopct='%1.1f%%', startangle=140, labeldistance=1.05)\n",
    "    ax1.set_title(f'Colony Max Proportion by State ({year})')\n",
    "    ax1.axis('equal')  # Equal aspect ratio ensures that pie is drawn as a circle.\n",
    "\n",
    "    # Create the second pie chart for colony_lost\n",
    "    ax2 = axes[1]\n",
    "    labels_lost = data_lost['state']\n",
    "    proportions_lost = data_lost['proportion']\n",
    "    ax2.pie(proportions_lost, labels=labels_lost, autopct='%1.1f%%', startangle=140, labeldistance=1.05)\n",
    "    ax2.set_title(f'Colony Lost Proportion by State ({year})')\n",
    "    ax2.axis('equal')  # Equal aspect ratio ensures that pie is drawn as a circle.\n",
    "\n",
    "    # Display the pie charts\n",
    "    plt.tight_layout()\n",
    "    plt.show()\n"
   ],
   "metadata": {
    "collapsed": false,
    "pycharm": {
     "name": "#%%\n"
    }
   }
  },
  {
   "cell_type": "code",
   "execution_count": null,
   "outputs": [],
   "source": [
    "# Group by 'state,' 'year,'\n",
    "abey_colonie_filter_by_month = abey_colonie.groupby(['state', 'months']).agg({\n",
    "    'colony_max': 'mean',  # Take the minimum value of a year\n",
    "    'colony_lost': 'mean',\n",
    "    'colony_lost_pct': 'mean',\n",
    "    'colony_added': 'mean'\n",
    "}).reset_index()\n",
    "\n",
    "abey_colonie_filter_by_month_no_us = abey_colonie_filter_by_month[abey_colonie_filter_by_month['state'] != 'United States']\n",
    "\n",
    "# abey_colonie_filter_by_month['colony_lost_pct'] = (abey_colonie_filter_by_month['colony_lost']/abey_colonie_filter_by_month['colony_max'])*100\n",
    "\n",
    "# Create an empty DataFrame to store the results\n",
    "top10_by_month = pd.DataFrame()\n",
    "\n",
    "for month in abey_colonie_filter_by_month['months'].unique():\n",
    "    # Filter the DataFrame for the current year, sort it, and take the top 5 rows\n",
    "    top5 = abey_colonie_filter_by_month_no_us[abey_colonie_filter_by_month_no_us['months'] == month].sort_values(by='colony_lost_pct', ascending=False).head(5)\n",
    "\n",
    "    # Create a new column with the year as the column name and populate it with state values\n",
    "    top10_by_month[str(month)] = top5['state'].tolist()\n",
    "\n",
    "# top5_by_month = top5_by_month.drop(top5_by_month.index[0]).reset_index(drop=True)\n",
    "top10_by_month = top10_by_month[['January-March', 'April-June', 'July-September', 'October-December']]\n",
    "top10_by_month"
   ],
   "metadata": {
    "collapsed": false,
    "pycharm": {
     "name": "#%%\n"
    }
   }
  },
  {
   "cell_type": "code",
   "execution_count": null,
   "outputs": [],
   "source": [
    "import matplotlib.pyplot as plt\n",
    "\n",
    "# Create a list of states including 'United States'\n",
    "states = abey_colonie_filter_by_month['state'].unique()\n",
    "\n",
    "# Define the custom order for months\n",
    "custom_order = ['January-March', 'April-June', 'July-September', 'October-December']\n",
    "\n",
    "# Order the DataFrame by the custom order for months\n",
    "abey_colonie_filter_by_month['months'] = pd.Categorical(abey_colonie_filter_by_month['months'], categories=custom_order, ordered=True)\n",
    "abey_colonie_filter_by_month = abey_colonie_filter_by_month.sort_values(['months'])\n",
    "\n",
    "# Filter out 'United States' data for the total line\n",
    "us_data = abey_colonie_filter_by_month[abey_colonie_filter_by_month['state'] == 'United States']\n",
    "\n",
    "# Set up the figure and axis\n",
    "fig, ax = plt.subplots(figsize=(12, 8))\n",
    "\n",
    "# Iterate through the states to create lines\n",
    "for state in states:\n",
    "    if state == 'United States':\n",
    "        # Plot 'United States' as a separate line\n",
    "        ax.plot(us_data['months'], us_data['colony_max'], label=state, linestyle='--', linewidth=2, marker='o', markersize=6)\n",
    "    else:\n",
    "        # Filter data for the current state\n",
    "        state_data = abey_colonie_filter_by_month[abey_colonie_filter_by_month['state'] == state]\n",
    "        ax.plot(state_data['months'], state_data['colony_max'], label=state, marker='o', markersize=6)\n",
    "\n",
    "# Customize the plot\n",
    "ax.set_xlabel('Months')\n",
    "ax.set_ylabel('Colony Max')\n",
    "ax.set_title('Colony Max by State and United States')\n",
    "\n",
    "# Set the x-axis ticks and labels in the custom order\n",
    "ax.set_xticks(custom_order)\n",
    "ax.set_xticklabels(custom_order)\n",
    "\n",
    "# Place the legend horizontally and under the plot\n",
    "ax.legend(loc='upper center', bbox_to_anchor=(0.5, -0.2), ncol=3)\n",
    "\n",
    "# Show the plot\n",
    "plt.show()"
   ],
   "metadata": {
    "collapsed": false,
    "pycharm": {
     "name": "#%%\n"
    }
   }
  },
  {
   "cell_type": "code",
   "execution_count": null,
   "outputs": [],
   "source": [
    "import pandas as pd\n",
    "\n",
    "# Pivot the DataFrame to create separate columns for each month's colony_max\n",
    "pivoted_df = abey_colonie_filter_by_month.pivot(index='state', columns='months', values='colony_max').reset_index()\n",
    "\n",
    "# Rename the columns for clarity\n",
    "pivoted_df.columns = ['state', 'January-March', 'April-June', 'July-September', 'October-December']\n",
    "\n",
    "# Calculate and add a new column for states where 'April-June' colony_max is smaller than 'January-March'\n",
    "pivoted_df['April-June < January-March'] = (pivoted_df['April-June'] < pivoted_df['January-March'])\n",
    "\n",
    "# Define the custom order for months\n",
    "custom_order = ['January-March', 'April-June', 'July-September', 'October-December']\n",
    "\n",
    "# Order the DataFrame by the custom order for months\n",
    "abey_colonie_filter_by_month['months'] = pd.Categorical(abey_colonie_filter_by_month['months'], categories=custom_order, ordered=True)\n",
    "abey_colonie_filter_by_month = abey_colonie_filter_by_month.sort_values(['months'])\n",
    "\n",
    "#Filtering states\n",
    "pivoted_df = pivoted_df[pivoted_df['April-June < January-March'] == True]\n",
    "states = pivoted_df['state'].unique()\n",
    "\n",
    "# Clear the current figure\n",
    "plt.clf()\n",
    "\n",
    "# Set up the figure and axis\n",
    "fig, ax = plt.subplots(figsize=(12, 8))\n",
    "\n",
    "# Iterate through the states to create lines\n",
    "for state in states:\n",
    "    # Filter data for the current state\n",
    "    state_data = abey_colonie_filter_by_month[abey_colonie_filter_by_month['state'] == state]\n",
    "    ax.plot(state_data['months'], state_data['colony_max'], label=state, marker='o', markersize=6)\n",
    "\n",
    "# Customize the plot\n",
    "ax.set_xlabel('Months')\n",
    "ax.set_ylabel('Colony Max')\n",
    "ax.set_title('Colony Max by State')\n",
    "\n",
    "# Set the x-axis ticks and labels in the custom order\n",
    "ax.set_xticks(custom_order)\n",
    "ax.set_xticklabels(custom_order)\n",
    "\n",
    "# Place the legend horizontally and under the plot\n",
    "ax.legend(loc='upper center', bbox_to_anchor=(0.5, -0.2), ncol=3)\n",
    "\n",
    "# Show the plot\n",
    "plt.show()"
   ],
   "metadata": {
    "collapsed": false,
    "pycharm": {
     "name": "#%%\n"
    }
   }
  },
  {
   "cell_type": "code",
   "execution_count": null,
   "outputs": [],
   "source": [
    "# Pivot the DataFrame to create separate columns for each month's colony_max\n",
    "pivoted_df = abey_colonie.drop(['colony_n','colony_lost','colony_lost_pct','colony_added','colony_reno','colony_reno_pct'], axis=1)\n",
    "pivoted_df = pivoted_df.pivot(index=['state', 'year'], columns='months', values='colony_max').reset_index()\n",
    "pivoted_df[pivoted_df['year'] == 2019]"
   ],
   "metadata": {
    "collapsed": false,
    "pycharm": {
     "name": "#%%\n"
    }
   }
  },
  {
   "cell_type": "code",
   "execution_count": null,
   "outputs": [],
   "source": [
    "import matplotlib.pyplot as plt\n",
    "\n",
    "# Filter out the 'United States' data\n",
    "us_data = abey_colonie_filter_by_year[abey_colonie_filter_by_year['state'] == 'United States']\n",
    "\n",
    "# Group other states by year\n",
    "state_data = abey_colonie_filter_by_year[abey_colonie_filter_by_year['state'] != 'United States']\n",
    "\n",
    "# Clear the current figure\n",
    "plt.clf()\n",
    "\n",
    "# Set up the figure and axis\n",
    "fig, ax = plt.subplots(figsize=(12, 8))\n",
    "\n",
    "# Plot the 'United States' data\n",
    "ax.plot(us_data['year'], us_data['colony_max'], label='United States', marker='o', markersize=6)\n",
    "\n",
    "# Loop through other states and plot them separately\n",
    "for state in state_data.state.unique():\n",
    "    state_subset = state_data[state_data['state'] == state]\n",
    "    ax.plot(state_subset['year'], state_subset['colony_max'], label=state, marker='o', markersize=6)\n",
    "\n",
    "# Customize the plot\n",
    "ax.set_xlabel('Year')\n",
    "ax.set_ylabel('Colony Max')\n",
    "ax.set_title('Colony Max Over the Years')\n",
    "\n",
    "# Place the legend horizontally and under the plot\n",
    "ax.legend(loc='upper center', bbox_to_anchor=(0.5, -0.2), ncol=2)\n",
    "\n",
    "# Show the plot\n",
    "plt.show()\n"
   ],
   "metadata": {
    "collapsed": false,
    "pycharm": {
     "name": "#%%\n"
    }
   }
  },
  {
   "cell_type": "code",
   "execution_count": null,
   "outputs": [],
   "source": [
    "# Merge the two DataFrames based on 'state', 'year', and 'months'\n",
    "perturbation_factor = perturbation_factor.merge(abey_colonie[['state', 'year', 'months', 'colony_lost','colony_max']], on=['state', 'year', 'months'])\n",
    "perturbation_factor"
   ],
   "metadata": {
    "collapsed": false,
    "pycharm": {
     "name": "#%%\n"
    }
   }
  },
  {
   "cell_type": "code",
   "execution_count": null,
   "outputs": [],
   "source": [
    "new_column_names = {\n",
    "    'year': 'year',\n",
    "    'months': 'months',\n",
    "    'state': 'state',\n",
    "    'colony_lost': 'colony_lost',\n",
    "    'Disesases': 'Disesases pct',\n",
    "    'Other': 'Other pct',\n",
    "    'Other pests/parasites': 'Other pests/parasites pct',\n",
    "    'Pesticides': 'Pesticides pct',\n",
    "    'Unknown': 'Unknown pct',\n",
    "    'Varroa mites': 'Varroa mites pct'\n",
    "}\n",
    "\n",
    "perturbation_factor = perturbation_factor.rename(columns=new_column_names)\n",
    "perturbation_factor['Disesases'] = (perturbation_factor['colony_lost'] /100)*perturbation_factor['Disesases pct']\n",
    "perturbation_factor['Other'] = (perturbation_factor['colony_lost'] /100)*perturbation_factor['Other pct']\n",
    "perturbation_factor['Other pests/parasites'] = (perturbation_factor['colony_lost'] /100)*perturbation_factor['Other pests/parasites pct']\n",
    "perturbation_factor['Pesticides'] = (perturbation_factor['colony_lost'] /100)*perturbation_factor['Pesticides pct']\n",
    "perturbation_factor['Unknown'] = (perturbation_factor['colony_lost'] /100)*perturbation_factor['Unknown pct']\n",
    "perturbation_factor['Varroa mites'] = (perturbation_factor['colony_lost'] /100)*perturbation_factor['Varroa mites pct']\n"
   ],
   "metadata": {
    "collapsed": false,
    "pycharm": {
     "name": "#%%\n"
    }
   }
  },
  {
   "cell_type": "code",
   "execution_count": null,
   "outputs": [],
   "source": [
    "# Group by 'state,' 'year,'\n",
    "perturbation_factor_by_year = perturbation_factor.groupby(['state', 'year']).agg({\n",
    "    'Disesases pct':'mean',\n",
    "    'Other pct':'mean',\n",
    "    'Other pests/parasites pct':'mean',\n",
    "    'Pesticides pct':'mean',\n",
    "    'Unknown pct':'mean',\n",
    "    'Varroa mites pct':'mean',\n",
    "    'colony_lost':'sum',\n",
    "    'Disesases':'sum',\n",
    "    'Other':'sum',\n",
    "    'Other pests/parasites':'sum',\n",
    "    'Pesticides':'sum',\n",
    "    'Unknown':'sum',\n",
    "    'Varroa mites':'sum',\n",
    "}).reset_index()"
   ],
   "metadata": {
    "collapsed": false,
    "pycharm": {
     "name": "#%%\n"
    }
   }
  },
  {
   "cell_type": "code",
   "execution_count": null,
   "outputs": [],
   "source": [
    "perturbation_factor_by_year_us = perturbation_factor_by_year[perturbation_factor_by_year['state'] == 'United States']\n",
    "factors = ['Disesases pct', 'Other pct', 'Other pests/parasites pct', 'Pesticides pct', 'Unknown pct', 'Varroa mites pct']\n",
    "\n",
    "from itertools import cycle\n",
    "# Choose a colormap (e.g., 'tab10' for a set of 10 distinct colors)\n",
    "colormap = plt.cm.get_cmap('tab10')\n",
    "\n",
    "# Create a line graph for each factor with automatic color assignment\n",
    "color_cycle = cycle(colormap.colors)\n",
    "\n",
    "#Create dataframe to store data\n",
    "data = {}\n",
    "\n",
    "# Add a 'year' column to the DataFrame\n",
    "data['year'] = [2015, 2016, 2017, 2018, 2019, 2020, 2021]\n",
    "for factor in factors:\n",
    "    data[factor] = perturbation_factor_by_year_us[factor]\n",
    "    color = next(color_cycle)\n",
    "    plt.plot(data['year'], data[factor], label=factor, marker='o', linestyle='-', color=color)\n",
    "\n",
    "# Add labels and title\n",
    "plt.xlabel('Year')\n",
    "plt.ylabel('Value')\n",
    "plt.title('Line Graph for Factors')\n",
    "plt.legend()\n",
    "\n",
    "# Show the graph\n",
    "plt.show()"
   ],
   "metadata": {
    "collapsed": false,
    "pycharm": {
     "name": "#%%\n"
    }
   }
  },
  {
   "cell_type": "code",
   "execution_count": null,
   "outputs": [],
   "source": [
    "perturbation_factor_by_year_no_us = perturbation_factor_by_year[perturbation_factor_by_year['state'] != 'United States']\n",
    "df = pd.DataFrame(perturbation_factor_by_year_no_us)\n",
    "\n",
    "# List of columns to create box plots for\n",
    "columns_to_plot = ['Disesases pct', 'Other pct', 'Other pests/parasites pct', 'Pesticides pct', 'Unknown pct', 'Varroa mites pct']\n",
    "\n",
    "# Reshape the DataFrame to \"long\" format\n",
    "df_long = pd.melt(df, id_vars=['year'], value_vars=columns_to_plot, var_name='Factor', value_name='Value')\n",
    "\n",
    "# Set the figure size for the combined box plots\n",
    "plt.figure(figsize=(14, 10))\n",
    "\n",
    "# Create a box plot for all data\n",
    "sns.boxplot(data=df_long, x='year', y='Value', hue='Factor', showfliers=False)\n",
    "\n",
    "plt.title('Box Plots for Selected Columns by Year')\n",
    "plt.ylabel('Percentage')\n",
    "\n",
    "# Show the combined box plots\n",
    "plt.show()"
   ],
   "metadata": {
    "collapsed": false,
    "pycharm": {
     "name": "#%%\n"
    }
   }
  },
  {
   "cell_type": "code",
   "execution_count": null,
   "outputs": [],
   "source": [
    "# Group by 'state,' 'month,'\n",
    "perturbation_factor_by_month = perturbation_factor.groupby(['state', 'months']).agg({\n",
    "    'Disesases pct':'mean',\n",
    "    'Other pct':'mean',\n",
    "    'Other pests/parasites pct':'mean',\n",
    "    'Pesticides pct':'mean',\n",
    "    'Unknown pct':'mean',\n",
    "    'Varroa mites pct':'mean',\n",
    "    'colony_lost':'mean',\n",
    "    'Disesases':'mean',\n",
    "    'Other':'mean',\n",
    "    'Other pests/parasites':'mean',\n",
    "    'Pesticides':'mean',\n",
    "    'Unknown':'mean',\n",
    "    'Varroa mites':'mean',\n",
    "}).reset_index()"
   ],
   "metadata": {
    "collapsed": false,
    "pycharm": {
     "name": "#%%\n"
    }
   }
  },
  {
   "cell_type": "code",
   "execution_count": null,
   "outputs": [],
   "source": [
    "perturbation_factor_by_month_us= perturbation_factor_by_month[perturbation_factor_by_month['state'] == 'United States']\n",
    "perturbation_factor_by_month_no_us= perturbation_factor_by_month[perturbation_factor_by_month['state'] != 'United States']\n",
    "factors = ['Disesases pct', 'Other pct', 'Other pests/parasites pct', 'Pesticides pct', 'Unknown pct', 'Varroa mites pct']\n",
    "\n",
    "from itertools import cycle\n",
    "# Choose a colormap (e.g., 'tab10' for a set of 10 distinct colors)\n",
    "colormap = plt.cm.get_cmap('tab10')\n",
    "\n",
    "# Create a line graph for each factor with automatic color assignment\n",
    "color_cycle = cycle(colormap.colors)\n",
    "\n",
    "#Create dataframe to store data\n",
    "data = {}\n",
    "\n",
    "# Add a 'year' column to the DataFrame\n",
    "data['months'] = ['January-March', 'April-June', 'July-September', 'October-December']\n",
    "for factor in factors:\n",
    "    data[factor] = perturbation_factor_by_month_us[factor]\n",
    "    color = next(color_cycle)\n",
    "    plt.plot(data['months'], data[factor], label=factor, marker='o', linestyle='-', color=color)\n",
    "\n",
    "# Add labels and title\n",
    "plt.xlabel('Month')\n",
    "plt.ylabel('Value')\n",
    "plt.title('Line Graph for Factors')\n",
    "plt.legend()\n",
    "\n",
    "# Show the graph\n",
    "plt.show()"
   ],
   "metadata": {
    "collapsed": false,
    "pycharm": {
     "name": "#%%\n"
    }
   }
  },
  {
   "cell_type": "code",
   "execution_count": null,
   "outputs": [],
   "source": [
    "df = pd.DataFrame(perturbation_factor_by_month_no_us)\n",
    "\n",
    "# List of columns to create box plots for\n",
    "columns_to_plot = ['Disesases pct', 'Other pct', 'Other pests/parasites pct', 'Pesticides pct', 'Unknown pct', 'Varroa mites pct']\n",
    "\n",
    "# Reshape the DataFrame to \"long\" format\n",
    "df_long = pd.melt(df, id_vars=['months'], value_vars=columns_to_plot, var_name='Factor', value_name='Value')\n",
    "\n",
    "# Specify the custom order\n",
    "custom_order = ['January-March', 'April-June', 'July-September', 'October-December']\n",
    "\n",
    "# Use pd.Categorical to assign the custom order to the 'months' column\n",
    "df_long['months'] = pd.Categorical(df_long['months'], categories=custom_order, ordered=True)\n",
    "\n",
    "# Sort the DataFrame based on the 'months' column\n",
    "df_long = df_long.sort_values(by='months')\n",
    "\n",
    "# Set the figure size for the combined box plots\n",
    "plt.figure(figsize=(12, 8))\n",
    "\n",
    "# Create a box plot for all data\n",
    "sns.boxplot(data=df_long, x='months', y='Value', hue='Factor', showfliers=False)\n",
    "\n",
    "plt.title('Box Plots for Selected Columns by Month')\n",
    "plt.ylabel('Percentage')\n",
    "\n",
    "# Show the combined box plots\n",
    "plt.show()"
   ],
   "metadata": {
    "collapsed": false,
    "pycharm": {
     "name": "#%%\n"
    }
   }
  },
  {
   "cell_type": "code",
   "execution_count": null,
   "outputs": [],
   "source": [
    "perturbation_factor_by_year_no_us"
   ],
   "metadata": {
    "collapsed": false,
    "pycharm": {
     "name": "#%%\n"
    }
   }
  },
  {
   "cell_type": "code",
   "execution_count": null,
   "outputs": [],
   "source": [
    "perturbation_factor_by_month_no_us"
   ],
   "metadata": {
    "collapsed": false,
    "pycharm": {
     "name": "#%%\n"
    }
   }
  },
  {
   "cell_type": "markdown",
   "source": [
    "Merge with the data from the US Census Geography(https://www.census.gov/geographies/mapping-files/time-series/geo/cartographic-boundary.html)"
   ],
   "metadata": {
    "collapsed": false,
    "pycharm": {
     "name": "#%% md\n"
    }
   }
  },
  {
   "cell_type": "code",
   "execution_count": null,
   "outputs": [],
   "source": [
    "import geopandas as gpd\n",
    "from shapely.geometry import Point, Polygon\n",
    "# Load U.S. states shapefile (example using a built-in dataset)\n",
    "gdf = gpd.read_file('us state/cb_2022_us_state_20m.shp')\n",
    "\n",
    "#Load US region\n",
    "region = pd.read_csv('us state/us census bureau regions and divisions.csv')\n",
    "\n",
    "#Merge two dataset\n",
    "gdf = gdf.merge(region, left_on=['NAME','STUSPS'], right_on=['State','State Code'])\n",
    "gdf.drop(columns=['State','State Code'])"
   ],
   "metadata": {
    "collapsed": false,
    "pycharm": {
     "name": "#%%\n"
    }
   }
  },
  {
   "cell_type": "code",
   "execution_count": null,
   "outputs": [],
   "source": [
    "region"
   ],
   "metadata": {
    "collapsed": false,
    "pycharm": {
     "name": "#%%\n"
    }
   }
  },
  {
   "cell_type": "code",
   "execution_count": null,
   "outputs": [],
   "source": [
    "# Get unique values from the 'STATE_NAME' column in the GeoDataFrame\n",
    "unique_state_names_gdf = set(gdf['NAME'].unique())\n",
    "\n",
    "# Get unique values from the 'state' column in the merged DataFrame\n",
    "unique_state_names_merged = set(perturbation_factor['state'].unique())\n",
    "\n",
    "# Find the differences\n",
    "in_gdf_not_merged = unique_state_names_gdf - unique_state_names_merged\n",
    "in_merged_not_gdf = unique_state_names_merged - unique_state_names_gdf\n",
    "\n",
    "# Display the differences\n",
    "print(\"Unique values in 'STATE_NAME' but not in 'state':\", in_gdf_not_merged)\n",
    "print(\"Unique values in 'state' but not in 'STATE_NAME':\", in_merged_not_gdf)\n",
    "\n",
    "# Define the set of unique values in 'state' that don't match 'STATE_NAME'\n",
    "unique_states_to_replace = {\n",
    "    'United States Virgin Islands', 'Guam', 'Delaware', 'Nevada',\n",
    "    'New Hampshire', 'District of Columbia', 'Commonwealth of the Northern Mariana Islands',\n",
    "    'Alaska', 'Rhode Island', 'American Samoa', 'Puerto Rico'\n",
    "}\n",
    "\n",
    "# Replace the values in 'STATE_NAME' with 'Other States' for the unique values to include\n",
    "gdf.loc[gdf['NAME'].isin(unique_states_to_replace), 'NAME'] = 'Other States'"
   ],
   "metadata": {
    "collapsed": false,
    "pycharm": {
     "name": "#%%\n"
    }
   }
  },
  {
   "cell_type": "code",
   "execution_count": null,
   "outputs": [],
   "source": [
    "top10_max_by_year = top10_max_by_year.melt(var_name='year', value_name='state')\n",
    "top10_max_by_year = top10_max_by_year.merge(region, left_on=['state'], right_on=['State'])\n",
    "top10_lost_by_year = top10_lost_by_year.melt(var_name='year', value_name='state')\n",
    "top10_lost_by_year = top10_lost_by_year.merge(region, left_on=['state'], right_on=['State'])\n",
    "top10_by_month = top10_by_month.melt(var_name='months', value_name='state')\n",
    "top10_by_month = top10_by_month.merge(region, left_on=['state'], right_on=['State'])"
   ],
   "metadata": {
    "collapsed": false,
    "pycharm": {
     "name": "#%%\n"
    }
   }
  },
  {
   "cell_type": "code",
   "execution_count": null,
   "outputs": [],
   "source": [
    "# top10_max_by_year[top10_max_by_year['year'] == '2015']\n",
    "top10_max_by_year"
   ],
   "metadata": {
    "collapsed": false,
    "pycharm": {
     "name": "#%%\n"
    }
   }
  },
  {
   "cell_type": "code",
   "execution_count": null,
   "outputs": [],
   "source": [
    "top10_max_by_year.groupby('year').Division.value_counts()"
   ],
   "metadata": {
    "collapsed": false,
    "pycharm": {
     "name": "#%%\n"
    }
   }
  },
  {
   "cell_type": "code",
   "execution_count": null,
   "outputs": [],
   "source": [
    "top10_max_by_year.groupby('year').Region.value_counts()"
   ],
   "metadata": {
    "collapsed": false,
    "pycharm": {
     "name": "#%%\n"
    }
   }
  },
  {
   "cell_type": "code",
   "execution_count": null,
   "outputs": [],
   "source": [
    "top10_lost_by_year"
   ],
   "metadata": {
    "collapsed": false,
    "pycharm": {
     "name": "#%%\n"
    }
   }
  },
  {
   "cell_type": "code",
   "execution_count": null,
   "outputs": [],
   "source": [
    "top10_lost_by_year.groupby('year').Division.value_counts()"
   ],
   "metadata": {
    "collapsed": false,
    "pycharm": {
     "name": "#%%\n"
    }
   }
  },
  {
   "cell_type": "code",
   "execution_count": null,
   "outputs": [],
   "source": [
    "top10_lost_by_year.groupby('year').Region.value_counts()"
   ],
   "metadata": {
    "collapsed": false,
    "pycharm": {
     "name": "#%%\n"
    }
   }
  },
  {
   "cell_type": "code",
   "execution_count": null,
   "outputs": [],
   "source": [
    "top10_by_month"
   ],
   "metadata": {
    "collapsed": false,
    "pycharm": {
     "name": "#%%\n"
    }
   }
  },
  {
   "cell_type": "code",
   "execution_count": null,
   "outputs": [],
   "source": [
    "top10_by_month.groupby('months').Division.value_counts()"
   ],
   "metadata": {
    "collapsed": false,
    "pycharm": {
     "name": "#%%\n"
    }
   }
  },
  {
   "cell_type": "code",
   "execution_count": null,
   "outputs": [],
   "source": [
    "top10_by_month.groupby('months').Region.value_counts()"
   ],
   "metadata": {
    "collapsed": false,
    "pycharm": {
     "name": "#%%\n"
    }
   }
  },
  {
   "cell_type": "code",
   "execution_count": null,
   "outputs": [],
   "source": [
    "abey_colonie_filter_by_year_no_us = abey_colonie_filter_by_year_no_us.merge(region, left_on=['state'], right_on=['State'])\n",
    "abey_colonie_filter_by_year_no_us"
   ],
   "metadata": {
    "collapsed": false,
    "pycharm": {
     "name": "#%%\n"
    }
   }
  },
  {
   "cell_type": "code",
   "execution_count": null,
   "outputs": [],
   "source": [
    "abey_colonie_filter_by_year_group_by_region = abey_colonie_filter_by_year_no_us.groupby(['Region']).agg({\n",
    "    'colony_n': 'mean',\n",
    "    'colony_max': 'mean',  # Take the maximum value of a year\n",
    "    'colony_lost': 'mean',\n",
    "    'colony_lost_pct': 'mean',\n",
    "}).reset_index()\n",
    "abey_colonie_filter_by_year_group_by_region"
   ],
   "metadata": {
    "collapsed": false,
    "pycharm": {
     "name": "#%%\n"
    }
   }
  },
  {
   "cell_type": "code",
   "execution_count": null,
   "outputs": [],
   "source": [
    "abey_colonie_filter_by_month_no_us = abey_colonie_filter_by_month_no_us.merge(region, left_on=['state'], right_on=['State'])\n",
    "abey_colonie_filter_by_month_no_us"
   ],
   "metadata": {
    "collapsed": false,
    "pycharm": {
     "name": "#%%\n"
    }
   }
  },
  {
   "cell_type": "code",
   "execution_count": null,
   "outputs": [],
   "source": [
    "abey_colonie_filter_by_month_group_by_region = abey_colonie_filter_by_month_no_us.groupby(['Region','months']).agg({\n",
    "    'colony_max': 'mean',  # Take the maximum value of a year\n",
    "    'colony_lost': 'mean',\n",
    "    'colony_lost_pct': 'mean',\n",
    "    'colony_added': 'mean'\n",
    "}).reset_index()\n",
    "# Define the custom order for months\n",
    "custom_order = ['January-March', 'April-June', 'July-September', 'October-December']\n",
    "\n",
    "# Order the DataFrame by the custom order for months\n",
    "abey_colonie_filter_by_month_group_by_region['months'] = pd.Categorical(abey_colonie_filter_by_month_group_by_region['months'], categories=custom_order, ordered=True)\n",
    "abey_colonie_filter_by_month_group_by_region = abey_colonie_filter_by_month_group_by_region.sort_values(['months'])\n",
    "abey_colonie_filter_by_month_group_by_region\n",
    "\n",
    "# Clear the current figure\n",
    "plt.clf()\n",
    "\n",
    "# Set up the figure and axis\n",
    "fig, ax = plt.subplots(figsize=(12, 8))\n",
    "\n",
    "# Iterate through the states to create lines\n",
    "for region_iterate in abey_colonie_filter_by_month_group_by_region.Region.unique():\n",
    "    # Filter data for the current state\n",
    "    state_data = abey_colonie_filter_by_month_group_by_region[abey_colonie_filter_by_month_group_by_region['Region'] == region_iterate]\n",
    "    ax.plot(state_data['months'], state_data['colony_max'], label=region_iterate, marker='o', markersize=6)\n",
    "\n",
    "# Customize the plot\n",
    "ax.set_xlabel('Months')\n",
    "ax.set_ylabel('Colony Max')\n",
    "ax.set_title('Colony Max by Region')\n",
    "\n",
    "# Set the x-axis ticks and labels in the custom order\n",
    "ax.set_xticks(custom_order)\n",
    "ax.set_xticklabels(custom_order)\n",
    "\n",
    "# Place the legend horizontally and under the plot\n",
    "ax.legend(loc='upper center', bbox_to_anchor=(0.5, -0.2), ncol=3)\n",
    "\n",
    "# Show the plot\n",
    "plt.show()"
   ],
   "metadata": {
    "collapsed": false,
    "pycharm": {
     "name": "#%%\n"
    }
   }
  },
  {
   "cell_type": "code",
   "execution_count": null,
   "outputs": [],
   "source": [
    "# Clear the current figure\n",
    "plt.clf()\n",
    "\n",
    "# Set up the figure and axis\n",
    "fig, ax = plt.subplots(figsize=(12, 8))\n",
    "\n",
    "# Iterate through the states to create lines\n",
    "for region_iterate in abey_colonie_filter_by_month_group_by_region.Region.unique():\n",
    "    # Filter data for the current state\n",
    "    state_data = abey_colonie_filter_by_month_group_by_region[abey_colonie_filter_by_month_group_by_region['Region'] == region_iterate]\n",
    "    ax.plot(state_data['months'], state_data['colony_lost_pct'], label=region_iterate, marker='o', markersize=6)\n",
    "\n",
    "# Customize the plot\n",
    "ax.set_xlabel('Months')\n",
    "ax.set_ylabel('Colony Lost in Percentage')\n",
    "ax.set_title('Colony Lost in Percentage by Region')\n",
    "\n",
    "# Set the x-axis ticks and labels in the custom order\n",
    "ax.set_xticks(custom_order)\n",
    "ax.set_xticklabels(custom_order)\n",
    "\n",
    "# Place the legend horizontally and under the plot\n",
    "ax.legend(loc='upper center', bbox_to_anchor=(0.5, -0.2), ncol=3)\n",
    "\n",
    "# Show the plot\n",
    "plt.show()"
   ],
   "metadata": {
    "collapsed": false,
    "pycharm": {
     "name": "#%%\n"
    }
   }
  },
  {
   "cell_type": "code",
   "execution_count": null,
   "outputs": [],
   "source": [
    "# Clear the current figure\n",
    "plt.clf()\n",
    "\n",
    "# Set up the figure and axis\n",
    "fig, ax = plt.subplots(figsize=(12, 8))\n",
    "\n",
    "# Iterate through the states to create lines\n",
    "for region_iterate in abey_colonie_filter_by_month_group_by_region.Region.unique():\n",
    "    # Filter data for the current state\n",
    "    state_data = abey_colonie_filter_by_month_group_by_region[abey_colonie_filter_by_month_group_by_region['Region'] == region_iterate]\n",
    "    ax.plot(state_data['months'], state_data['colony_added'], label=region_iterate, marker='o', markersize=6)\n",
    "\n",
    "# Customize the plot\n",
    "ax.set_xlabel('Months')\n",
    "ax.set_ylabel('Colony add')\n",
    "ax.set_title('Colony add by Region')\n",
    "\n",
    "# Set the x-axis ticks and labels in the custom order\n",
    "ax.set_xticks(custom_order)\n",
    "ax.set_xticklabels(custom_order)\n",
    "\n",
    "# Place the legend horizontally and under the plot\n",
    "ax.legend(loc='upper center', bbox_to_anchor=(0.5, -0.2), ncol=3)\n",
    "\n",
    "# Show the plot\n",
    "plt.show()"
   ],
   "metadata": {
    "collapsed": false,
    "pycharm": {
     "name": "#%%\n"
    }
   }
  },
  {
   "cell_type": "code",
   "execution_count": null,
   "outputs": [],
   "source": [
    "perturbation_factor_by_year_no_us = perturbation_factor_by_year_no_us.merge(region, left_on=['state'], right_on=['State'])\n",
    "perturbation_factor_by_year_no_us"
   ],
   "metadata": {
    "collapsed": false,
    "pycharm": {
     "name": "#%%\n"
    }
   }
  },
  {
   "cell_type": "code",
   "execution_count": null,
   "outputs": [],
   "source": [
    "perturbation_factor_by_month_no_us = perturbation_factor_by_month_no_us.merge(region, left_on=['state'], right_on=['State'])\n",
    "perturbation_factor_by_month_no_us"
   ],
   "metadata": {
    "collapsed": false,
    "pycharm": {
     "name": "#%%\n"
    }
   }
  },
  {
   "cell_type": "code",
   "execution_count": null,
   "outputs": [],
   "source": [
    "import geopandas as gpd\n",
    "import matplotlib.pyplot as plt\n",
    "import plotly.express as px\n",
    "\n",
    "# Set the projection to 'Lambert Conformal Conic' and limit the plot to the specified region\n",
    "gdf = gdf.to_crs(\"EPSG:3338\")\n",
    "xmin, xmax, ymin, ymax = -125, -65, 24, 50  # Adjust the values as needed\n",
    "\n",
    "# Choose a vibrant colormap, e.g., 'viridis', 'plasma', 'magma', 'inferno', or 'cividis'\n",
    "cmap = 'viridis'\n",
    "\n",
    "#Change type of 'state' value\n",
    "abey_colonie_filter_by_year['state'] = abey_colonie_filter_by_year['state'].astype(\"string\")\n",
    "gdf['NAME'] = gdf['NAME'].astype(\"string\")\n",
    "for year in abey_colonie_filter_by_year['year'].unique():\n",
    "     # Filter the DataFrame for the current year\n",
    "    year_data = abey_colonie_filter_by_year[abey_colonie_filter_by_year['year'] == year]\n",
    "\n",
    "    # Create a new GeoDataFrame with the bee colony loss data for the current year\n",
    "    gdf_year = gdf.merge(year_data, left_on='NAME', right_on='state')\n",
    "    # gdf_year['STATE_NAME'] = gdf_year['STATE_NAME'].astype(str)\n",
    "    # # Set the figure size to control the map size\n",
    "    # plt.figure(figsize=(10, 6))\n",
    "    #\n",
    "    # # Create the choropleth map\n",
    "    # ax = gdf_year.plot(column='colony_lost', cmap='YlGnBu', legend=True, legend_kwds={'label': \"Colony Loss\"})\n",
    "    #\n",
    "    # # Set the bounds to zoom in on the specified region\n",
    "    # ax.set_xlim(xmin, xmax)\n",
    "    # ax.set_ylim(ymin, ymax)\n",
    "    #\n",
    "    # # Set the legend properties, including position and size\n",
    "    # ax.legend(title=\"Colony Loss\", loc='upper left', bbox_to_anchor=(1.05, 1))\n",
    "    #\n",
    "    # # Set plot title\n",
    "    # ax.set_title(f\"Bee Colony Loss by State - Year {year}\")\n",
    "    #\n",
    "    # # Show the map\n",
    "    # plt.show()\n",
    "    # Create an interactive choropleth map using Plotly Express\n",
    "    fig = px.choropleth(\n",
    "        gdf_year,\n",
    "        geojson='geometry',\n",
    "        locations='NAME',\n",
    "        color='colony_lost',\n",
    "        color_continuous_scale='YlGnBu',\n",
    "        hover_name='NAME',\n",
    "        title=f\"Bee Colony Loss by State - Year {year}\",\n",
    "        scope='usa',\n",
    "        range_color=(0, 200000)\n",
    "    )\n",
    "\n",
    "    #\n",
    "    # # Customize the map layout if needed\n",
    "    # fig.update_geos(projection_type=\"conic conformal\", showcoastlines=True)\n",
    "\n",
    "    # Show the interactive map\n",
    "    fig.show()\n"
   ],
   "metadata": {
    "collapsed": false,
    "pycharm": {
     "name": "#%%\n"
    }
   }
  },
  {
   "cell_type": "code",
   "execution_count": null,
   "outputs": [],
   "source": [
    "gdf_year.info()"
   ],
   "metadata": {
    "collapsed": false,
    "pycharm": {
     "name": "#%%\n"
    }
   }
  },
  {
   "cell_type": "code",
   "execution_count": null,
   "outputs": [],
   "source": [
    "region = pd.read_csv('us state/us census bureau regions and divisions.csv')\n",
    "region"
   ],
   "metadata": {
    "collapsed": false,
    "pycharm": {
     "name": "#%%\n"
    }
   }
  },
  {
   "cell_type": "code",
   "execution_count": null,
   "outputs": [],
   "source": [
    "gdf"
   ],
   "metadata": {
    "collapsed": false,
    "pycharm": {
     "name": "#%%\n"
    }
   }
  }
 ],
 "metadata": {
  "colab": {
   "collapsed_sections": [
    "13MFwXs1tpJl",
    "ToGJn_g8u4WZ"
   ],
   "provenance": []
  },
  "kernelspec": {
   "display_name": "Python 3 (ipykernel)",
   "language": "python",
   "name": "python3"
  },
  "language_info": {
   "codemirror_mode": {
    "name": "ipython",
    "version": 3
   },
   "file_extension": ".py",
   "mimetype": "text/x-python",
   "name": "python",
   "nbconvert_exporter": "python",
   "pygments_lexer": "ipython3",
   "version": "3.9.17"
  }
 },
 "nbformat": 4,
 "nbformat_minor": 1
}