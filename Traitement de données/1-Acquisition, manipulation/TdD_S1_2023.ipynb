{
 "nbformat": 4,
 "nbformat_minor": 0,
 "metadata": {
  "colab": {
   "provenance": []
  },
  "kernelspec": {
   "name": "python3",
   "display_name": "Python 3"
  },
  "language_info": {
   "name": "python"
  }
 },
 "cells": [
  {
   "cell_type": "markdown",
   "source": [
    "# Introduction à pandas\n"
   ],
   "metadata": {
    "id": "H1-iXcHcAVmX",
    "pycharm": {
     "name": "#%% md\n"
    }
   }
  },
  {
   "cell_type": "code",
   "metadata": {
    "colab": {
     "base_uri": "https://localhost:8080/",
     "height": 300
    },
    "id": "TWlYxeauQ0vo",
    "outputId": "8d0d4080-976c-4b3f-cd7d-104112356ac8",
    "pycharm": {
     "name": "#%%\n"
    }
   },
   "source": [
    "import pandas as pd\n",
    "\n",
    "hpdata = {\n",
    "    \"firstname\": [\"Harry\", \"Hermione\", \"Ron\", \"Draco\", \"Luna\", \"Vincent\", \"Gregory\", \"Parvati\"],\n",
    "    \"lastname\":  [\"Potter\", \"Granger\", \"Weasley\", \"Malfoy\", \"Lovegood\", \"Crabbe\", \"Goyle\", \"Patil\"],\n",
    "    \"marks potion\": [12, 18, 11, 11, 14, 8, 7, 13],\n",
    "    \"marks def. ATDA\": [14, 18, 12, 12, 10, 6, 7, 14],\n",
    "    \"house\": [\"Gryffindor\", \"Gryffindor\", \"Gryffindor\", \"Slytherin\", \"Ravenclaw\", \"Slytherin\", \"Slytherin\", \"Ravenclaw\"]\n",
    "}\n",
    "\n",
    "hpdf = pd.DataFrame(hpdata)\n",
    "hpdf\n"
   ],
   "execution_count": 1,
   "outputs": [
    {
     "data": {
      "text/plain": "  firstname  lastname  marks potion  marks def. ATDA       house\n0     Harry    Potter            12               14  Gryffindor\n1  Hermione   Granger            18               18  Gryffindor\n2       Ron   Weasley            11               12  Gryffindor\n3     Draco    Malfoy            11               12   Slytherin\n4      Luna  Lovegood            14               10   Ravenclaw\n5   Vincent    Crabbe             8                6   Slytherin\n6   Gregory     Goyle             7                7   Slytherin\n7   Parvati     Patil            13               14   Ravenclaw",
      "text/html": "<div>\n<style scoped>\n    .dataframe tbody tr th:only-of-type {\n        vertical-align: middle;\n    }\n\n    .dataframe tbody tr th {\n        vertical-align: top;\n    }\n\n    .dataframe thead th {\n        text-align: right;\n    }\n</style>\n<table border=\"1\" class=\"dataframe\">\n  <thead>\n    <tr style=\"text-align: right;\">\n      <th></th>\n      <th>firstname</th>\n      <th>lastname</th>\n      <th>marks potion</th>\n      <th>marks def. ATDA</th>\n      <th>house</th>\n    </tr>\n  </thead>\n  <tbody>\n    <tr>\n      <th>0</th>\n      <td>Harry</td>\n      <td>Potter</td>\n      <td>12</td>\n      <td>14</td>\n      <td>Gryffindor</td>\n    </tr>\n    <tr>\n      <th>1</th>\n      <td>Hermione</td>\n      <td>Granger</td>\n      <td>18</td>\n      <td>18</td>\n      <td>Gryffindor</td>\n    </tr>\n    <tr>\n      <th>2</th>\n      <td>Ron</td>\n      <td>Weasley</td>\n      <td>11</td>\n      <td>12</td>\n      <td>Gryffindor</td>\n    </tr>\n    <tr>\n      <th>3</th>\n      <td>Draco</td>\n      <td>Malfoy</td>\n      <td>11</td>\n      <td>12</td>\n      <td>Slytherin</td>\n    </tr>\n    <tr>\n      <th>4</th>\n      <td>Luna</td>\n      <td>Lovegood</td>\n      <td>14</td>\n      <td>10</td>\n      <td>Ravenclaw</td>\n    </tr>\n    <tr>\n      <th>5</th>\n      <td>Vincent</td>\n      <td>Crabbe</td>\n      <td>8</td>\n      <td>6</td>\n      <td>Slytherin</td>\n    </tr>\n    <tr>\n      <th>6</th>\n      <td>Gregory</td>\n      <td>Goyle</td>\n      <td>7</td>\n      <td>7</td>\n      <td>Slytherin</td>\n    </tr>\n    <tr>\n      <th>7</th>\n      <td>Parvati</td>\n      <td>Patil</td>\n      <td>13</td>\n      <td>14</td>\n      <td>Ravenclaw</td>\n    </tr>\n  </tbody>\n</table>\n</div>"
     },
     "execution_count": 1,
     "metadata": {},
     "output_type": "execute_result"
    }
   ]
  },
  {
   "cell_type": "code",
   "source": [
    "print(hpdf.shape)\n",
    "print(30*\"*\")\n",
    "print(len(hpdf))\n",
    "print(30*\"*\")\n",
    "print(hpdf.columns)\n",
    "print(30*\"*\")\n",
    "print(hpdf.index)\n",
    "print(30*\"*\")\n",
    "hpdf.info()"
   ],
   "metadata": {
    "colab": {
     "base_uri": "https://localhost:8080/"
    },
    "id": "gW-PiLH8cNLs",
    "outputId": "0b5275e1-39f1-458f-c3af-d5b2cccb9df7",
    "pycharm": {
     "name": "#%%\n"
    }
   },
   "execution_count": 2,
   "outputs": [
    {
     "name": "stdout",
     "output_type": "stream",
     "text": [
      "(8, 5)\n",
      "******************************\n",
      "8\n",
      "******************************\n",
      "Index(['firstname', 'lastname', 'marks potion', 'marks def. ATDA', 'house'], dtype='object')\n",
      "******************************\n",
      "RangeIndex(start=0, stop=8, step=1)\n",
      "******************************\n",
      "<class 'pandas.core.frame.DataFrame'>\n",
      "RangeIndex: 8 entries, 0 to 7\n",
      "Data columns (total 5 columns):\n",
      " #   Column           Non-Null Count  Dtype \n",
      "---  ------           --------------  ----- \n",
      " 0   firstname        8 non-null      object\n",
      " 1   lastname         8 non-null      object\n",
      " 2   marks potion     8 non-null      int64 \n",
      " 3   marks def. ATDA  8 non-null      int64 \n",
      " 4   house            8 non-null      object\n",
      "dtypes: int64(2), object(3)\n",
      "memory usage: 448.0+ bytes\n"
     ]
    }
   ]
  },
  {
   "cell_type": "code",
   "source": [
    "print(hpdf[\"house\"])\n",
    "print(30*\"*\")\n",
    "print(hpdf.house)\n",
    "print(30*\"*\")\n",
    "hpdf[[\"firstname\", \"lastname\", \"house\"]]"
   ],
   "metadata": {
    "colab": {
     "base_uri": "https://localhost:8080/",
     "height": 647
    },
    "id": "q9VzAGq0b4l_",
    "outputId": "0a412c7a-3c00-42b0-e986-b845d53c52ac",
    "pycharm": {
     "name": "#%%\n"
    }
   },
   "execution_count": 3,
   "outputs": [
    {
     "name": "stdout",
     "output_type": "stream",
     "text": [
      "0    Gryffindor\n",
      "1    Gryffindor\n",
      "2    Gryffindor\n",
      "3     Slytherin\n",
      "4     Ravenclaw\n",
      "5     Slytherin\n",
      "6     Slytherin\n",
      "7     Ravenclaw\n",
      "Name: house, dtype: object\n",
      "******************************\n",
      "0    Gryffindor\n",
      "1    Gryffindor\n",
      "2    Gryffindor\n",
      "3     Slytherin\n",
      "4     Ravenclaw\n",
      "5     Slytherin\n",
      "6     Slytherin\n",
      "7     Ravenclaw\n",
      "Name: house, dtype: object\n",
      "******************************\n"
     ]
    },
    {
     "data": {
      "text/plain": "  firstname  lastname       house\n0     Harry    Potter  Gryffindor\n1  Hermione   Granger  Gryffindor\n2       Ron   Weasley  Gryffindor\n3     Draco    Malfoy   Slytherin\n4      Luna  Lovegood   Ravenclaw\n5   Vincent    Crabbe   Slytherin\n6   Gregory     Goyle   Slytherin\n7   Parvati     Patil   Ravenclaw",
      "text/html": "<div>\n<style scoped>\n    .dataframe tbody tr th:only-of-type {\n        vertical-align: middle;\n    }\n\n    .dataframe tbody tr th {\n        vertical-align: top;\n    }\n\n    .dataframe thead th {\n        text-align: right;\n    }\n</style>\n<table border=\"1\" class=\"dataframe\">\n  <thead>\n    <tr style=\"text-align: right;\">\n      <th></th>\n      <th>firstname</th>\n      <th>lastname</th>\n      <th>house</th>\n    </tr>\n  </thead>\n  <tbody>\n    <tr>\n      <th>0</th>\n      <td>Harry</td>\n      <td>Potter</td>\n      <td>Gryffindor</td>\n    </tr>\n    <tr>\n      <th>1</th>\n      <td>Hermione</td>\n      <td>Granger</td>\n      <td>Gryffindor</td>\n    </tr>\n    <tr>\n      <th>2</th>\n      <td>Ron</td>\n      <td>Weasley</td>\n      <td>Gryffindor</td>\n    </tr>\n    <tr>\n      <th>3</th>\n      <td>Draco</td>\n      <td>Malfoy</td>\n      <td>Slytherin</td>\n    </tr>\n    <tr>\n      <th>4</th>\n      <td>Luna</td>\n      <td>Lovegood</td>\n      <td>Ravenclaw</td>\n    </tr>\n    <tr>\n      <th>5</th>\n      <td>Vincent</td>\n      <td>Crabbe</td>\n      <td>Slytherin</td>\n    </tr>\n    <tr>\n      <th>6</th>\n      <td>Gregory</td>\n      <td>Goyle</td>\n      <td>Slytherin</td>\n    </tr>\n    <tr>\n      <th>7</th>\n      <td>Parvati</td>\n      <td>Patil</td>\n      <td>Ravenclaw</td>\n    </tr>\n  </tbody>\n</table>\n</div>"
     },
     "execution_count": 3,
     "metadata": {},
     "output_type": "execute_result"
    }
   ]
  },
  {
   "cell_type": "code",
   "source": [
    "print(hpdf.loc[3])\n",
    "print(30*\"*\")\n",
    "print(hpdf.iloc[4])\n",
    "print(30*\"*\")\n",
    "print(hpdf.iloc[2:5])\n",
    "print(30*\"*\")\n",
    "print(hpdf.iloc[::-1])"
   ],
   "metadata": {
    "colab": {
     "base_uri": "https://localhost:8080/"
    },
    "id": "KsJqBNOQdch4",
    "outputId": "d3ef21d3-019a-4f1e-fe87-62febdbb3655",
    "pycharm": {
     "name": "#%%\n"
    }
   },
   "execution_count": 4,
   "outputs": [
    {
     "name": "stdout",
     "output_type": "stream",
     "text": [
      "firstname              Draco\n",
      "lastname              Malfoy\n",
      "marks potion              11\n",
      "marks def. ATDA           12\n",
      "house              Slytherin\n",
      "Name: 3, dtype: object\n",
      "******************************\n",
      "firstname               Luna\n",
      "lastname            Lovegood\n",
      "marks potion              14\n",
      "marks def. ATDA           10\n",
      "house              Ravenclaw\n",
      "Name: 4, dtype: object\n",
      "******************************\n",
      "  firstname  lastname  marks potion  marks def. ATDA       house\n",
      "2       Ron   Weasley            11               12  Gryffindor\n",
      "3     Draco    Malfoy            11               12   Slytherin\n",
      "4      Luna  Lovegood            14               10   Ravenclaw\n",
      "******************************\n",
      "  firstname  lastname  marks potion  marks def. ATDA       house\n",
      "7   Parvati     Patil            13               14   Ravenclaw\n",
      "6   Gregory     Goyle             7                7   Slytherin\n",
      "5   Vincent    Crabbe             8                6   Slytherin\n",
      "4      Luna  Lovegood            14               10   Ravenclaw\n",
      "3     Draco    Malfoy            11               12   Slytherin\n",
      "2       Ron   Weasley            11               12  Gryffindor\n",
      "1  Hermione   Granger            18               18  Gryffindor\n",
      "0     Harry    Potter            12               14  Gryffindor\n"
     ]
    }
   ]
  },
  {
   "cell_type": "code",
   "source": [
    "print(hpdf.head(3))\n",
    "print(30*\"*\")\n",
    "print(hpdf.tail(3))\n",
    "print(30*\"*\")\n",
    "print(hpdf.house.head(3))"
   ],
   "metadata": {
    "colab": {
     "base_uri": "https://localhost:8080/"
    },
    "id": "juw6XAALelMD",
    "outputId": "8ad3a8ca-9e81-4f11-a32d-b86432fa2029",
    "pycharm": {
     "name": "#%%\n"
    }
   },
   "execution_count": 5,
   "outputs": [
    {
     "name": "stdout",
     "output_type": "stream",
     "text": [
      "  firstname lastname  marks potion  marks def. ATDA       house\n",
      "0     Harry   Potter            12               14  Gryffindor\n",
      "1  Hermione  Granger            18               18  Gryffindor\n",
      "2       Ron  Weasley            11               12  Gryffindor\n",
      "******************************\n",
      "  firstname lastname  marks potion  marks def. ATDA      house\n",
      "5   Vincent   Crabbe             8                6  Slytherin\n",
      "6   Gregory    Goyle             7                7  Slytherin\n",
      "7   Parvati    Patil            13               14  Ravenclaw\n",
      "******************************\n",
      "0    Gryffindor\n",
      "1    Gryffindor\n",
      "2    Gryffindor\n",
      "Name: house, dtype: object\n"
     ]
    }
   ]
  },
  {
   "cell_type": "code",
   "source": [
    "print(hpdf.loc[3,\"lastname\"])\n",
    "print(30*\"*\")\n",
    "print(hpdf.loc[2:5,\"lastname\"])\n",
    "print(30*\"*\")\n",
    "print(hpdf.loc[2:5,[\"firstname\", \"lastname\"]])\n",
    "print(30*\"*\")\n",
    "print(hpdf.house[2])\n",
    "print(30*\"*\")\n",
    "print(hpdf.iloc[2:6,0:2])\n"
   ],
   "metadata": {
    "colab": {
     "base_uri": "https://localhost:8080/"
    },
    "id": "H2jfY36leyYK",
    "outputId": "da2392b4-0580-4b8f-cfb1-88a8d044b768",
    "pycharm": {
     "name": "#%%\n"
    }
   },
   "execution_count": 6,
   "outputs": [
    {
     "name": "stdout",
     "output_type": "stream",
     "text": [
      "Malfoy\n",
      "******************************\n",
      "2     Weasley\n",
      "3      Malfoy\n",
      "4    Lovegood\n",
      "5      Crabbe\n",
      "Name: lastname, dtype: object\n",
      "******************************\n",
      "  firstname  lastname\n",
      "2       Ron   Weasley\n",
      "3     Draco    Malfoy\n",
      "4      Luna  Lovegood\n",
      "5   Vincent    Crabbe\n",
      "******************************\n",
      "Gryffindor\n",
      "******************************\n",
      "  firstname  lastname\n",
      "2       Ron   Weasley\n",
      "3     Draco    Malfoy\n",
      "4      Luna  Lovegood\n",
      "5   Vincent    Crabbe\n"
     ]
    }
   ]
  },
  {
   "cell_type": "code",
   "source": [
    "# iteration sur valeurs\n",
    "s = \"\"\n",
    "for x in hpdf[\"firstname\"]:\n",
    "    s += x+\",\"\n",
    "print(s)"
   ],
   "metadata": {
    "colab": {
     "base_uri": "https://localhost:8080/"
    },
    "id": "4YrenmSGgNC4",
    "outputId": "0259065d-aeba-41d8-9a7d-493702d4d6e0",
    "pycharm": {
     "name": "#%%\n"
    }
   },
   "execution_count": 7,
   "outputs": [
    {
     "name": "stdout",
     "output_type": "stream",
     "text": [
      "Harry,Hermione,Ron,Draco,Luna,Vincent,Gregory,Parvati,\n"
     ]
    }
   ]
  },
  {
   "cell_type": "code",
   "source": [
    "s=\"\"\n",
    "for x in hpdf:\n",
    "    s += x+\",\"\n",
    "print(s)"
   ],
   "metadata": {
    "colab": {
     "base_uri": "https://localhost:8080/"
    },
    "id": "ClZct05FNxme",
    "outputId": "5dbc20b6-6c15-48fe-a57c-ba65d846b918",
    "pycharm": {
     "name": "#%%\n"
    }
   },
   "execution_count": 8,
   "outputs": [
    {
     "name": "stdout",
     "output_type": "stream",
     "text": [
      "firstname,lastname,marks potion,marks def. ATDA,house,\n"
     ]
    }
   ]
  },
  {
   "cell_type": "code",
   "source": [
    "s=\"\"\n",
    "for x in hpdf.iloc:\n",
    "    print(x)\n",
    "#    s += x.lastname+\",\"\n",
    "#print(s)"
   ],
   "metadata": {
    "colab": {
     "base_uri": "https://localhost:8080/"
    },
    "id": "TwLZKHCiOZgr",
    "outputId": "1e8dc317-c313-423c-a998-f4f55b5cfac3",
    "pycharm": {
     "name": "#%%\n"
    }
   },
   "execution_count": 9,
   "outputs": [
    {
     "name": "stdout",
     "output_type": "stream",
     "text": [
      "firstname               Harry\n",
      "lastname               Potter\n",
      "marks potion               12\n",
      "marks def. ATDA            14\n",
      "house              Gryffindor\n",
      "Name: 0, dtype: object\n",
      "firstname            Hermione\n",
      "lastname              Granger\n",
      "marks potion               18\n",
      "marks def. ATDA            18\n",
      "house              Gryffindor\n",
      "Name: 1, dtype: object\n",
      "firstname                 Ron\n",
      "lastname              Weasley\n",
      "marks potion               11\n",
      "marks def. ATDA            12\n",
      "house              Gryffindor\n",
      "Name: 2, dtype: object\n",
      "firstname              Draco\n",
      "lastname              Malfoy\n",
      "marks potion              11\n",
      "marks def. ATDA           12\n",
      "house              Slytherin\n",
      "Name: 3, dtype: object\n",
      "firstname               Luna\n",
      "lastname            Lovegood\n",
      "marks potion              14\n",
      "marks def. ATDA           10\n",
      "house              Ravenclaw\n",
      "Name: 4, dtype: object\n",
      "firstname            Vincent\n",
      "lastname              Crabbe\n",
      "marks potion               8\n",
      "marks def. ATDA            6\n",
      "house              Slytherin\n",
      "Name: 5, dtype: object\n",
      "firstname            Gregory\n",
      "lastname               Goyle\n",
      "marks potion               7\n",
      "marks def. ATDA            7\n",
      "house              Slytherin\n",
      "Name: 6, dtype: object\n",
      "firstname            Parvati\n",
      "lastname               Patil\n",
      "marks potion              13\n",
      "marks def. ATDA           14\n",
      "house              Ravenclaw\n",
      "Name: 7, dtype: object\n"
     ]
    }
   ]
  },
  {
   "cell_type": "code",
   "source": [
    "# Filtres\n",
    "B = pd.Series([True, False, True, True, False, False, True, False])\n",
    "hpdf[B]"
   ],
   "metadata": {
    "colab": {
     "base_uri": "https://localhost:8080/",
     "height": 174
    },
    "id": "gEzQtcC2gYwm",
    "outputId": "bdf61438-ef7a-4902-f0b2-8d8426539c12",
    "pycharm": {
     "name": "#%%\n"
    }
   },
   "execution_count": 10,
   "outputs": [
    {
     "data": {
      "text/plain": "  firstname lastname  marks potion  marks def. ATDA       house\n0     Harry   Potter            12               14  Gryffindor\n2       Ron  Weasley            11               12  Gryffindor\n3     Draco   Malfoy            11               12   Slytherin\n6   Gregory    Goyle             7                7   Slytherin",
      "text/html": "<div>\n<style scoped>\n    .dataframe tbody tr th:only-of-type {\n        vertical-align: middle;\n    }\n\n    .dataframe tbody tr th {\n        vertical-align: top;\n    }\n\n    .dataframe thead th {\n        text-align: right;\n    }\n</style>\n<table border=\"1\" class=\"dataframe\">\n  <thead>\n    <tr style=\"text-align: right;\">\n      <th></th>\n      <th>firstname</th>\n      <th>lastname</th>\n      <th>marks potion</th>\n      <th>marks def. ATDA</th>\n      <th>house</th>\n    </tr>\n  </thead>\n  <tbody>\n    <tr>\n      <th>0</th>\n      <td>Harry</td>\n      <td>Potter</td>\n      <td>12</td>\n      <td>14</td>\n      <td>Gryffindor</td>\n    </tr>\n    <tr>\n      <th>2</th>\n      <td>Ron</td>\n      <td>Weasley</td>\n      <td>11</td>\n      <td>12</td>\n      <td>Gryffindor</td>\n    </tr>\n    <tr>\n      <th>3</th>\n      <td>Draco</td>\n      <td>Malfoy</td>\n      <td>11</td>\n      <td>12</td>\n      <td>Slytherin</td>\n    </tr>\n    <tr>\n      <th>6</th>\n      <td>Gregory</td>\n      <td>Goyle</td>\n      <td>7</td>\n      <td>7</td>\n      <td>Slytherin</td>\n    </tr>\n  </tbody>\n</table>\n</div>"
     },
     "execution_count": 10,
     "metadata": {},
     "output_type": "execute_result"
    }
   ]
  },
  {
   "cell_type": "code",
   "source": [
    "hpdf[hpdf[\"marks potion\"] < 12]"
   ],
   "metadata": {
    "colab": {
     "base_uri": "https://localhost:8080/",
     "height": 174
    },
    "id": "LjmFjicbkT3a",
    "outputId": "e57558f3-a5c8-47be-9a20-cc690c66b55e",
    "pycharm": {
     "name": "#%%\n"
    }
   },
   "execution_count": 11,
   "outputs": [
    {
     "data": {
      "text/plain": "  firstname lastname  marks potion  marks def. ATDA       house\n2       Ron  Weasley            11               12  Gryffindor\n3     Draco   Malfoy            11               12   Slytherin\n5   Vincent   Crabbe             8                6   Slytherin\n6   Gregory    Goyle             7                7   Slytherin",
      "text/html": "<div>\n<style scoped>\n    .dataframe tbody tr th:only-of-type {\n        vertical-align: middle;\n    }\n\n    .dataframe tbody tr th {\n        vertical-align: top;\n    }\n\n    .dataframe thead th {\n        text-align: right;\n    }\n</style>\n<table border=\"1\" class=\"dataframe\">\n  <thead>\n    <tr style=\"text-align: right;\">\n      <th></th>\n      <th>firstname</th>\n      <th>lastname</th>\n      <th>marks potion</th>\n      <th>marks def. ATDA</th>\n      <th>house</th>\n    </tr>\n  </thead>\n  <tbody>\n    <tr>\n      <th>2</th>\n      <td>Ron</td>\n      <td>Weasley</td>\n      <td>11</td>\n      <td>12</td>\n      <td>Gryffindor</td>\n    </tr>\n    <tr>\n      <th>3</th>\n      <td>Draco</td>\n      <td>Malfoy</td>\n      <td>11</td>\n      <td>12</td>\n      <td>Slytherin</td>\n    </tr>\n    <tr>\n      <th>5</th>\n      <td>Vincent</td>\n      <td>Crabbe</td>\n      <td>8</td>\n      <td>6</td>\n      <td>Slytherin</td>\n    </tr>\n    <tr>\n      <th>6</th>\n      <td>Gregory</td>\n      <td>Goyle</td>\n      <td>7</td>\n      <td>7</td>\n      <td>Slytherin</td>\n    </tr>\n  </tbody>\n</table>\n</div>"
     },
     "execution_count": 11,
     "metadata": {},
     "output_type": "execute_result"
    }
   ]
  },
  {
   "cell_type": "code",
   "source": [
    "hpdf[(hpdf[\"marks potion\"] < 12) & ~((hpdf[\"marks def. ATDA\"] >= 12))]\n"
   ],
   "metadata": {
    "colab": {
     "base_uri": "https://localhost:8080/",
     "height": 112
    },
    "id": "jIEIoSeakWbW",
    "outputId": "56b36f23-fb93-42f7-e496-bffa31429121",
    "pycharm": {
     "name": "#%%\n"
    }
   },
   "execution_count": 12,
   "outputs": [
    {
     "data": {
      "text/plain": "  firstname lastname  marks potion  marks def. ATDA      house\n5   Vincent   Crabbe             8                6  Slytherin\n6   Gregory    Goyle             7                7  Slytherin",
      "text/html": "<div>\n<style scoped>\n    .dataframe tbody tr th:only-of-type {\n        vertical-align: middle;\n    }\n\n    .dataframe tbody tr th {\n        vertical-align: top;\n    }\n\n    .dataframe thead th {\n        text-align: right;\n    }\n</style>\n<table border=\"1\" class=\"dataframe\">\n  <thead>\n    <tr style=\"text-align: right;\">\n      <th></th>\n      <th>firstname</th>\n      <th>lastname</th>\n      <th>marks potion</th>\n      <th>marks def. ATDA</th>\n      <th>house</th>\n    </tr>\n  </thead>\n  <tbody>\n    <tr>\n      <th>5</th>\n      <td>Vincent</td>\n      <td>Crabbe</td>\n      <td>8</td>\n      <td>6</td>\n      <td>Slytherin</td>\n    </tr>\n    <tr>\n      <th>6</th>\n      <td>Gregory</td>\n      <td>Goyle</td>\n      <td>7</td>\n      <td>7</td>\n      <td>Slytherin</td>\n    </tr>\n  </tbody>\n</table>\n</div>"
     },
     "execution_count": 12,
     "metadata": {},
     "output_type": "execute_result"
    }
   ]
  },
  {
   "cell_type": "code",
   "source": [
    "hpdf.loc[(hpdf[\"marks potion\"] < 12) & ~((hpdf[\"marks def. ATDA\"] >= 12)), [\"firstname\", \"lastname\"]]\n"
   ],
   "metadata": {
    "colab": {
     "base_uri": "https://localhost:8080/",
     "height": 112
    },
    "id": "c4ojdCM0lGFQ",
    "outputId": "b364dde1-c005-4b6a-dce5-5c3a35b3ba65",
    "pycharm": {
     "name": "#%%\n"
    }
   },
   "execution_count": 13,
   "outputs": [
    {
     "data": {
      "text/plain": "  firstname lastname\n5   Vincent   Crabbe\n6   Gregory    Goyle",
      "text/html": "<div>\n<style scoped>\n    .dataframe tbody tr th:only-of-type {\n        vertical-align: middle;\n    }\n\n    .dataframe tbody tr th {\n        vertical-align: top;\n    }\n\n    .dataframe thead th {\n        text-align: right;\n    }\n</style>\n<table border=\"1\" class=\"dataframe\">\n  <thead>\n    <tr style=\"text-align: right;\">\n      <th></th>\n      <th>firstname</th>\n      <th>lastname</th>\n    </tr>\n  </thead>\n  <tbody>\n    <tr>\n      <th>5</th>\n      <td>Vincent</td>\n      <td>Crabbe</td>\n    </tr>\n    <tr>\n      <th>6</th>\n      <td>Gregory</td>\n      <td>Goyle</td>\n    </tr>\n  </tbody>\n</table>\n</div>"
     },
     "execution_count": 13,
     "metadata": {},
     "output_type": "execute_result"
    }
   ]
  },
  {
   "cell_type": "code",
   "source": [
    "hpdf"
   ],
   "metadata": {
    "colab": {
     "base_uri": "https://localhost:8080/",
     "height": 300
    },
    "id": "5zet7ltyoS81",
    "outputId": "a8fc5ecd-dfb5-4f5d-b14b-b1d07dce7619",
    "pycharm": {
     "name": "#%%\n"
    }
   },
   "execution_count": 14,
   "outputs": [
    {
     "data": {
      "text/plain": "  firstname  lastname  marks potion  marks def. ATDA       house\n0     Harry    Potter            12               14  Gryffindor\n1  Hermione   Granger            18               18  Gryffindor\n2       Ron   Weasley            11               12  Gryffindor\n3     Draco    Malfoy            11               12   Slytherin\n4      Luna  Lovegood            14               10   Ravenclaw\n5   Vincent    Crabbe             8                6   Slytherin\n6   Gregory     Goyle             7                7   Slytherin\n7   Parvati     Patil            13               14   Ravenclaw",
      "text/html": "<div>\n<style scoped>\n    .dataframe tbody tr th:only-of-type {\n        vertical-align: middle;\n    }\n\n    .dataframe tbody tr th {\n        vertical-align: top;\n    }\n\n    .dataframe thead th {\n        text-align: right;\n    }\n</style>\n<table border=\"1\" class=\"dataframe\">\n  <thead>\n    <tr style=\"text-align: right;\">\n      <th></th>\n      <th>firstname</th>\n      <th>lastname</th>\n      <th>marks potion</th>\n      <th>marks def. ATDA</th>\n      <th>house</th>\n    </tr>\n  </thead>\n  <tbody>\n    <tr>\n      <th>0</th>\n      <td>Harry</td>\n      <td>Potter</td>\n      <td>12</td>\n      <td>14</td>\n      <td>Gryffindor</td>\n    </tr>\n    <tr>\n      <th>1</th>\n      <td>Hermione</td>\n      <td>Granger</td>\n      <td>18</td>\n      <td>18</td>\n      <td>Gryffindor</td>\n    </tr>\n    <tr>\n      <th>2</th>\n      <td>Ron</td>\n      <td>Weasley</td>\n      <td>11</td>\n      <td>12</td>\n      <td>Gryffindor</td>\n    </tr>\n    <tr>\n      <th>3</th>\n      <td>Draco</td>\n      <td>Malfoy</td>\n      <td>11</td>\n      <td>12</td>\n      <td>Slytherin</td>\n    </tr>\n    <tr>\n      <th>4</th>\n      <td>Luna</td>\n      <td>Lovegood</td>\n      <td>14</td>\n      <td>10</td>\n      <td>Ravenclaw</td>\n    </tr>\n    <tr>\n      <th>5</th>\n      <td>Vincent</td>\n      <td>Crabbe</td>\n      <td>8</td>\n      <td>6</td>\n      <td>Slytherin</td>\n    </tr>\n    <tr>\n      <th>6</th>\n      <td>Gregory</td>\n      <td>Goyle</td>\n      <td>7</td>\n      <td>7</td>\n      <td>Slytherin</td>\n    </tr>\n    <tr>\n      <th>7</th>\n      <td>Parvati</td>\n      <td>Patil</td>\n      <td>13</td>\n      <td>14</td>\n      <td>Ravenclaw</td>\n    </tr>\n  </tbody>\n</table>\n</div>"
     },
     "execution_count": 14,
     "metadata": {},
     "output_type": "execute_result"
    }
   ]
  },
  {
   "cell_type": "code",
   "source": [
    "hpdf.loc[3,\"firstname\"] = \"Bob\"\n",
    "hpdf[\"mark other\"] = 10\n",
    "hpdf[\"nice\"] = pd.Series([True, True, True, True, True, False, False, False])\n",
    "hpdf.loc[hpdf[\"nice\"], \"mark other\"] = hpdf.loc[hpdf[\"nice\"], \"mark other\"]+1\n",
    "hpdf[\"final mark\"] = (hpdf[\"marks potion\"] + hpdf[\"marks def. ATDA\"] + hpdf[\"mark other\"]) / 3\n",
    "hpdf"
   ],
   "metadata": {
    "colab": {
     "base_uri": "https://localhost:8080/",
     "height": 300
    },
    "id": "iQiST4QgmEpP",
    "outputId": "7b4f0ff9-d950-4ae4-f860-04882df89c10",
    "pycharm": {
     "name": "#%%\n"
    }
   },
   "execution_count": 15,
   "outputs": [
    {
     "data": {
      "text/plain": "  firstname  lastname  marks potion  marks def. ATDA       house  mark other  \\\n0     Harry    Potter            12               14  Gryffindor          11   \n1  Hermione   Granger            18               18  Gryffindor          11   \n2       Ron   Weasley            11               12  Gryffindor          11   \n3       Bob    Malfoy            11               12   Slytherin          11   \n4      Luna  Lovegood            14               10   Ravenclaw          11   \n5   Vincent    Crabbe             8                6   Slytherin          10   \n6   Gregory     Goyle             7                7   Slytherin          10   \n7   Parvati     Patil            13               14   Ravenclaw          10   \n\n    nice  final mark  \n0   True   12.333333  \n1   True   15.666667  \n2   True   11.333333  \n3   True   11.333333  \n4   True   11.666667  \n5  False    8.000000  \n6  False    8.000000  \n7  False   12.333333  ",
      "text/html": "<div>\n<style scoped>\n    .dataframe tbody tr th:only-of-type {\n        vertical-align: middle;\n    }\n\n    .dataframe tbody tr th {\n        vertical-align: top;\n    }\n\n    .dataframe thead th {\n        text-align: right;\n    }\n</style>\n<table border=\"1\" class=\"dataframe\">\n  <thead>\n    <tr style=\"text-align: right;\">\n      <th></th>\n      <th>firstname</th>\n      <th>lastname</th>\n      <th>marks potion</th>\n      <th>marks def. ATDA</th>\n      <th>house</th>\n      <th>mark other</th>\n      <th>nice</th>\n      <th>final mark</th>\n    </tr>\n  </thead>\n  <tbody>\n    <tr>\n      <th>0</th>\n      <td>Harry</td>\n      <td>Potter</td>\n      <td>12</td>\n      <td>14</td>\n      <td>Gryffindor</td>\n      <td>11</td>\n      <td>True</td>\n      <td>12.333333</td>\n    </tr>\n    <tr>\n      <th>1</th>\n      <td>Hermione</td>\n      <td>Granger</td>\n      <td>18</td>\n      <td>18</td>\n      <td>Gryffindor</td>\n      <td>11</td>\n      <td>True</td>\n      <td>15.666667</td>\n    </tr>\n    <tr>\n      <th>2</th>\n      <td>Ron</td>\n      <td>Weasley</td>\n      <td>11</td>\n      <td>12</td>\n      <td>Gryffindor</td>\n      <td>11</td>\n      <td>True</td>\n      <td>11.333333</td>\n    </tr>\n    <tr>\n      <th>3</th>\n      <td>Bob</td>\n      <td>Malfoy</td>\n      <td>11</td>\n      <td>12</td>\n      <td>Slytherin</td>\n      <td>11</td>\n      <td>True</td>\n      <td>11.333333</td>\n    </tr>\n    <tr>\n      <th>4</th>\n      <td>Luna</td>\n      <td>Lovegood</td>\n      <td>14</td>\n      <td>10</td>\n      <td>Ravenclaw</td>\n      <td>11</td>\n      <td>True</td>\n      <td>11.666667</td>\n    </tr>\n    <tr>\n      <th>5</th>\n      <td>Vincent</td>\n      <td>Crabbe</td>\n      <td>8</td>\n      <td>6</td>\n      <td>Slytherin</td>\n      <td>10</td>\n      <td>False</td>\n      <td>8.000000</td>\n    </tr>\n    <tr>\n      <th>6</th>\n      <td>Gregory</td>\n      <td>Goyle</td>\n      <td>7</td>\n      <td>7</td>\n      <td>Slytherin</td>\n      <td>10</td>\n      <td>False</td>\n      <td>8.000000</td>\n    </tr>\n    <tr>\n      <th>7</th>\n      <td>Parvati</td>\n      <td>Patil</td>\n      <td>13</td>\n      <td>14</td>\n      <td>Ravenclaw</td>\n      <td>10</td>\n      <td>False</td>\n      <td>12.333333</td>\n    </tr>\n  </tbody>\n</table>\n</div>"
     },
     "execution_count": 15,
     "metadata": {},
     "output_type": "execute_result"
    }
   ]
  },
  {
   "cell_type": "code",
   "source": [
    "hpdf2 = hpdf.set_index([\"firstname\"])\n",
    "hpdf2 = hpdf2.rename(columns={\"nice\": \"good guys\"}, index={\"Bob\": \"Draco\"})\n",
    "hpdf2 = hpdf2.replace(\"Slytherin\", \"Bad House\")\n",
    "hpdf2 = hpdf2.drop(\"Parvati\")\n",
    "hpdf2 = hpdf2.reset_index().set_index([\"firstname\",\"lastname\"])\n",
    "hpdf2"
   ],
   "metadata": {
    "colab": {
     "base_uri": "https://localhost:8080/",
     "height": 300
    },
    "id": "MseiKZ5yqmVa",
    "outputId": "ad6966b2-047d-47e6-a6e9-c87217d4ad8e",
    "pycharm": {
     "name": "#%%\n"
    }
   },
   "execution_count": 16,
   "outputs": [
    {
     "data": {
      "text/plain": "                    marks potion  marks def. ATDA       house  mark other  \\\nfirstname lastname                                                          \nHarry     Potter              12               14  Gryffindor          11   \nHermione  Granger             18               18  Gryffindor          11   \nRon       Weasley             11               12  Gryffindor          11   \nDraco     Malfoy              11               12   Bad House          11   \nLuna      Lovegood            14               10   Ravenclaw          11   \nVincent   Crabbe               8                6   Bad House          10   \nGregory   Goyle                7                7   Bad House          10   \n\n                    good guys  final mark  \nfirstname lastname                         \nHarry     Potter         True   12.333333  \nHermione  Granger        True   15.666667  \nRon       Weasley        True   11.333333  \nDraco     Malfoy         True   11.333333  \nLuna      Lovegood       True   11.666667  \nVincent   Crabbe        False    8.000000  \nGregory   Goyle         False    8.000000  ",
      "text/html": "<div>\n<style scoped>\n    .dataframe tbody tr th:only-of-type {\n        vertical-align: middle;\n    }\n\n    .dataframe tbody tr th {\n        vertical-align: top;\n    }\n\n    .dataframe thead th {\n        text-align: right;\n    }\n</style>\n<table border=\"1\" class=\"dataframe\">\n  <thead>\n    <tr style=\"text-align: right;\">\n      <th></th>\n      <th></th>\n      <th>marks potion</th>\n      <th>marks def. ATDA</th>\n      <th>house</th>\n      <th>mark other</th>\n      <th>good guys</th>\n      <th>final mark</th>\n    </tr>\n    <tr>\n      <th>firstname</th>\n      <th>lastname</th>\n      <th></th>\n      <th></th>\n      <th></th>\n      <th></th>\n      <th></th>\n      <th></th>\n    </tr>\n  </thead>\n  <tbody>\n    <tr>\n      <th>Harry</th>\n      <th>Potter</th>\n      <td>12</td>\n      <td>14</td>\n      <td>Gryffindor</td>\n      <td>11</td>\n      <td>True</td>\n      <td>12.333333</td>\n    </tr>\n    <tr>\n      <th>Hermione</th>\n      <th>Granger</th>\n      <td>18</td>\n      <td>18</td>\n      <td>Gryffindor</td>\n      <td>11</td>\n      <td>True</td>\n      <td>15.666667</td>\n    </tr>\n    <tr>\n      <th>Ron</th>\n      <th>Weasley</th>\n      <td>11</td>\n      <td>12</td>\n      <td>Gryffindor</td>\n      <td>11</td>\n      <td>True</td>\n      <td>11.333333</td>\n    </tr>\n    <tr>\n      <th>Draco</th>\n      <th>Malfoy</th>\n      <td>11</td>\n      <td>12</td>\n      <td>Bad House</td>\n      <td>11</td>\n      <td>True</td>\n      <td>11.333333</td>\n    </tr>\n    <tr>\n      <th>Luna</th>\n      <th>Lovegood</th>\n      <td>14</td>\n      <td>10</td>\n      <td>Ravenclaw</td>\n      <td>11</td>\n      <td>True</td>\n      <td>11.666667</td>\n    </tr>\n    <tr>\n      <th>Vincent</th>\n      <th>Crabbe</th>\n      <td>8</td>\n      <td>6</td>\n      <td>Bad House</td>\n      <td>10</td>\n      <td>False</td>\n      <td>8.000000</td>\n    </tr>\n    <tr>\n      <th>Gregory</th>\n      <th>Goyle</th>\n      <td>7</td>\n      <td>7</td>\n      <td>Bad House</td>\n      <td>10</td>\n      <td>False</td>\n      <td>8.000000</td>\n    </tr>\n  </tbody>\n</table>\n</div>"
     },
     "execution_count": 16,
     "metadata": {},
     "output_type": "execute_result"
    }
   ]
  },
  {
   "cell_type": "code",
   "source": [
    "hpdf2.drop(\"good guys\", axis=1, inplace=True)\n",
    "hpdf2"
   ],
   "metadata": {
    "colab": {
     "base_uri": "https://localhost:8080/",
     "height": 300
    },
    "id": "4kPpmafOtXOq",
    "outputId": "7190b6e7-5843-4d49-c3d7-a9e8d5bc619e",
    "pycharm": {
     "name": "#%%\n"
    }
   },
   "execution_count": 17,
   "outputs": [
    {
     "data": {
      "text/plain": "                    marks potion  marks def. ATDA       house  mark other  \\\nfirstname lastname                                                          \nHarry     Potter              12               14  Gryffindor          11   \nHermione  Granger             18               18  Gryffindor          11   \nRon       Weasley             11               12  Gryffindor          11   \nDraco     Malfoy              11               12   Bad House          11   \nLuna      Lovegood            14               10   Ravenclaw          11   \nVincent   Crabbe               8                6   Bad House          10   \nGregory   Goyle                7                7   Bad House          10   \n\n                    final mark  \nfirstname lastname              \nHarry     Potter     12.333333  \nHermione  Granger    15.666667  \nRon       Weasley    11.333333  \nDraco     Malfoy     11.333333  \nLuna      Lovegood   11.666667  \nVincent   Crabbe      8.000000  \nGregory   Goyle       8.000000  ",
      "text/html": "<div>\n<style scoped>\n    .dataframe tbody tr th:only-of-type {\n        vertical-align: middle;\n    }\n\n    .dataframe tbody tr th {\n        vertical-align: top;\n    }\n\n    .dataframe thead th {\n        text-align: right;\n    }\n</style>\n<table border=\"1\" class=\"dataframe\">\n  <thead>\n    <tr style=\"text-align: right;\">\n      <th></th>\n      <th></th>\n      <th>marks potion</th>\n      <th>marks def. ATDA</th>\n      <th>house</th>\n      <th>mark other</th>\n      <th>final mark</th>\n    </tr>\n    <tr>\n      <th>firstname</th>\n      <th>lastname</th>\n      <th></th>\n      <th></th>\n      <th></th>\n      <th></th>\n      <th></th>\n    </tr>\n  </thead>\n  <tbody>\n    <tr>\n      <th>Harry</th>\n      <th>Potter</th>\n      <td>12</td>\n      <td>14</td>\n      <td>Gryffindor</td>\n      <td>11</td>\n      <td>12.333333</td>\n    </tr>\n    <tr>\n      <th>Hermione</th>\n      <th>Granger</th>\n      <td>18</td>\n      <td>18</td>\n      <td>Gryffindor</td>\n      <td>11</td>\n      <td>15.666667</td>\n    </tr>\n    <tr>\n      <th>Ron</th>\n      <th>Weasley</th>\n      <td>11</td>\n      <td>12</td>\n      <td>Gryffindor</td>\n      <td>11</td>\n      <td>11.333333</td>\n    </tr>\n    <tr>\n      <th>Draco</th>\n      <th>Malfoy</th>\n      <td>11</td>\n      <td>12</td>\n      <td>Bad House</td>\n      <td>11</td>\n      <td>11.333333</td>\n    </tr>\n    <tr>\n      <th>Luna</th>\n      <th>Lovegood</th>\n      <td>14</td>\n      <td>10</td>\n      <td>Ravenclaw</td>\n      <td>11</td>\n      <td>11.666667</td>\n    </tr>\n    <tr>\n      <th>Vincent</th>\n      <th>Crabbe</th>\n      <td>8</td>\n      <td>6</td>\n      <td>Bad House</td>\n      <td>10</td>\n      <td>8.000000</td>\n    </tr>\n    <tr>\n      <th>Gregory</th>\n      <th>Goyle</th>\n      <td>7</td>\n      <td>7</td>\n      <td>Bad House</td>\n      <td>10</td>\n      <td>8.000000</td>\n    </tr>\n  </tbody>\n</table>\n</div>"
     },
     "execution_count": 17,
     "metadata": {},
     "output_type": "execute_result"
    }
   ]
  },
  {
   "cell_type": "code",
   "source": [
    "def passOrFail(x): return \"pass\" if x>10 else \"fail\"\n",
    "hpdf3 = hpdf2.copy()\n",
    "hpdf3[\"p/f\"] = hpdf3[\"final mark\"].apply(passOrFail)\n",
    "hpdf3 = hpdf3.T\n",
    "hpdf3"
   ],
   "metadata": {
    "colab": {
     "base_uri": "https://localhost:8080/",
     "height": 269
    },
    "id": "EOrTuyjpuw5J",
    "outputId": "758fff89-6000-4cda-e057-aaa05cb46213",
    "pycharm": {
     "name": "#%%\n"
    }
   },
   "execution_count": 18,
   "outputs": [
    {
     "data": {
      "text/plain": "firstname             Harry    Hermione         Ron      Draco       Luna  \\\nlastname             Potter     Granger     Weasley     Malfoy   Lovegood   \nmarks potion             12          18          11         11         14   \nmarks def. ATDA          14          18          12         12         10   \nhouse            Gryffindor  Gryffindor  Gryffindor  Bad House  Ravenclaw   \nmark other               11          11          11         11         11   \nfinal mark        12.333333   15.666667   11.333333  11.333333  11.666667   \np/f                    pass        pass        pass       pass       pass   \n\nfirstname          Vincent    Gregory  \nlastname            Crabbe      Goyle  \nmarks potion             8          7  \nmarks def. ATDA          6          7  \nhouse            Bad House  Bad House  \nmark other              10         10  \nfinal mark             8.0        8.0  \np/f                   fail       fail  ",
      "text/html": "<div>\n<style scoped>\n    .dataframe tbody tr th:only-of-type {\n        vertical-align: middle;\n    }\n\n    .dataframe tbody tr th {\n        vertical-align: top;\n    }\n\n    .dataframe thead tr th {\n        text-align: left;\n    }\n</style>\n<table border=\"1\" class=\"dataframe\">\n  <thead>\n    <tr>\n      <th>firstname</th>\n      <th>Harry</th>\n      <th>Hermione</th>\n      <th>Ron</th>\n      <th>Draco</th>\n      <th>Luna</th>\n      <th>Vincent</th>\n      <th>Gregory</th>\n    </tr>\n    <tr>\n      <th>lastname</th>\n      <th>Potter</th>\n      <th>Granger</th>\n      <th>Weasley</th>\n      <th>Malfoy</th>\n      <th>Lovegood</th>\n      <th>Crabbe</th>\n      <th>Goyle</th>\n    </tr>\n  </thead>\n  <tbody>\n    <tr>\n      <th>marks potion</th>\n      <td>12</td>\n      <td>18</td>\n      <td>11</td>\n      <td>11</td>\n      <td>14</td>\n      <td>8</td>\n      <td>7</td>\n    </tr>\n    <tr>\n      <th>marks def. ATDA</th>\n      <td>14</td>\n      <td>18</td>\n      <td>12</td>\n      <td>12</td>\n      <td>10</td>\n      <td>6</td>\n      <td>7</td>\n    </tr>\n    <tr>\n      <th>house</th>\n      <td>Gryffindor</td>\n      <td>Gryffindor</td>\n      <td>Gryffindor</td>\n      <td>Bad House</td>\n      <td>Ravenclaw</td>\n      <td>Bad House</td>\n      <td>Bad House</td>\n    </tr>\n    <tr>\n      <th>mark other</th>\n      <td>11</td>\n      <td>11</td>\n      <td>11</td>\n      <td>11</td>\n      <td>11</td>\n      <td>10</td>\n      <td>10</td>\n    </tr>\n    <tr>\n      <th>final mark</th>\n      <td>12.333333</td>\n      <td>15.666667</td>\n      <td>11.333333</td>\n      <td>11.333333</td>\n      <td>11.666667</td>\n      <td>8.0</td>\n      <td>8.0</td>\n    </tr>\n    <tr>\n      <th>p/f</th>\n      <td>pass</td>\n      <td>pass</td>\n      <td>pass</td>\n      <td>pass</td>\n      <td>pass</td>\n      <td>fail</td>\n      <td>fail</td>\n    </tr>\n  </tbody>\n</table>\n</div>"
     },
     "execution_count": 18,
     "metadata": {},
     "output_type": "execute_result"
    }
   ]
  },
  {
   "cell_type": "code",
   "source": [
    "hpdf3 = hpdf2.copy()\n",
    "hpdf3[\"p/f\"] = hpdf3[\"final mark\"].apply(lambda x: \"pass\" if x>10 else \"fail\")\n",
    "hpdf3 = hpdf3.T\n",
    "hpdf3"
   ],
   "metadata": {
    "colab": {
     "base_uri": "https://localhost:8080/",
     "height": 269
    },
    "id": "LbuSzPVDvgiC",
    "outputId": "bd470254-0a46-48a7-f98c-6de7bbb4e1eb",
    "pycharm": {
     "name": "#%%\n"
    }
   },
   "execution_count": 19,
   "outputs": [
    {
     "data": {
      "text/plain": "firstname             Harry    Hermione         Ron      Draco       Luna  \\\nlastname             Potter     Granger     Weasley     Malfoy   Lovegood   \nmarks potion             12          18          11         11         14   \nmarks def. ATDA          14          18          12         12         10   \nhouse            Gryffindor  Gryffindor  Gryffindor  Bad House  Ravenclaw   \nmark other               11          11          11         11         11   \nfinal mark        12.333333   15.666667   11.333333  11.333333  11.666667   \np/f                    pass        pass        pass       pass       pass   \n\nfirstname          Vincent    Gregory  \nlastname            Crabbe      Goyle  \nmarks potion             8          7  \nmarks def. ATDA          6          7  \nhouse            Bad House  Bad House  \nmark other              10         10  \nfinal mark             8.0        8.0  \np/f                   fail       fail  ",
      "text/html": "<div>\n<style scoped>\n    .dataframe tbody tr th:only-of-type {\n        vertical-align: middle;\n    }\n\n    .dataframe tbody tr th {\n        vertical-align: top;\n    }\n\n    .dataframe thead tr th {\n        text-align: left;\n    }\n</style>\n<table border=\"1\" class=\"dataframe\">\n  <thead>\n    <tr>\n      <th>firstname</th>\n      <th>Harry</th>\n      <th>Hermione</th>\n      <th>Ron</th>\n      <th>Draco</th>\n      <th>Luna</th>\n      <th>Vincent</th>\n      <th>Gregory</th>\n    </tr>\n    <tr>\n      <th>lastname</th>\n      <th>Potter</th>\n      <th>Granger</th>\n      <th>Weasley</th>\n      <th>Malfoy</th>\n      <th>Lovegood</th>\n      <th>Crabbe</th>\n      <th>Goyle</th>\n    </tr>\n  </thead>\n  <tbody>\n    <tr>\n      <th>marks potion</th>\n      <td>12</td>\n      <td>18</td>\n      <td>11</td>\n      <td>11</td>\n      <td>14</td>\n      <td>8</td>\n      <td>7</td>\n    </tr>\n    <tr>\n      <th>marks def. ATDA</th>\n      <td>14</td>\n      <td>18</td>\n      <td>12</td>\n      <td>12</td>\n      <td>10</td>\n      <td>6</td>\n      <td>7</td>\n    </tr>\n    <tr>\n      <th>house</th>\n      <td>Gryffindor</td>\n      <td>Gryffindor</td>\n      <td>Gryffindor</td>\n      <td>Bad House</td>\n      <td>Ravenclaw</td>\n      <td>Bad House</td>\n      <td>Bad House</td>\n    </tr>\n    <tr>\n      <th>mark other</th>\n      <td>11</td>\n      <td>11</td>\n      <td>11</td>\n      <td>11</td>\n      <td>11</td>\n      <td>10</td>\n      <td>10</td>\n    </tr>\n    <tr>\n      <th>final mark</th>\n      <td>12.333333</td>\n      <td>15.666667</td>\n      <td>11.333333</td>\n      <td>11.333333</td>\n      <td>11.666667</td>\n      <td>8.0</td>\n      <td>8.0</td>\n    </tr>\n    <tr>\n      <th>p/f</th>\n      <td>pass</td>\n      <td>pass</td>\n      <td>pass</td>\n      <td>pass</td>\n      <td>pass</td>\n      <td>fail</td>\n      <td>fail</td>\n    </tr>\n  </tbody>\n</table>\n</div>"
     },
     "execution_count": 19,
     "metadata": {},
     "output_type": "execute_result"
    }
   ]
  },
  {
   "cell_type": "markdown",
   "source": [
    "# Chargement\n",
    "\n",
    "## fichier CSV"
   ],
   "metadata": {
    "id": "ziiHrmFYwECY",
    "pycharm": {
     "name": "#%% md\n"
    }
   }
  },
  {
   "cell_type": "code",
   "source": [
    "df = pd.read_csv(\"food.csv\")\n",
    "df"
   ],
   "metadata": {
    "id": "USZwXWTXwKK6",
    "pycharm": {
     "name": "#%%\n"
    }
   },
   "execution_count": 20,
   "outputs": [
    {
     "ename": "FileNotFoundError",
     "evalue": "[Errno 2] No such file or directory: 'food.csv'",
     "output_type": "error",
     "traceback": [
      "\u001B[1;31m---------------------------------------------------------------------------\u001B[0m",
      "\u001B[1;31mFileNotFoundError\u001B[0m                         Traceback (most recent call last)",
      "Input \u001B[1;32mIn [20]\u001B[0m, in \u001B[0;36m<cell line: 1>\u001B[1;34m()\u001B[0m\n\u001B[1;32m----> 1\u001B[0m df \u001B[38;5;241m=\u001B[39m \u001B[43mpd\u001B[49m\u001B[38;5;241;43m.\u001B[39;49m\u001B[43mread_csv\u001B[49m\u001B[43m(\u001B[49m\u001B[38;5;124;43m\"\u001B[39;49m\u001B[38;5;124;43mfood.csv\u001B[39;49m\u001B[38;5;124;43m\"\u001B[39;49m\u001B[43m)\u001B[49m\n\u001B[0;32m      2\u001B[0m df\n",
      "File \u001B[1;32mC:\\ProgramData\\Anaconda3\\lib\\site-packages\\pandas\\util\\_decorators.py:211\u001B[0m, in \u001B[0;36mdeprecate_kwarg.<locals>._deprecate_kwarg.<locals>.wrapper\u001B[1;34m(*args, **kwargs)\u001B[0m\n\u001B[0;32m    209\u001B[0m     \u001B[38;5;28;01melse\u001B[39;00m:\n\u001B[0;32m    210\u001B[0m         kwargs[new_arg_name] \u001B[38;5;241m=\u001B[39m new_arg_value\n\u001B[1;32m--> 211\u001B[0m \u001B[38;5;28;01mreturn\u001B[39;00m func(\u001B[38;5;241m*\u001B[39margs, \u001B[38;5;241m*\u001B[39m\u001B[38;5;241m*\u001B[39mkwargs)\n",
      "File \u001B[1;32mC:\\ProgramData\\Anaconda3\\lib\\site-packages\\pandas\\util\\_decorators.py:331\u001B[0m, in \u001B[0;36mdeprecate_nonkeyword_arguments.<locals>.decorate.<locals>.wrapper\u001B[1;34m(*args, **kwargs)\u001B[0m\n\u001B[0;32m    325\u001B[0m \u001B[38;5;28;01mif\u001B[39;00m \u001B[38;5;28mlen\u001B[39m(args) \u001B[38;5;241m>\u001B[39m num_allow_args:\n\u001B[0;32m    326\u001B[0m     warnings\u001B[38;5;241m.\u001B[39mwarn(\n\u001B[0;32m    327\u001B[0m         msg\u001B[38;5;241m.\u001B[39mformat(arguments\u001B[38;5;241m=\u001B[39m_format_argument_list(allow_args)),\n\u001B[0;32m    328\u001B[0m         \u001B[38;5;167;01mFutureWarning\u001B[39;00m,\n\u001B[0;32m    329\u001B[0m         stacklevel\u001B[38;5;241m=\u001B[39mfind_stack_level(),\n\u001B[0;32m    330\u001B[0m     )\n\u001B[1;32m--> 331\u001B[0m \u001B[38;5;28;01mreturn\u001B[39;00m func(\u001B[38;5;241m*\u001B[39margs, \u001B[38;5;241m*\u001B[39m\u001B[38;5;241m*\u001B[39mkwargs)\n",
      "File \u001B[1;32mC:\\ProgramData\\Anaconda3\\lib\\site-packages\\pandas\\io\\parsers\\readers.py:950\u001B[0m, in \u001B[0;36mread_csv\u001B[1;34m(filepath_or_buffer, sep, delimiter, header, names, index_col, usecols, squeeze, prefix, mangle_dupe_cols, dtype, engine, converters, true_values, false_values, skipinitialspace, skiprows, skipfooter, nrows, na_values, keep_default_na, na_filter, verbose, skip_blank_lines, parse_dates, infer_datetime_format, keep_date_col, date_parser, dayfirst, cache_dates, iterator, chunksize, compression, thousands, decimal, lineterminator, quotechar, quoting, doublequote, escapechar, comment, encoding, encoding_errors, dialect, error_bad_lines, warn_bad_lines, on_bad_lines, delim_whitespace, low_memory, memory_map, float_precision, storage_options)\u001B[0m\n\u001B[0;32m    935\u001B[0m kwds_defaults \u001B[38;5;241m=\u001B[39m _refine_defaults_read(\n\u001B[0;32m    936\u001B[0m     dialect,\n\u001B[0;32m    937\u001B[0m     delimiter,\n\u001B[1;32m   (...)\u001B[0m\n\u001B[0;32m    946\u001B[0m     defaults\u001B[38;5;241m=\u001B[39m{\u001B[38;5;124m\"\u001B[39m\u001B[38;5;124mdelimiter\u001B[39m\u001B[38;5;124m\"\u001B[39m: \u001B[38;5;124m\"\u001B[39m\u001B[38;5;124m,\u001B[39m\u001B[38;5;124m\"\u001B[39m},\n\u001B[0;32m    947\u001B[0m )\n\u001B[0;32m    948\u001B[0m kwds\u001B[38;5;241m.\u001B[39mupdate(kwds_defaults)\n\u001B[1;32m--> 950\u001B[0m \u001B[38;5;28;01mreturn\u001B[39;00m \u001B[43m_read\u001B[49m\u001B[43m(\u001B[49m\u001B[43mfilepath_or_buffer\u001B[49m\u001B[43m,\u001B[49m\u001B[43m \u001B[49m\u001B[43mkwds\u001B[49m\u001B[43m)\u001B[49m\n",
      "File \u001B[1;32mC:\\ProgramData\\Anaconda3\\lib\\site-packages\\pandas\\io\\parsers\\readers.py:605\u001B[0m, in \u001B[0;36m_read\u001B[1;34m(filepath_or_buffer, kwds)\u001B[0m\n\u001B[0;32m    602\u001B[0m _validate_names(kwds\u001B[38;5;241m.\u001B[39mget(\u001B[38;5;124m\"\u001B[39m\u001B[38;5;124mnames\u001B[39m\u001B[38;5;124m\"\u001B[39m, \u001B[38;5;28;01mNone\u001B[39;00m))\n\u001B[0;32m    604\u001B[0m \u001B[38;5;66;03m# Create the parser.\u001B[39;00m\n\u001B[1;32m--> 605\u001B[0m parser \u001B[38;5;241m=\u001B[39m TextFileReader(filepath_or_buffer, \u001B[38;5;241m*\u001B[39m\u001B[38;5;241m*\u001B[39mkwds)\n\u001B[0;32m    607\u001B[0m \u001B[38;5;28;01mif\u001B[39;00m chunksize \u001B[38;5;129;01mor\u001B[39;00m iterator:\n\u001B[0;32m    608\u001B[0m     \u001B[38;5;28;01mreturn\u001B[39;00m parser\n",
      "File \u001B[1;32mC:\\ProgramData\\Anaconda3\\lib\\site-packages\\pandas\\io\\parsers\\readers.py:1442\u001B[0m, in \u001B[0;36mTextFileReader.__init__\u001B[1;34m(self, f, engine, **kwds)\u001B[0m\n\u001B[0;32m   1439\u001B[0m     \u001B[38;5;28mself\u001B[39m\u001B[38;5;241m.\u001B[39moptions[\u001B[38;5;124m\"\u001B[39m\u001B[38;5;124mhas_index_names\u001B[39m\u001B[38;5;124m\"\u001B[39m] \u001B[38;5;241m=\u001B[39m kwds[\u001B[38;5;124m\"\u001B[39m\u001B[38;5;124mhas_index_names\u001B[39m\u001B[38;5;124m\"\u001B[39m]\n\u001B[0;32m   1441\u001B[0m \u001B[38;5;28mself\u001B[39m\u001B[38;5;241m.\u001B[39mhandles: IOHandles \u001B[38;5;241m|\u001B[39m \u001B[38;5;28;01mNone\u001B[39;00m \u001B[38;5;241m=\u001B[39m \u001B[38;5;28;01mNone\u001B[39;00m\n\u001B[1;32m-> 1442\u001B[0m \u001B[38;5;28mself\u001B[39m\u001B[38;5;241m.\u001B[39m_engine \u001B[38;5;241m=\u001B[39m \u001B[38;5;28;43mself\u001B[39;49m\u001B[38;5;241;43m.\u001B[39;49m\u001B[43m_make_engine\u001B[49m\u001B[43m(\u001B[49m\u001B[43mf\u001B[49m\u001B[43m,\u001B[49m\u001B[43m \u001B[49m\u001B[38;5;28;43mself\u001B[39;49m\u001B[38;5;241;43m.\u001B[39;49m\u001B[43mengine\u001B[49m\u001B[43m)\u001B[49m\n",
      "File \u001B[1;32mC:\\ProgramData\\Anaconda3\\lib\\site-packages\\pandas\\io\\parsers\\readers.py:1735\u001B[0m, in \u001B[0;36mTextFileReader._make_engine\u001B[1;34m(self, f, engine)\u001B[0m\n\u001B[0;32m   1733\u001B[0m     \u001B[38;5;28;01mif\u001B[39;00m \u001B[38;5;124m\"\u001B[39m\u001B[38;5;124mb\u001B[39m\u001B[38;5;124m\"\u001B[39m \u001B[38;5;129;01mnot\u001B[39;00m \u001B[38;5;129;01min\u001B[39;00m mode:\n\u001B[0;32m   1734\u001B[0m         mode \u001B[38;5;241m+\u001B[39m\u001B[38;5;241m=\u001B[39m \u001B[38;5;124m\"\u001B[39m\u001B[38;5;124mb\u001B[39m\u001B[38;5;124m\"\u001B[39m\n\u001B[1;32m-> 1735\u001B[0m \u001B[38;5;28mself\u001B[39m\u001B[38;5;241m.\u001B[39mhandles \u001B[38;5;241m=\u001B[39m \u001B[43mget_handle\u001B[49m\u001B[43m(\u001B[49m\n\u001B[0;32m   1736\u001B[0m \u001B[43m    \u001B[49m\u001B[43mf\u001B[49m\u001B[43m,\u001B[49m\n\u001B[0;32m   1737\u001B[0m \u001B[43m    \u001B[49m\u001B[43mmode\u001B[49m\u001B[43m,\u001B[49m\n\u001B[0;32m   1738\u001B[0m \u001B[43m    \u001B[49m\u001B[43mencoding\u001B[49m\u001B[38;5;241;43m=\u001B[39;49m\u001B[38;5;28;43mself\u001B[39;49m\u001B[38;5;241;43m.\u001B[39;49m\u001B[43moptions\u001B[49m\u001B[38;5;241;43m.\u001B[39;49m\u001B[43mget\u001B[49m\u001B[43m(\u001B[49m\u001B[38;5;124;43m\"\u001B[39;49m\u001B[38;5;124;43mencoding\u001B[39;49m\u001B[38;5;124;43m\"\u001B[39;49m\u001B[43m,\u001B[49m\u001B[43m \u001B[49m\u001B[38;5;28;43;01mNone\u001B[39;49;00m\u001B[43m)\u001B[49m\u001B[43m,\u001B[49m\n\u001B[0;32m   1739\u001B[0m \u001B[43m    \u001B[49m\u001B[43mcompression\u001B[49m\u001B[38;5;241;43m=\u001B[39;49m\u001B[38;5;28;43mself\u001B[39;49m\u001B[38;5;241;43m.\u001B[39;49m\u001B[43moptions\u001B[49m\u001B[38;5;241;43m.\u001B[39;49m\u001B[43mget\u001B[49m\u001B[43m(\u001B[49m\u001B[38;5;124;43m\"\u001B[39;49m\u001B[38;5;124;43mcompression\u001B[39;49m\u001B[38;5;124;43m\"\u001B[39;49m\u001B[43m,\u001B[49m\u001B[43m \u001B[49m\u001B[38;5;28;43;01mNone\u001B[39;49;00m\u001B[43m)\u001B[49m\u001B[43m,\u001B[49m\n\u001B[0;32m   1740\u001B[0m \u001B[43m    \u001B[49m\u001B[43mmemory_map\u001B[49m\u001B[38;5;241;43m=\u001B[39;49m\u001B[38;5;28;43mself\u001B[39;49m\u001B[38;5;241;43m.\u001B[39;49m\u001B[43moptions\u001B[49m\u001B[38;5;241;43m.\u001B[39;49m\u001B[43mget\u001B[49m\u001B[43m(\u001B[49m\u001B[38;5;124;43m\"\u001B[39;49m\u001B[38;5;124;43mmemory_map\u001B[39;49m\u001B[38;5;124;43m\"\u001B[39;49m\u001B[43m,\u001B[49m\u001B[43m \u001B[49m\u001B[38;5;28;43;01mFalse\u001B[39;49;00m\u001B[43m)\u001B[49m\u001B[43m,\u001B[49m\n\u001B[0;32m   1741\u001B[0m \u001B[43m    \u001B[49m\u001B[43mis_text\u001B[49m\u001B[38;5;241;43m=\u001B[39;49m\u001B[43mis_text\u001B[49m\u001B[43m,\u001B[49m\n\u001B[0;32m   1742\u001B[0m \u001B[43m    \u001B[49m\u001B[43merrors\u001B[49m\u001B[38;5;241;43m=\u001B[39;49m\u001B[38;5;28;43mself\u001B[39;49m\u001B[38;5;241;43m.\u001B[39;49m\u001B[43moptions\u001B[49m\u001B[38;5;241;43m.\u001B[39;49m\u001B[43mget\u001B[49m\u001B[43m(\u001B[49m\u001B[38;5;124;43m\"\u001B[39;49m\u001B[38;5;124;43mencoding_errors\u001B[39;49m\u001B[38;5;124;43m\"\u001B[39;49m\u001B[43m,\u001B[49m\u001B[43m \u001B[49m\u001B[38;5;124;43m\"\u001B[39;49m\u001B[38;5;124;43mstrict\u001B[39;49m\u001B[38;5;124;43m\"\u001B[39;49m\u001B[43m)\u001B[49m\u001B[43m,\u001B[49m\n\u001B[0;32m   1743\u001B[0m \u001B[43m    \u001B[49m\u001B[43mstorage_options\u001B[49m\u001B[38;5;241;43m=\u001B[39;49m\u001B[38;5;28;43mself\u001B[39;49m\u001B[38;5;241;43m.\u001B[39;49m\u001B[43moptions\u001B[49m\u001B[38;5;241;43m.\u001B[39;49m\u001B[43mget\u001B[49m\u001B[43m(\u001B[49m\u001B[38;5;124;43m\"\u001B[39;49m\u001B[38;5;124;43mstorage_options\u001B[39;49m\u001B[38;5;124;43m\"\u001B[39;49m\u001B[43m,\u001B[49m\u001B[43m \u001B[49m\u001B[38;5;28;43;01mNone\u001B[39;49;00m\u001B[43m)\u001B[49m\u001B[43m,\u001B[49m\n\u001B[0;32m   1744\u001B[0m \u001B[43m\u001B[49m\u001B[43m)\u001B[49m\n\u001B[0;32m   1745\u001B[0m \u001B[38;5;28;01massert\u001B[39;00m \u001B[38;5;28mself\u001B[39m\u001B[38;5;241m.\u001B[39mhandles \u001B[38;5;129;01mis\u001B[39;00m \u001B[38;5;129;01mnot\u001B[39;00m \u001B[38;5;28;01mNone\u001B[39;00m\n\u001B[0;32m   1746\u001B[0m f \u001B[38;5;241m=\u001B[39m \u001B[38;5;28mself\u001B[39m\u001B[38;5;241m.\u001B[39mhandles\u001B[38;5;241m.\u001B[39mhandle\n",
      "File \u001B[1;32mC:\\ProgramData\\Anaconda3\\lib\\site-packages\\pandas\\io\\common.py:856\u001B[0m, in \u001B[0;36mget_handle\u001B[1;34m(path_or_buf, mode, encoding, compression, memory_map, is_text, errors, storage_options)\u001B[0m\n\u001B[0;32m    851\u001B[0m \u001B[38;5;28;01melif\u001B[39;00m \u001B[38;5;28misinstance\u001B[39m(handle, \u001B[38;5;28mstr\u001B[39m):\n\u001B[0;32m    852\u001B[0m     \u001B[38;5;66;03m# Check whether the filename is to be opened in binary mode.\u001B[39;00m\n\u001B[0;32m    853\u001B[0m     \u001B[38;5;66;03m# Binary mode does not support 'encoding' and 'newline'.\u001B[39;00m\n\u001B[0;32m    854\u001B[0m     \u001B[38;5;28;01mif\u001B[39;00m ioargs\u001B[38;5;241m.\u001B[39mencoding \u001B[38;5;129;01mand\u001B[39;00m \u001B[38;5;124m\"\u001B[39m\u001B[38;5;124mb\u001B[39m\u001B[38;5;124m\"\u001B[39m \u001B[38;5;129;01mnot\u001B[39;00m \u001B[38;5;129;01min\u001B[39;00m ioargs\u001B[38;5;241m.\u001B[39mmode:\n\u001B[0;32m    855\u001B[0m         \u001B[38;5;66;03m# Encoding\u001B[39;00m\n\u001B[1;32m--> 856\u001B[0m         handle \u001B[38;5;241m=\u001B[39m \u001B[38;5;28;43mopen\u001B[39;49m\u001B[43m(\u001B[49m\n\u001B[0;32m    857\u001B[0m \u001B[43m            \u001B[49m\u001B[43mhandle\u001B[49m\u001B[43m,\u001B[49m\n\u001B[0;32m    858\u001B[0m \u001B[43m            \u001B[49m\u001B[43mioargs\u001B[49m\u001B[38;5;241;43m.\u001B[39;49m\u001B[43mmode\u001B[49m\u001B[43m,\u001B[49m\n\u001B[0;32m    859\u001B[0m \u001B[43m            \u001B[49m\u001B[43mencoding\u001B[49m\u001B[38;5;241;43m=\u001B[39;49m\u001B[43mioargs\u001B[49m\u001B[38;5;241;43m.\u001B[39;49m\u001B[43mencoding\u001B[49m\u001B[43m,\u001B[49m\n\u001B[0;32m    860\u001B[0m \u001B[43m            \u001B[49m\u001B[43merrors\u001B[49m\u001B[38;5;241;43m=\u001B[39;49m\u001B[43merrors\u001B[49m\u001B[43m,\u001B[49m\n\u001B[0;32m    861\u001B[0m \u001B[43m            \u001B[49m\u001B[43mnewline\u001B[49m\u001B[38;5;241;43m=\u001B[39;49m\u001B[38;5;124;43m\"\u001B[39;49m\u001B[38;5;124;43m\"\u001B[39;49m\u001B[43m,\u001B[49m\n\u001B[0;32m    862\u001B[0m \u001B[43m        \u001B[49m\u001B[43m)\u001B[49m\n\u001B[0;32m    863\u001B[0m     \u001B[38;5;28;01melse\u001B[39;00m:\n\u001B[0;32m    864\u001B[0m         \u001B[38;5;66;03m# Binary mode\u001B[39;00m\n\u001B[0;32m    865\u001B[0m         handle \u001B[38;5;241m=\u001B[39m \u001B[38;5;28mopen\u001B[39m(handle, ioargs\u001B[38;5;241m.\u001B[39mmode)\n",
      "\u001B[1;31mFileNotFoundError\u001B[0m: [Errno 2] No such file or directory: 'food.csv'"
     ]
    }
   ]
  },
  {
   "cell_type": "code",
   "source": [
    "df = pd.read_csv(\"https://mdaquin.github.io/d/tdd/food.csv\")\n",
    "df"
   ],
   "metadata": {
    "colab": {
     "base_uri": "https://localhost:8080/",
     "height": 565
    },
    "id": "wRzbiXVNd5B8",
    "outputId": "0eee3e0d-c30f-4831-d82b-947605389ba5",
    "pycharm": {
     "name": "#%%\n"
    }
   },
   "execution_count": null,
   "outputs": []
  },
  {
   "cell_type": "code",
   "source": [
    "df = pd.read_csv(\"https://mdaquin.github.io/d/tdd/food.csv\", index_col=0)\n",
    "df"
   ],
   "metadata": {
    "colab": {
     "base_uri": "https://localhost:8080/",
     "height": 597
    },
    "id": "oNLCyp8SfO4u",
    "outputId": "808bb01b-6cd8-4285-abac-3ede470b0a17",
    "pycharm": {
     "name": "#%%\n"
    }
   },
   "execution_count": null,
   "outputs": []
  },
  {
   "cell_type": "code",
   "source": [
    "df = pd.read_csv(\"https://mdaquin.github.io/d/tdd/movies_500.csv\", sep=\"\\t\", index_col=0)\n",
    "df.head()"
   ],
   "metadata": {
    "colab": {
     "base_uri": "https://localhost:8080/",
     "height": 411
    },
    "id": "-uV3WPeTfZGY",
    "outputId": "7c1be98e-c987-4674-ba3e-7e9e049b87ba",
    "pycharm": {
     "name": "#%%\n"
    }
   },
   "execution_count": null,
   "outputs": []
  },
  {
   "cell_type": "markdown",
   "source": [
    "## ficher excel"
   ],
   "metadata": {
    "id": "-9EXK5BGf09k",
    "pycharm": {
     "name": "#%% md\n"
    }
   }
  },
  {
   "cell_type": "code",
   "source": [
    "df = pd.read_excel(\"https://mdaquin.github.io/d/tdd/dep54.xlsx\")\n",
    "df"
   ],
   "metadata": {
    "colab": {
     "base_uri": "https://localhost:8080/",
     "height": 516
    },
    "id": "Mm_ftdUffxel",
    "outputId": "9974169d-6613-45e1-b30a-4966df8650fb",
    "pycharm": {
     "name": "#%%\n"
    }
   },
   "execution_count": null,
   "outputs": []
  },
  {
   "cell_type": "code",
   "source": [
    "df = pd.read_excel(\"https://mdaquin.github.io/d/tdd/dep54.xlsx\", skiprows=7)\n",
    "df"
   ],
   "metadata": {
    "colab": {
     "base_uri": "https://localhost:8080/",
     "height": 192
    },
    "id": "m6rxqFU3gIHW",
    "outputId": "74ffd16e-c7ad-4462-e0f1-86ed6bff8d54",
    "pycharm": {
     "name": "#%%\n"
    }
   },
   "execution_count": null,
   "outputs": []
  },
  {
   "cell_type": "code",
   "source": [
    "df = pd.read_excel(\"https://mdaquin.github.io/d/tdd/dep54.xlsx\", skiprows=7, usecols=range(9))\n",
    "df"
   ],
   "metadata": {
    "colab": {
     "base_uri": "https://localhost:8080/",
     "height": 192
    },
    "id": "7Fbvy3hhgPSw",
    "outputId": "96b873f8-b1c0-47e1-e9d6-08b79f7f5a2d",
    "pycharm": {
     "name": "#%%\n"
    }
   },
   "execution_count": null,
   "outputs": []
  },
  {
   "cell_type": "code",
   "source": [
    "df = pd.read_excel(\"https://mdaquin.github.io/d/tdd/dep54.xlsx\", skiprows=7, usecols=range(8), sheet_name=1)\n",
    "df"
   ],
   "metadata": {
    "colab": {
     "base_uri": "https://localhost:8080/",
     "height": 771
    },
    "id": "qu9PHIjCgZqe",
    "outputId": "368b9bb7-844a-4e10-d1e8-49d52d657844",
    "pycharm": {
     "name": "#%%\n"
    }
   },
   "execution_count": null,
   "outputs": []
  },
  {
   "cell_type": "markdown",
   "source": [
    "## json and APIs"
   ],
   "metadata": {
    "id": "94vdTtSfgkKc",
    "pycharm": {
     "name": "#%% md\n"
    }
   }
  },
  {
   "cell_type": "code",
   "source": [
    "df = pd.read_json(\"https://mdaquin.github.io/d/tdd/hp.json\")\n",
    "df"
   ],
   "metadata": {
    "colab": {
     "base_uri": "https://localhost:8080/",
     "height": 300
    },
    "id": "69dZOvXdgmCR",
    "outputId": "21a23ed9-c805-4492-b8e7-61be0db1e9f9",
    "pycharm": {
     "name": "#%%\n"
    }
   },
   "execution_count": null,
   "outputs": []
  },
  {
   "cell_type": "code",
   "source": [
    "import requests\n",
    "r = requests.get(\"https://opensky-network.org/api/flights/all?begin=1632500000&end=1632501000\")\n",
    "df = pd.read_json(r.text)\n",
    "df.head(10)"
   ],
   "metadata": {
    "colab": {
     "base_uri": "https://localhost:8080/",
     "height": 383
    },
    "id": "28gHJygmgrQp",
    "outputId": "e4ac2fd1-5057-4656-9f20-d7eb714e4c12",
    "pycharm": {
     "name": "#%%\n"
    }
   },
   "execution_count": null,
   "outputs": []
  },
  {
   "cell_type": "markdown",
   "source": [
    "## base de données"
   ],
   "metadata": {
    "id": "_Vc8RBgUg1qL",
    "pycharm": {
     "name": "#%% md\n"
    }
   }
  },
  {
   "cell_type": "code",
   "source": [
    "import sqlite3\n",
    "\n",
    "con = sqlite3.connect(\"hp.db\")\n",
    "# df = pd.read_sql_query(\"\"\"\n",
    "# select firstname, lastname, house.name as house\n",
    "# from student, house\n",
    "# where student.house = house.ID\n",
    "# \"\"\", con)\n",
    "# df\n"
   ],
   "metadata": {
    "colab": {
     "base_uri": "https://localhost:8080/",
     "height": 300
    },
    "id": "98nPuA39g0qm",
    "outputId": "b9d11419-3797-450a-eff4-cb43a7ab6c5b",
    "pycharm": {
     "name": "#%%\n"
    }
   },
   "execution_count": 21,
   "outputs": []
  },
  {
   "cell_type": "code",
   "source": [
    "df = pd.read_sql_query(\"\"\"\n",
    "select house.name, count(student.lastname) nb\n",
    "from student, house\n",
    "where student.house = house.ID\n",
    "group by house.name\n",
    "\"\"\", con)\n",
    "df"
   ],
   "metadata": {
    "colab": {
     "base_uri": "https://localhost:8080/",
     "height": 143
    },
    "id": "CLQXwJUhhFvi",
    "outputId": "d6200013-fc77-4ccc-bde6-e7ee753bc53e",
    "pycharm": {
     "name": "#%%\n"
    }
   },
   "execution_count": null,
   "outputs": []
  },
  {
   "cell_type": "markdown",
   "source": [
    "## Savegarde"
   ],
   "metadata": {
    "id": "rNM1lAYehQgw",
    "pycharm": {
     "name": "#%% md\n"
    }
   }
  },
  {
   "cell_type": "code",
   "source": [
    "hpdata = {\n",
    "   \"firstnames\": [\"Harry\", \"Hermione\", \"Ron\", \"Draco\", \"Luna\", \"Vincent\", \"Gregory\", \"Parvati\"],\n",
    "   \"lastname\":  [\"Potter\", \"Granger\", \"Weasley\", \"Malfoy\", \"Lovegood\", \"Crabbe\", \"Goyle\", \"Patil\"],\n",
    "   \"marks potion\": [12, 18, 11, 11, 14, 8, 7, 13],\n",
    "   \"marks def. ATDA\": [14, 18, 12, 12, 10, 6, 7, 14],\n",
    "   \"house\": [\"Gryffindor\", \"Gryffindor\", \"Gryffindor\", \"Slytherin\", \"Ravenclaw\", \"Slytherin\", \"Slytherin\", \"Ravenclaw\"]\n",
    "}\n",
    "hpdf = pd.DataFrame(hpdata)\n",
    "hpdf.to_csv(\"test_save.csv\")"
   ],
   "metadata": {
    "id": "sjbpNcgNhP0l",
    "pycharm": {
     "name": "#%%\n"
    }
   },
   "execution_count": null,
   "outputs": []
  },
  {
   "cell_type": "markdown",
   "source": [
    "# Exploration"
   ],
   "metadata": {
    "id": "Ej2U-hhVhX1v",
    "pycharm": {
     "name": "#%% md\n"
    }
   }
  },
  {
   "cell_type": "code",
   "source": [
    "import pandas as pd\n",
    "df = pd.read_csv(\"https://mdaquin.github.io/d/tdd/food.csv\", index_col=1)\n",
    "df"
   ],
   "metadata": {
    "colab": {
     "base_uri": "https://localhost:8080/",
     "height": 597
    },
    "id": "oDkZs6mChZ-w",
    "outputId": "4ced881b-60cb-4ba2-d931-1495794ad411",
    "pycharm": {
     "name": "#%%\n"
    }
   },
   "execution_count": null,
   "outputs": []
  },
  {
   "cell_type": "code",
   "source": [
    "c = \"Data.Sugar Total\"\n",
    "print(f\"[{df[c].min()},{df[c].max()}]\")\n",
    "print(\"Min:\", df[c].idxmin())\n",
    "print(\"Max:\", df[c].idxmax())\n",
    "print(\"Mean:\", df[c].mean())\n",
    "print(\"Mean:\", df[c].sum()/df[c].count())\n",
    "print(\"Median:\", df[c].median())\n",
    "print(\"*\"*30)\n",
    "print(df[c].quantile([0.45,0.60,0.75,0.90]))"
   ],
   "metadata": {
    "colab": {
     "base_uri": "https://localhost:8080/"
    },
    "id": "Mfylzd-FHWW6",
    "outputId": "a6b7d201-ea81-4201-b120-150737a2f0ae",
    "pycharm": {
     "name": "#%%\n"
    }
   },
   "execution_count": null,
   "outputs": []
  },
  {
   "cell_type": "code",
   "source": [
    "df.iloc[::,4:11].describe()"
   ],
   "metadata": {
    "colab": {
     "base_uri": "https://localhost:8080/",
     "height": 300
    },
    "id": "ZI76DUEOKJUN",
    "outputId": "a766e723-ddea-4cb4-ce26-8349d57c8a29",
    "pycharm": {
     "name": "#%%\n"
    }
   },
   "execution_count": null,
   "outputs": []
  },
  {
   "cell_type": "code",
   "source": [
    "df.Category.value_counts().head(15)"
   ],
   "metadata": {
    "colab": {
     "base_uri": "https://localhost:8080/"
    },
    "id": "f0cZz6heM7vQ",
    "outputId": "d3de8713-1d25-4b38-f4e1-ceb9bc6c045b",
    "pycharm": {
     "name": "#%%\n"
    }
   },
   "execution_count": null,
   "outputs": []
  },
  {
   "cell_type": "code",
   "source": [
    "c = \"Data.Sugar Total\"\n",
    "for cat in df.sort_values(c, ascending=False)[\"Category\"].unique():\n",
    "  print(cat,df.loc[df.Category == cat, c].mean())"
   ],
   "metadata": {
    "colab": {
     "base_uri": "https://localhost:8080/"
    },
    "id": "M4fO83_5Oamo",
    "outputId": "9d51edfd-bfcd-4f8d-edb0-86d3db724dee",
    "pycharm": {
     "name": "#%%\n"
    }
   },
   "execution_count": null,
   "outputs": []
  }
 ]
}