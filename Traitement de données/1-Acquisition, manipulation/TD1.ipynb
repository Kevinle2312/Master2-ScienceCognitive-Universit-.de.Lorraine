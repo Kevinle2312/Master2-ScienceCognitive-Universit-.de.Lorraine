{
 "cells": [
  {
   "cell_type": "markdown",
   "metadata": {
    "id": "mz-EQBy1nGGG",
    "pycharm": {
     "name": "#%% md\n"
    }
   },
   "source": [
    "# Traitement de données, 2022, TD1\n",
    "\n",
    "Ceci est un notebook python, qui va être utilisé pour le TD d'ajourd'hui. Il se trouve sur Google Colab, pour être facile à partager. **Attention** : Vous devriez pouvoir l'éditer, mais tant que vous ne l'avez pas téléchargé ou copié, aucune de vos modifications ne seront sauvées. \n",
    "\n",
    "Pour ajouter vos solutions aux questions vous pouvez soit\n",
    "\n",
    "* Créer une copie de ce notebook sur votre propre compte Google (Fichier>Sauvegarder un copie sur Drive). \n",
    "*   Télécharger le notebook (Fichier>Télécharger>.ipynb) et l'éditer/executer sur jupyter lab/notebook. \n",
    "*   Télécharger le script python correspondant (Fichier>Télécharger>.py), l'éditer avec un éditeur de texte/code local et l'executer avec l'interpreteur local (python(3)), possiblement en utilisant un environement virtuel conda (ou tout faire dans un IDE). "
   ]
  },
  {
   "cell_type": "markdown",
   "metadata": {
    "id": "6aKEX_FvDcI1",
    "pycharm": {
     "name": "#%% md\n"
    }
   },
   "source": [
    "# Données\n",
    "Le code ci-dessous charge des données sur des créatures de jeux video/jeux de cartes à partir d'un fichier csv dans une dataframe pandas. En utilisant cette dataframe (`poks`), répondez aux questions des cellules suivantes. Vous pouvez répondre directement dans les cellules de code fournies, mais n'oubliez pas de soit utiliser une version locale du notebook, soit créer une copie sur votre propre compte google. \n",
    "\n",
    "Les données proviennent de https://www.kaggle.com/datasets/rounakbanik/pokemon "
   ]
  },
  {
   "cell_type": "code",
   "execution_count": null,
   "metadata": {
    "colab": {
     "base_uri": "https://localhost:8080/",
     "height": 696
    },
    "id": "jxABzQuBDVGU",
    "outputId": "4d0c6a14-40b1-4578-f9af-42cfe225c4bf",
    "pycharm": {
     "name": "#%%\n",
     "is_executing": true
    }
   },
   "outputs": [],
   "source": [
    "import pandas as pd\n",
    "\n",
    "poks = pd.read_csv(\"https://mdaquin.github.io/d/pokemon.csv\")\n",
    "poks"
   ]
  },
  {
   "cell_type": "markdown",
   "metadata": {
    "id": "aSZKemlTHMVq",
    "pycharm": {
     "name": "#%% md\n"
    }
   },
   "source": [
    "Changez l'index de la dataframe de façon à ce qu'il corresponde au nom de la créature (colonne `name`)."
   ]
  },
  {
   "cell_type": "code",
   "execution_count": null,
   "metadata": {
    "colab": {
     "base_uri": "https://localhost:8080/"
    },
    "id": "F5WJwab5HU66",
    "outputId": "310f5855-60b7-4113-cd20-68b11d650fb8",
    "pycharm": {
     "name": "#%%\n",
     "is_executing": true
    }
   },
   "outputs": [],
   "source": [
    "poks.set_index(\"name\", inplace=True)\n",
    "# poks = poks.reset_index() Reset to the initial state\n",
    "poks"
   ]
  },
  {
   "cell_type": "markdown",
   "source": [
    "Essayer de localiiser pokemon Caterpie"
   ],
   "metadata": {
    "collapsed": false,
    "pycharm": {
     "name": "#%% md\n"
    }
   }
  },
  {
   "cell_type": "code",
   "execution_count": null,
   "outputs": [],
   "source": [
    "poks.loc[\"Caterpie\"]"
   ],
   "metadata": {
    "collapsed": false,
    "pycharm": {
     "name": "#%%\n",
     "is_executing": true
    }
   }
  },
  {
   "cell_type": "markdown",
   "metadata": {
    "id": "Ik4EcwVcFsXf",
    "pycharm": {
     "name": "#%% md\n"
    }
   },
   "source": [
    "# Exploration simple\n",
    "\n",
    "Commencez par utiliser les fonctions vous donnant des informations sur la dataframe pour mieux comprendre les données. "
   ]
  },
  {
   "cell_type": "code",
   "execution_count": null,
   "metadata": {
    "colab": {
     "base_uri": "https://localhost:8080/",
     "height": 393
    },
    "id": "eHyHiV33Frh7",
    "outputId": "eb34728c-4fd2-4fe1-bb72-6e8d43d7be3a",
    "pycharm": {
     "name": "#%%\n",
     "is_executing": true
    }
   },
   "outputs": [],
   "source": [
    "# votre code ici\n",
    "for c in poks:\n",
    "  print (poks[c].describe())"
   ]
  },
  {
   "cell_type": "code",
   "execution_count": null,
   "outputs": [],
   "source": [
    "poks.info()"
   ],
   "metadata": {
    "collapsed": false,
    "pycharm": {
     "name": "#%%\n",
     "is_executing": true
    }
   }
  },
  {
   "cell_type": "code",
   "execution_count": null,
   "outputs": [],
   "source": [
    "poks.describe"
   ],
   "metadata": {
    "collapsed": false,
    "pycharm": {
     "name": "#%%\n",
     "is_executing": true
    }
   }
  },
  {
   "cell_type": "code",
   "execution_count": null,
   "outputs": [],
   "source": [
    "poks.info"
   ],
   "metadata": {
    "collapsed": false,
    "pycharm": {
     "name": "#%%\n",
     "is_executing": true
    }
   }
  },
  {
   "cell_type": "markdown",
   "source": [
    "Afficher les 10 premières lignes de la DataFrame, ainsi que les lignes numéro 123 et du pokemon dont le nom est Pikachu."
   ],
   "metadata": {
    "collapsed": false,
    "pycharm": {
     "name": "#%% md\n"
    }
   }
  },
  {
   "cell_type": "code",
   "execution_count": null,
   "outputs": [],
   "source": [
    "poks.head(10)"
   ],
   "metadata": {
    "collapsed": false,
    "pycharm": {
     "name": "#%%\n",
     "is_executing": true
    }
   }
  },
  {
   "cell_type": "code",
   "execution_count": null,
   "outputs": [],
   "source": [
    "poks.iloc[123]"
   ],
   "metadata": {
    "collapsed": false,
    "pycharm": {
     "name": "#%%\n",
     "is_executing": true
    }
   }
  },
  {
   "cell_type": "code",
   "execution_count": null,
   "outputs": [],
   "source": [
    "poks.loc[\"Pikachu\"]"
   ],
   "metadata": {
    "collapsed": false,
    "pycharm": {
     "name": "#%%\n",
     "is_executing": true
    }
   }
  },
  {
   "cell_type": "code",
   "execution_count": null,
   "outputs": [],
   "source": [
    "poks.hp"
   ],
   "metadata": {
    "collapsed": false,
    "pycharm": {
     "name": "#%%\n",
     "is_executing": true
    }
   }
  },
  {
   "cell_type": "markdown",
   "source": [
    "Il y a une erreur dans le nom de la colonne `classfication`. Corrigez la."
   ],
   "metadata": {
    "collapsed": false,
    "pycharm": {
     "name": "#%% md\n"
    }
   }
  },
  {
   "cell_type": "code",
   "execution_count": null,
   "outputs": [],
   "source": [
    "poks.rename(columns={\"classfication\": \"classification\"},inplace = True)\n",
    "poks"
   ],
   "metadata": {
    "collapsed": false,
    "pycharm": {
     "name": "#%%\n",
     "is_executing": true
    }
   }
  },
  {
   "cell_type": "code",
   "execution_count": null,
   "outputs": [],
   "source": [
    "poks.columns"
   ],
   "metadata": {
    "collapsed": false,
    "pycharm": {
     "name": "#%%\n",
     "is_executing": true
    }
   }
  },
  {
   "cell_type": "markdown",
   "source": [
    "Affichez les 10 dernières valeurs de la colonne `classification`, ainsi que la liste des valeurs possible de cette colonne (combien il y en a t'il?) et les valeurs des colonnes `classification`, `type1` et `type2` pour la créature Pikachu."
   ],
   "metadata": {
    "collapsed": false,
    "pycharm": {
     "name": "#%% md\n"
    }
   }
  },
  {
   "cell_type": "code",
   "execution_count": null,
   "outputs": [],
   "source": [
    "poks.tail(10)[\"classification\"]"
   ],
   "metadata": {
    "collapsed": false,
    "pycharm": {
     "name": "#%%\n",
     "is_executing": true
    }
   }
  },
  {
   "cell_type": "code",
   "execution_count": null,
   "outputs": [],
   "source": [
    "poks.classification.value_counts()"
   ],
   "metadata": {
    "collapsed": false,
    "pycharm": {
     "name": "#%%\n",
     "is_executing": true
    }
   }
  },
  {
   "cell_type": "code",
   "execution_count": null,
   "outputs": [],
   "source": [
    "poks.loc[\"Pikachu\"][[\"type1\",\"type2\"]]"
   ],
   "metadata": {
    "collapsed": false,
    "pycharm": {
     "name": "#%%\n",
     "is_executing": true
    }
   }
  },
  {
   "cell_type": "code",
   "execution_count": null,
   "outputs": [],
   "source": [
    "#You are about to change a value in Pikachu record. Be careful\n",
    "# poks.loc[\"Pikachu\",[\"type1\",\"type2\"]] = \"electric\""
   ],
   "metadata": {
    "collapsed": false,
    "pycharm": {
     "name": "#%%\n",
     "is_executing": true
    }
   }
  },
  {
   "cell_type": "markdown",
   "metadata": {
    "id": "b260e68LGfx0",
    "pycharm": {
     "name": "#%% md\n"
    }
   },
   "source": [
    "Ordonnez la dataframe par la valeur de la colonne `hp` (health point). Utilisez un nouveau nom de variable pour la dataframe ordonnée (e.g. `poks_o`). \n",
    "\n",
    "En utilisant cette dataframe, trouver quelle est la créature ayant le moins de `hp` et le plus de `hp`. \n",
    "\n",
    "Trouvez aussi les créatures qui on exactement comme valeur de `hp` la valeur médianne et parmis celles la, celles qui ont une valeur de la colonne `attack` proche de la moyenne (à moins de 0.2 fois l'écart type).."
   ]
  },
  {
   "cell_type": "code",
   "execution_count": null,
   "metadata": {
    "colab": {
     "base_uri": "https://localhost:8080/",
     "height": 1000
    },
    "id": "oRW5x9nHGypY",
    "outputId": "2270759a-d688-4b10-d7d9-0e3a552df486",
    "pycharm": {
     "name": "#%%\n",
     "is_executing": true
    }
   },
   "outputs": [],
   "source": [
    "# votre code ici\n",
    "poks_o = poks.sort_values(\"hp\")\n",
    "poks_o"
   ]
  },
  {
   "cell_type": "code",
   "execution_count": null,
   "outputs": [],
   "source": [
    "poks_o.median()"
   ],
   "metadata": {
    "collapsed": false,
    "pycharm": {
     "name": "#%%\n",
     "is_executing": true
    }
   }
  },
  {
   "cell_type": "code",
   "execution_count": null,
   "outputs": [],
   "source": [
    "poks_o.hp.idxmin()"
   ],
   "metadata": {
    "collapsed": false,
    "pycharm": {
     "name": "#%%\n",
     "is_executing": true
    }
   }
  },
  {
   "cell_type": "code",
   "execution_count": null,
   "outputs": [],
   "source": [
    "poks_o.hp.idxmax()"
   ],
   "metadata": {
    "collapsed": false,
    "pycharm": {
     "name": "#%%\n",
     "is_executing": true
    }
   }
  },
  {
   "cell_type": "code",
   "execution_count": null,
   "outputs": [],
   "source": [
    "poks_o.iloc[0:3].index"
   ],
   "metadata": {
    "collapsed": false,
    "pycharm": {
     "name": "#%%\n",
     "is_executing": true
    }
   }
  },
  {
   "cell_type": "code",
   "execution_count": null,
   "outputs": [],
   "source": [
    "poks[poks.hp == poks.hp.median()].hp"
   ],
   "metadata": {
    "collapsed": false,
    "pycharm": {
     "name": "#%%\n",
     "is_executing": true
    }
   }
  },
  {
   "cell_type": "code",
   "execution_count": null,
   "outputs": [],
   "source": [
    "poks[\"attack\"].median()"
   ],
   "metadata": {
    "collapsed": false,
    "pycharm": {
     "name": "#%%\n",
     "is_executing": true
    }
   }
  },
  {
   "cell_type": "code",
   "execution_count": null,
   "outputs": [],
   "source": [
    "poks[\"attack\"].std()"
   ],
   "metadata": {
    "collapsed": false,
    "pycharm": {
     "name": "#%%\n",
     "is_executing": true
    }
   }
  },
  {
   "cell_type": "code",
   "execution_count": null,
   "outputs": [],
   "source": [
    "marked_point_low = poks[\"attack\"].median()- 0.2*poks[\"attack\"].std()\n",
    "marked_point_hight = poks[\"attack\"].median()+ 0.2*poks[\"attack\"].std()"
   ],
   "metadata": {
    "collapsed": false,
    "pycharm": {
     "name": "#%%\n",
     "is_executing": true
    }
   }
  },
  {
   "cell_type": "code",
   "execution_count": null,
   "outputs": [],
   "source": [
    "poks[(poks[\"attack\"] >= marked_point_low) & (poks[\"attack\"] <= marked_point_hight) & (poks.hp== poks.hp.median())].attack"
   ],
   "metadata": {
    "collapsed": false,
    "pycharm": {
     "name": "#%%\n",
     "is_executing": true
    }
   }
  },
  {
   "cell_type": "code",
   "execution_count": null,
   "outputs": [],
   "source": [
    "r = poks[(abs(poks.attack - poks.attack.mean()) < 0.2*poks.attack.std()) & (poks.hp== poks.hp.median()) ]\n",
    "r.attack"
   ],
   "metadata": {
    "collapsed": false,
    "pycharm": {
     "name": "#%%\n",
     "is_executing": true
    }
   }
  },
  {
   "cell_type": "markdown",
   "source": [
    "Quelles sont les valeurs possibles des colonnes `type1` et `type2` ? Quelles sont les plus communes ? Utilisez la fonction `count` pour voir si `type1` et `type2` ont toujours une valeur.\n",
    "\n",
    "Supprimez toutes les lignes pour lesquelles il n'y a pas de valeur à la colonne `type2`. Supprimez aussi la colonne `percentage_male`. Dans les deux colonnes `type1` et `type2`, remplacer les valeurs `\"bug\"` par `\"insect\"`."
   ],
   "metadata": {
    "collapsed": false,
    "pycharm": {
     "name": "#%% md\n"
    }
   }
  },
  {
   "cell_type": "code",
   "execution_count": null,
   "outputs": [],
   "source": [
    "print(f\"valeurs de type1 : {poks.type1.unique()}\")\n",
    "print(f\"valeurs de type2 : {poks.type2.unique()}\")\n",
    "print(f\"valeur le plus freq type1 : {poks.type1.value_counts().index[0]}\")\n",
    "print(f\"valeur le plus freq type2 : {poks.type2.value_counts().index[0]}\")\n",
    "print(f\"proportion de créature ayant un type1 : {poks.type1.count()/len(poks)}\")\n",
    "print(f\"proportion de créature ayant un type2 : {poks.type2.count()/len(poks)}\")"
   ],
   "metadata": {
    "collapsed": false,
    "pycharm": {
     "name": "#%%\n",
     "is_executing": true
    }
   }
  },
  {
   "cell_type": "code",
   "execution_count": null,
   "outputs": [],
   "source": [
    "poks.count()/len(poks)"
   ],
   "metadata": {
    "collapsed": false,
    "pycharm": {
     "name": "#%%\n",
     "is_executing": true
    }
   }
  },
  {
   "cell_type": "code",
   "execution_count": null,
   "outputs": [],
   "source": [
    "poks.drop(\"percentage_male\")"
   ],
   "metadata": {
    "collapsed": false,
    "pycharm": {
     "name": "#%%\n",
     "is_executing": true
    }
   }
  },
  {
   "cell_type": "code",
   "execution_count": null,
   "outputs": [],
   "source": [
    "poks_test = poks"
   ],
   "metadata": {
    "collapsed": false,
    "pycharm": {
     "name": "#%%\n",
     "is_executing": true
    }
   }
  },
  {
   "cell_type": "code",
   "execution_count": null,
   "outputs": [],
   "source": [
    "poks_test.dropna(subset=[\"type2\"], inplace=True)\n",
    "poks_test"
   ],
   "metadata": {
    "collapsed": false,
    "pycharm": {
     "name": "#%%\n",
     "is_executing": true
    }
   }
  },
  {
   "cell_type": "code",
   "execution_count": null,
   "outputs": [],
   "source": [
    "poks_test.type2.isna"
   ],
   "metadata": {
    "collapsed": false,
    "pycharm": {
     "name": "#%%\n",
     "is_executing": true
    }
   }
  },
  {
   "cell_type": "code",
   "execution_count": null,
   "outputs": [],
   "source": [
    "poks[[\"type1\", \"type2\"]] = poks[[\"type1\", \"type2\"]].replace(\"bug\", \"insect\")"
   ],
   "metadata": {
    "collapsed": false,
    "pycharm": {
     "name": "#%%\n",
     "is_executing": true
    }
   }
  },
  {
   "cell_type": "markdown",
   "metadata": {
    "id": "mAToiM_IJ7vH",
    "pycharm": {
     "name": "#%% md\n"
    }
   },
   "source": [
    "Quels sont les valeurs possibles des colonnes `type1` et `type2` ? Quelles sont les plus communes ? Utilisez la fonction `count` pour voir si `type1` et `type2` ont toujours une valeur. \n",
    "\n",
    "Créez une nouvelle colonne `t1t2` dans la dataframe qui contient la concatenation des valeurs de `type1` et de `type2` pour chaque créature. Par exemple, si `type1` est `grass` et type2 `poison`, la valeur de `t1t2` devrait être `grass,poison`. \n",
    "\n",
    "En utilisant cette colonne, trouvez quels sont les couples de types les plus rares. A quel point sont ils plus rares que la moyenne des couples de types ?"
   ]
  },
  {
   "cell_type": "code",
   "execution_count": null,
   "metadata": {
    "id": "c0g2nlJbK-Cr",
    "colab": {
     "base_uri": "https://localhost:8080/"
    },
    "outputId": "3124136c-6141-4866-e298-df93bf92f807",
    "pycharm": {
     "name": "#%%\n",
     "is_executing": true
    }
   },
   "outputs": [],
   "source": [
    "# votre code ici\n",
    "print(f\"valeurs de type1 : {poks.type1.unique()}\")\n",
    "print(f\"valeurs de type2 : {poks.type2.unique()}\")\n",
    "print(f\"proportion de créature ayant un type1 : {poks.type1.count()/len(poks)}\")\n",
    "print(f\"proportion de créature ayant un type2 : {poks.type2.count()/len(poks)}\")\n",
    "poks[\"t1t2\"] = poks.type1+\",\"+poks.type2\n",
    "print(poks.t1t2.describe())\n",
    "freq = poks.t1t2.value_counts()\n",
    "print(freq)\n",
    "print(\"couples de types les plus rare\")\n",
    "print(freq[freq == freq.min()].index)\n",
    "print(poks.t1t2.value_counts().iloc[::-10])\n",
    "print(f\"Ils sont {freq.mean()/freq.min()} fois plus rare que la moyenne\")"
   ]
  },
  {
   "cell_type": "code",
   "execution_count": null,
   "outputs": [],
   "source": [
    "poks[\"t1t2\"]"
   ],
   "metadata": {
    "collapsed": false,
    "pycharm": {
     "name": "#%%\n",
     "is_executing": true
    }
   }
  },
  {
   "cell_type": "markdown",
   "metadata": {
    "id": "yu5Qu1-HNp8v",
    "pycharm": {
     "name": "#%% md\n"
    }
   },
   "source": [
    "# Manipulation\n",
    "\n",
    "La colonne `capture_rate` donne un score correspondant aux chances de capturer chaque créature. Le problème est que cette colonne a été interprété comme étant de type `string` plutôt que `integer`.\n",
    "\n",
    "Créez une nouvelle colonne `capture_rate_i` dans la dataframe contenant la valeur de `capture_rate` convertie en entier. \n",
    "\n",
    "Modifiez la colonne `capture_rate_i` en divisant ses valeurs par la valeur maximum."
   ]
  },
  {
   "cell_type": "code",
   "execution_count": null,
   "metadata": {
    "id": "vgq5OF3nq5El",
    "colab": {
     "base_uri": "https://localhost:8080/"
    },
    "outputId": "b44105c7-0296-47ca-9515-7ddfa42b8d60",
    "pycharm": {
     "name": "#%%\n",
     "is_executing": true
    }
   },
   "outputs": [],
   "source": [
    "import numpy as np\n",
    "\n",
    "# votre code ici\n",
    "\n",
    "poks[\"capture_rate_i\"] = poks.apply((lambda x : int(x.capture_rate) if x.capture_rate.isnumeric() else np.float64(\"NaN\")), axis=1)\n",
    "\n",
    "poks[\"capture_rate_i\"] = poks.capture_rate_i / poks.capture_rate_i.max()\n",
    "poks.capture_rate_i.describe()\n"
   ]
  },
  {
   "cell_type": "markdown",
   "source": [
    "Creer une nouvelle colonne `common` qui contient la valeur `\"average\"` pour les créatures répondant aux critères de la dernière question ci-dessus (sur la mediane de `hp` et la moyenne de `attack`) et `\"ok\"` pour les autres. Vérifier le changement."
   ],
   "metadata": {
    "collapsed": false,
    "pycharm": {
     "name": "#%% md\n"
    }
   }
  },
  {
   "cell_type": "code",
   "execution_count": null,
   "outputs": [],
   "source": [
    "poks[\"common\"] = \"ok\"\n",
    "poks.common.value_counts()"
   ],
   "metadata": {
    "collapsed": false,
    "pycharm": {
     "name": "#%%\n",
     "is_executing": true
    }
   }
  },
  {
   "cell_type": "code",
   "execution_count": null,
   "outputs": [],
   "source": [
    "poks.loc[r.index,\"common\"] = \"average\""
   ],
   "metadata": {
    "collapsed": false,
    "pycharm": {
     "name": "#%%\n",
     "is_executing": true
    }
   }
  },
  {
   "cell_type": "code",
   "execution_count": null,
   "outputs": [],
   "source": [
    "poks.common.value_counts()"
   ],
   "metadata": {
    "collapsed": false,
    "pycharm": {
     "name": "#%%\n",
     "is_executing": true
    }
   }
  },
  {
   "cell_type": "markdown",
   "metadata": {
    "id": "VGKKYQmnNPz3",
    "pycharm": {
     "name": "#%% md\n"
    }
   },
   "source": [
    "En utilisant le nouvelle colonne `capture_rate_i` comparez la moyenne des chances de capturer une creature legendaire (colonne `is_legendary` à 1) à celle de autres."
   ]
  },
  {
   "cell_type": "code",
   "execution_count": null,
   "metadata": {
    "id": "lXaC4zS3szBA",
    "colab": {
     "base_uri": "https://localhost:8080/"
    },
    "outputId": "9421282b-a79f-4ad2-c2a1-734f60177826",
    "pycharm": {
     "name": "#%%\n",
     "is_executing": true
    }
   },
   "outputs": [],
   "source": [
    "# votre code ici\n",
    "m1 = poks[poks.is_legendary == 1].capture_rate_i.mean()\n",
    "s1 = poks[poks.is_legendary == 1].capture_rate_i.std()\n",
    "print(f\"En moyenne, les chances de capturer une créature légendaire sont de {m1} ({s1})\")\n",
    "m0 = poks[poks.is_legendary == 0].capture_rate_i.mean()\n",
    "s0 = poks[poks.is_legendary == 0].capture_rate_i.std()\n",
    "print(f\"En moyenne, les chances de capturer une créature non légendaire sont de {m0} ({s0})\")"
   ]
  },
  {
   "cell_type": "markdown",
   "metadata": {
    "id": "a5Utn9UNt2uq",
    "pycharm": {
     "name": "#%% md\n"
    }
   },
   "source": [
    "Créez une nouvelle dataframe à partir des couples type1,type2 créés précédemment et qui contient une colonne correspondant à la multiplication de la fréquence (le nombre d'occurences divisé par le nombre de créatures) du couple avec la moyenne des `capture_rate_i` des créature ayant ce couple de types. \n",
    "\n",
    "D'après cette nouvelle colonne, quels sont les couples de types les plus difficiles à obtenir ? Les plus probables ?"
   ]
  },
  {
   "cell_type": "code",
   "execution_count": null,
   "metadata": {
    "id": "rfZfW_Leuisn",
    "colab": {
     "base_uri": "https://localhost:8080/"
    },
    "outputId": "41699179-d37a-41ae-da34-940aa16d6b20",
    "pycharm": {
     "name": "#%%\n",
     "is_executing": true
    }
   },
   "outputs": [],
   "source": [
    "# votre code ici\n",
    "ctypes = pd.DataFrame()\n",
    "ctypes[\"occurance\"] = poks.t1t2.value_counts()\n",
    "ctypes[\"frequence\"] = ctypes.occurance / len(poks)\n",
    "\n",
    "ctypes\n",
    "\n",
    "ctypes[\"capture_rate_mean\"] = poks.groupby(\"t1t2\").capture_rate_i.mean()\n",
    "ctypes[\"capture_proba\"] = ctypes[\"frequence\"] * ctypes[\"capture_rate_mean\"]\n",
    "ctypes.min()"
   ]
  },
  {
   "cell_type": "code",
   "execution_count": null,
   "outputs": [],
   "source": [
    "ctypes"
   ],
   "metadata": {
    "collapsed": false,
    "pycharm": {
     "name": "#%%\n",
     "is_executing": true
    }
   }
  },
  {
   "cell_type": "markdown",
   "metadata": {
    "id": "xEq6MoYf5kg3",
    "pycharm": {
     "name": "#%% md\n"
    }
   },
   "source": [
    "Les colonnes qui commencent par `against_` correspondent à la force de la créature contre certain types d'attaque. Trouvez lesquels sont les plus correlées. "
   ]
  },
  {
   "cell_type": "code",
   "execution_count": null,
   "metadata": {
    "id": "31KJJGTQ6OTX",
    "colab": {
     "base_uri": "https://localhost:8080/",
     "height": 108
    },
    "outputId": "9051624a-b0e2-4ab7-e24f-c6ecbac7b77a",
    "pycharm": {
     "name": "#%%\n",
     "is_executing": true
    }
   },
   "outputs": [],
   "source": [
    "# votre code ici\n",
    "cols = []\n",
    "for k in poks:\n",
    "  if \"against_\" in k:\n",
    "    cols.append(k)\n",
    "\n",
    "corr = poks[cols].corr()\n",
    "\n",
    "for k in corr: \n",
    "  corr.loc[k,k] = np.float64(\"NaN\")\n",
    "\n",
    "corr.against_fight.idxmin()\n",
    "\n",
    "import seaborn as sns\n",
    "import matplotlib.pyplot as plt\n",
    "\n",
    "fig, ax = plt.subplots(figsize=(25,25))\n",
    "sns.heatmap(corr)"
   ]
  },
  {
   "cell_type": "markdown",
   "metadata": {
    "id": "oo9m5KWk-vUP",
    "pycharm": {
     "name": "#%% md\n"
    }
   },
   "source": [
    "La colonne `abilities` contient une liste, encodée en JSON, des abilitées de la créature. En applicant la fonction `convert_a` donnée (transforme la chaine de caractères en liste python) sur les éléments de cette colonne, créez une nouvelle colonne avec pour valeur le nombre d'abilités de chaque créature. \n",
    "\n",
    "Quel est la maximum."
   ]
  },
  {
   "cell_type": "code",
   "execution_count": null,
   "metadata": {
    "id": "UZkEqxXl_W8d",
    "colab": {
     "base_uri": "https://localhost:8080/"
    },
    "outputId": "02f79561-bbdb-4b4e-b331-6da81023efd7",
    "pycharm": {
     "name": "#%%\n",
     "is_executing": true
    }
   },
   "outputs": [],
   "source": [
    "import json \n",
    "def convert_a(x):\n",
    "  return json.loads(x.replace(\"'\", '\"'))\n",
    "\n",
    "# votre code ici\n",
    "\n",
    "poks[\"nb_abilities\"] = poks.abilities.apply(convert_a).apply(len)\n",
    "poks.nb_abilities.max()"
   ]
  },
  {
   "cell_type": "markdown",
   "metadata": {
    "id": "uVgXbqpJBCap",
    "pycharm": {
     "name": "#%% md\n"
    }
   },
   "source": [
    "Créez 6 nouvelles colonnes `ab1, ab2, ..., ab6` avec les noms des abilités de chaque créature en les extrayant de la liste dans la colonne abilities. "
   ]
  },
  {
   "cell_type": "code",
   "execution_count": null,
   "metadata": {
    "id": "ilOhz8QRBgoL",
    "colab": {
     "base_uri": "https://localhost:8080/",
     "height": 780
    },
    "outputId": "6145fdf6-6386-465a-9717-850af6443ad9",
    "pycharm": {
     "name": "#%%\n",
     "is_executing": true
    }
   },
   "outputs": [],
   "source": [
    "# votre code ici\n",
    "\n",
    "for i in range(1,7):\n",
    "  poks[\"ab\"+str(i)] = np.float64(\"NaN\")\n",
    "\n",
    "def mabs(x):\n",
    "  abs = convert_a(x.abilities)\n",
    "  for i,e in enumerate(abs): \n",
    "    poks.loc[x.name, \"ab\"+str(i+1)] = e\n",
    "\n",
    "poks.apply(mabs, axis=1)\n",
    "poks "
   ]
  },
  {
   "cell_type": "markdown",
   "metadata": {
    "id": "S6IZbk8PBv_D",
    "pycharm": {
     "name": "#%% md\n"
    }
   },
   "source": [
    "Ajoutez autant de colonnes que d'abilité existe et pour chaque colonne et chaque créature, placez la valeur à `True` si la créature possède l'abilité, et à `False` sinon. "
   ]
  },
  {
   "cell_type": "code",
   "execution_count": null,
   "metadata": {
    "id": "e1wUUQEzB__e",
    "colab": {
     "base_uri": "https://localhost:8080/",
     "height": 797
    },
    "outputId": "502c88bb-77f1-430e-e77f-e157189d85b0",
    "pycharm": {
     "name": "#%%\n",
     "is_executing": true
    }
   },
   "outputs": [],
   "source": [
    "# votre code ici\n",
    "poks.ab1.value_counts()\n",
    "\n",
    "abs = []\n",
    "for i in range(1,7):\n",
    "  abi = poks[\"ab\"+str(i)].unique()\n",
    "  for ab in abi: \n",
    "    if ab not in abs: abs.append(ab)\n",
    "\n",
    "for ab in abs: \n",
    "  poks[ab] =  (poks.ab1 == ab) | (poks.ab2 == ab) | (poks.ab3 == ab) | (poks.ab4 == ab) | (poks.ab5 == ab) | (poks.ab6 == ab)\n",
    "\n",
    "poks"
   ]
  },
  {
   "cell_type": "markdown",
   "metadata": {
    "id": "8JTX-wv3MIpJ",
    "pycharm": {
     "name": "#%% md\n"
    }
   },
   "source": [
    "Montrer comment les abilités sont corrélés entre elle."
   ]
  },
  {
   "cell_type": "code",
   "execution_count": null,
   "metadata": {
    "id": "n3MFy3tTMN8B",
    "pycharm": {
     "name": "#%%\n",
     "is_executing": true
    }
   },
   "outputs": [],
   "source": [
    "# votre code ici\n"
   ]
  }
 ],
 "metadata": {
  "colab": {
   "provenance": []
  },
  "kernelspec": {
   "display_name": "Python 3",
   "name": "python3"
  },
  "language_info": {
   "name": "python"
  }
 },
 "nbformat": 4,
 "nbformat_minor": 0
}