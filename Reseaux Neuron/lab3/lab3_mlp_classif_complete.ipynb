{
 "cells": [
  {
   "cell_type": "markdown",
   "metadata": {
    "pycharm": {
     "name": "#%% md\n"
    }
   },
   "source": [
    "# Image classification with multilayer perceptron (MLP)\n",
    "\n",
    "In this lab we design and train our first MLP network, and we use it for image classification."
   ]
  },
  {
   "cell_type": "code",
   "execution_count": 25,
   "metadata": {
    "pycharm": {
     "name": "#%%\n"
    }
   },
   "outputs": [],
   "source": [
    "import torch \n",
    "import torchvision\n",
    "from torch.utils.data import DataLoader, random_split, Subset\n",
    "import torch.nn as nn\n",
    "import os\n",
    "os.environ['KMP_DUPLICATE_LIB_OK']='True'\n",
    "import random\n",
    "import numpy as np\n",
    "import matplotlib.pyplot as plt\n",
    "from skimage import io, transform\n",
    "import copy"
   ]
  },
  {
   "cell_type": "markdown",
   "metadata": {
    "pycharm": {
     "name": "#%% md\n"
    }
   },
   "source": [
    "## Dataset\n",
    "\n",
    "We use the [MNIST](https://en.wikipedia.org/wiki/MNIST_database) dataset, which is a large image dataset of hand-written digits.\n",
    "\n",
    "<center><a href=\"https://en.wikipedia.org/wiki/MNIST_database\">\n",
    "    <img src=\"https://upload.wikimedia.org/wikipedia/commons/2/27/MnistExamples.png\"></a></center>\n",
    "\n",
    "Just like some other widely-used datasets, MNIST can be downloaded directly from Pytorch, and includes specific commands to create a `Dataset` object, thus you don't have to do it manually as we did in lab 1."
   ]
  },
  {
   "cell_type": "code",
   "execution_count": 26,
   "metadata": {
    "pycharm": {
     "name": "#%%\n"
    }
   },
   "outputs": [
    {
     "name": "stdout",
     "output_type": "stream",
     "text": [
      "Number of classes in the dataset: 10\n",
      "Number of images in the train dataset 400\n",
      "Number of images in the test dataset 50\n"
     ]
    }
   ],
   "source": [
    "# Define the data repository\n",
    "data_dir = 'data/'\n",
    "\n",
    "# Choose one (or several) transform(s) to preprocess the data\n",
    "# Here, we transform it to torch tensors, and we apply some normalization\n",
    "data_transforms = torchvision.transforms.Compose([torchvision.transforms.ToTensor(),\n",
    "                                                  torchvision.transforms.Normalize((0.1307,), (0.3081,))])\n",
    "\n",
    "# Create a Dataset (you can download the data by setting 'download=True')\n",
    "train_data = torchvision.datasets.MNIST(data_dir, train=True, download=True, transform=data_transforms)\n",
    "test_data = torchvision.datasets.MNIST(data_dir, train=False, download=True, transform=data_transforms)\n",
    "num_classes = len(train_data.classes)\n",
    "print('Number of classes in the dataset:', num_classes)\n",
    "\n",
    "# We are not going to work with the full dataset (which is quite large), so we only keep small train and test subsets.\n",
    "train_data = Subset(train_data, torch.arange(400))\n",
    "test_data = Subset(test_data, torch.arange(50))\n",
    "print('Number of images in the train dataset', len(train_data))\n",
    "print('Number of images in the test dataset', len(test_data))"
   ]
  },
  {
   "cell_type": "code",
   "execution_count": 27,
   "metadata": {
    "pycharm": {
     "name": "#%%\n"
    }
   },
   "outputs": [
    {
     "name": "stdout",
     "output_type": "stream",
     "text": [
      "torch.Size([1, 28, 28])\n",
      "Image label= 5\n"
     ]
    },
    {
     "data": {
      "text/plain": "<Figure size 640x480 with 1 Axes>",
      "image/png": "[encoded data removed]"
     },
     "metadata": {},
     "output_type": "display_data"
    }
   ],
   "source": [
    "# Fetch one data pair (one image and the corresponding label)\n",
    "image, label = train_data[0]\n",
    "print(image.shape)\n",
    "print('Image label=', label)\n",
    "\n",
    "# The size of the image is [1, 28, 28], which corresponds to [num_channels, height, width]\n",
    "# Indeed, MNIST images are in black-and-white (or grey scale) so there is only 1 color channel.\n",
    "# To plot this image, let's remove this channel dimension by using squeeze()\n",
    "plt.figure()\n",
    "plt.imshow(image.squeeze(), cmap='gray_r')\n",
    "plt.xticks([]), plt.yticks([])\n",
    "plt.show()"
   ]
  },
  {
   "cell_type": "code",
   "execution_count": 28,
   "metadata": {
    "pycharm": {
     "name": "#%%\n"
    }
   },
   "outputs": [
    {
     "name": "stdout",
     "output_type": "stream",
     "text": [
      "Number of batches in the training subset:  50\n"
     ]
    }
   ],
   "source": [
    "# TO DO:\n",
    "# - create two dataloaders (for the training and testing subsets) with a batch size of 8\n",
    "# - print the number of batches in the training subset\n",
    "batch_size = 8\n",
    "train_dataloader = DataLoader(train_data, shuffle=True, batch_size=batch_size)\n",
    "test_dataloader = DataLoader(test_data, batch_size=batch_size)\n",
    "\n",
    "print('Number of batches in the training subset: ', len(train_dataloader))"
   ]
  },
  {
   "cell_type": "code",
   "execution_count": 29,
   "metadata": {
    "pycharm": {
     "name": "#%%\n"
    }
   },
   "outputs": [
    {
     "name": "stdout",
     "output_type": "stream",
     "text": [
      "torch.Size([8, 1, 28, 28])\n",
      "torch.Size([8])\n"
     ]
    }
   ],
   "source": [
    "# Get a batch of images and corresponding labels from the train dataloader\n",
    "batch_example = next(iter(train_dataloader))\n",
    "image_batch_example = batch_example[0]\n",
    "labels_batch_example = batch_example[1]\n",
    "\n",
    "# Print the size of the batch of images and labels\n",
    "print(image_batch_example.shape)\n",
    "print(labels_batch_example.shape)"
   ]
  },
  {
   "cell_type": "code",
   "execution_count": 30,
   "metadata": {
    "pycharm": {
     "name": "#%%\n"
    }
   },
   "outputs": [
    {
     "data": {
      "text/plain": "<Figure size 1000x600 with 8 Axes>",
      "image/png": "[encoded data removed]"
     },
     "metadata": {},
     "output_type": "display_data"
    }
   ],
   "source": [
    "# Plot the images in the batch (along with the corresponding label)\n",
    "plt.figure(figsize = (10,6))\n",
    "for ib in range(batch_size):\n",
    "    plt.subplot(batch_size // 4, 4, ib+1)\n",
    "    plt.imshow(image_batch_example[ib, :].squeeze(), cmap='gray_r')\n",
    "    plt.xticks([]), plt.yticks([])\n",
    "    plt.title('Image label = ' + str(labels_batch_example[ib].item()))\n",
    "plt.show()"
   ]
  },
  {
   "cell_type": "markdown",
   "metadata": {
    "pycharm": {
     "name": "#%% md\n"
    }
   },
   "source": [
    "## MLP network\n",
    "\n",
    "A typical MLP network is composed of several layers:\n",
    "\n",
    "- an *input* layer, which takes a batch of vectors and computes the first hidden representation.\n",
    "- one or several *hidden* layers.\n",
    "- an *output* layer, which computes the output of the network.\n",
    "\n",
    "Each layer consists of a linear part and a non-linear *activation* functions (remember lab 2). There are many non-linear activation functions in Pytorch, check the [documentation](https://pytorch.org/docs/stable/nn.html#non-linear-activations-weighted-sum-nonlinearity) for a complete overview. A network is said to be *deep* if it has at least 3 layers (input, at least one hidden, and output).\n",
    "\n",
    "<center><a href=\"https://www.researchgate.net/publication/309592737_Classification_of_VoIP_and_non-VoIP_traffic_using_machine_learning_approaches\">\n",
    "    <img src=\"https://www.researchgate.net/profile/Mouhammd-Alkasassbeh/publication/309592737/figure/fig2/AS:423712664100865@1478032379613/MultiLayer-Perceptron-MLP-sturcture-334-MultiLayer-Perceptron-Classifier-MultiLayer.png\"></a></center>\n",
    "\n",
    "**Note**: Since an MLP manipulates vectors (= 1D-tensors) as inputs, in image processing we first have to transform our images into vectors. For instance, if a black-and-white image is a (3D) tensor of size `[1, 28, 28]`, then we have to reshape it into a tensor of size `[1x28x28] = [784]`.\n",
    "\n",
    "\n",
    "### Example\n",
    "\n",
    "First, let's write each layer individually and apply them on the example batch `image_batch_example`."
   ]
  },
  {
   "cell_type": "code",
   "execution_count": 31,
   "metadata": {
    "pycharm": {
     "name": "#%%\n"
    }
   },
   "outputs": [
    {
     "name": "stdout",
     "output_type": "stream",
     "text": [
      "torch.Size([8, 784])\n"
     ]
    }
   ],
   "source": [
    "# TO DO: reshape image_batch_example into a batch of vectors (=vectorized images):\n",
    "# 'image_batch_example' has size [batch_size, 1, 28, 28]\n",
    "# 'vectorized_batch' should have size [batch_size, 1*28*28]\n",
    "\n",
    "vectorized_batch = image_batch_example.reshape(image_batch_example.shape[0], -1)\n",
    "print(vectorized_batch.shape)"
   ]
  },
  {
   "cell_type": "code",
   "execution_count": 32,
   "metadata": {
    "pycharm": {
     "name": "#%%\n"
    }
   },
   "outputs": [
    {
     "name": "stdout",
     "output_type": "stream",
     "text": [
      "torch.Size([8, 10])\n"
     ]
    }
   ],
   "source": [
    "# Now we create the input layer (linear and activation) and we pass the vectorized batch through it\n",
    "input_size = vectorized_batch.shape[-1]\n",
    "hidden_size = 10\n",
    "input_layer = nn.Sequential(nn.Linear(input_size, hidden_size), nn.Sigmoid())\n",
    "y = input_layer(vectorized_batch)\n",
    "print(y.shape)"
   ]
  },
  {
   "cell_type": "markdown",
   "metadata": {
    "pycharm": {
     "name": "#%% md\n"
    }
   },
   "source": [
    "Now, let's create the hidden and output layers.\n",
    "- the hidden layer goes from `hidden_size` to `hidden_size`, and uses a Sigmoid activation function.\n",
    "- the output layer goes from `hidden_size` to `output_size`, and uses no activation function.\n",
    "\n",
    "**Note**: the output size is the number of classes in the dataset."
   ]
  },
  {
   "cell_type": "code",
   "execution_count": 33,
   "metadata": {
    "pycharm": {
     "name": "#%%\n"
    }
   },
   "outputs": [
    {
     "name": "stdout",
     "output_type": "stream",
     "text": [
      "torch.Size([8, 10])\n"
     ]
    }
   ],
   "source": [
    "# TO DO:\n",
    "# - create the hidden and output layers\n",
    "# - apply them to y to compute the output 'out'\n",
    "# - print the size of 'out'\n",
    "\n",
    "hidden_layer = nn.Sequential(nn.Linear(hidden_size, hidden_size), nn.Sigmoid())\n",
    "output_size = num_classes\n",
    "output_layer = nn.Linear(hidden_size, output_size)\n",
    "\n",
    "z = hidden_layer(y)\n",
    "out = output_layer(z) \n",
    "print(out.shape)"
   ]
  },
  {
   "cell_type": "markdown",
   "metadata": {
    "pycharm": {
     "name": "#%% md\n"
    }
   },
   "source": [
    "From what we have done above, two important remarks can be made:\n",
    "\n",
    "- The output `out` has size `[batch_size, num_classes]` while the true labels `labels_batch_example` has size `[batch_size]`. This is because `out` contains a predicted probability for each class, while `labels_batch_example` simply contains the true labels.\n",
    "- In classification tasks, we want to output *probabilities per class*. However, nothing ensures that `out` corresponds to probabilities, since it is not normalized and we didn't use any output activation function (values can be negative and not sum up to 1).\n",
    "\n",
    "However, when training a classification network, we generally use the [Cross Entropy](https://pytorch.org/docs/stable/generated/torch.nn.CrossEntropyLoss.html#torch.nn.CrossEntropyLoss) loss function, which alleviates these two issues. This loss is optimized for handling true labels instead of true probabilities per class, so you don't have to worry about it. Besides, it will automatically apply a [Softmax](https://pytorch.org/docs/stable/generated/torch.nn.Softmax.html) non-linearity to the predicted outputs, in order to normalize them as probabilities per class.\n",
    "\n",
    "**Note**: Instead of Cross Entropy, you can use the [Negative log-likelihood](https://pytorch.org/docs/stable/generated/torch.nn.NLLLoss.html#torch.nn.NLLLoss) similarly. It will also solve the first problem, but then you need to manually add a [log Softmax](https://pytorch.org/docs/stable/generated/torch.nn.LogSoftmax.html#torch.nn.LogSoftmax) as output activation to normalize the outputs."
   ]
  },
  {
   "cell_type": "code",
   "execution_count": 34,
   "metadata": {
    "pycharm": {
     "name": "#%%\n"
    }
   },
   "outputs": [
    {
     "name": "stdout",
     "output_type": "stream",
     "text": [
      "2.233870506286621\n"
     ]
    }
   ],
   "source": [
    "# Choose Cross Entropy as loss function\n",
    "loss_fn = nn.CrossEntropyLoss()\n",
    "\n",
    "# Compute the error between the predicted labels 'out' and true labels 'labels_batch_example'\n",
    "loss_batch = loss_fn(out, labels_batch_example)\n",
    "print(loss_batch.item())"
   ]
  },
  {
   "cell_type": "markdown",
   "metadata": {
    "pycharm": {
     "name": "#%% md\n"
    }
   },
   "source": [
    "### General module\n",
    "\n",
    "Now, let's create a general MLP classification network. It's a python class that inherits from the general `nn.Module` object, and it should contain at least 2 methods:\n",
    "\n",
    "- `__init__`, which initializes the network when instanciated (creates all the layers and stores some useful parameters if needed).\n",
    "- `forward`, which applies the forward pass (i.e., applies the layers to the input in order to compute the output).\n",
    "\n",
    "You can add other methods if needed but these two are sufficient for now.\n",
    "\n",
    "**Note**: Remember that Python classes usually define and use some variables/data/tensors/dictionary etc. internally (this includes network layers) called *attributes*: they should be defined in the `__init__` method with a specific structure (the name should start by `self.`, as we did in lab 1). This allows you to access these attributes in other methods, or after defining your network."
   ]
  },
  {
   "cell_type": "code",
   "execution_count": 35,
   "metadata": {
    "pycharm": {
     "name": "#%%\n"
    }
   },
   "outputs": [],
   "source": [
    "class MLPClassif(nn.Module):\n",
    "    def __init__(self, input_size, hidden_size, output_size, act_fn):\n",
    "        super(MLPClassif, self).__init__()\n",
    "        \n",
    "        # TO DO: define the input, hidden, and output layers as before\n",
    "        self.input_layer = nn.Sequential(nn.Linear(input_size, hidden_size), act_fn)\n",
    "        self.hidden_layer = nn.Sequential(nn.Linear(hidden_size, hidden_size), act_fn)\n",
    "        self.output_layer = nn.Linear(hidden_size, output_size)\n",
    "    \n",
    "    def forward(self, x):\n",
    "        \n",
    "        # TO DO: write the 'forward' method, which computes the output 'out' from the input x\n",
    "        # It should apply the input, hidden, and output layer, as we did in the example before.\n",
    "        y = self.input_layer(x)\n",
    "        z = self.hidden_layer(y)\n",
    "        out = self.output_layer(z)\n",
    "        \n",
    "        return out"
   ]
  },
  {
   "cell_type": "code",
   "execution_count": 36,
   "metadata": {
    "pycharm": {
     "name": "#%%\n"
    }
   },
   "outputs": [],
   "source": [
    "# TO DO: Instanciate an MLP classifier with a hidden size of 10 and a Sigmoid activation function\n",
    "input_size = train_data[0][0][0].shape[0]*train_data[0][0][0].shape[1]\n",
    "\n",
    "hidden_size = 10\n",
    "act_fn = nn.Sigmoid()\n",
    "output_size = num_classes\n",
    "\n",
    "model = MLPClassif(input_size, hidden_size, output_size, act_fn)"
   ]
  },
  {
   "cell_type": "code",
   "execution_count": 37,
   "metadata": {
    "pycharm": {
     "name": "#%%\n"
    }
   },
   "outputs": [
    {
     "data": {
      "text/plain": "MLPClassif(\n  (input_layer): Sequential(\n    (0): Linear(in_features=784, out_features=10, bias=True)\n    (1): Sigmoid()\n  )\n  (hidden_layer): Sequential(\n    (0): Linear(in_features=10, out_features=10, bias=True)\n    (1): Sigmoid()\n  )\n  (output_layer): Linear(in_features=10, out_features=10, bias=True)\n)"
     },
     "execution_count": 37,
     "metadata": {},
     "output_type": "execute_result"
    }
   ],
   "source": [
    "# initialization (ensure reproducibility: everybody should have the same results)\n",
    "def init_weights(m):\n",
    "    if isinstance(m, nn.Linear):\n",
    "        torch.nn.init.xavier_uniform_(m.weight.data)\n",
    "        if m.bias is not None:\n",
    "            m.bias.data.fill_(0.01)\n",
    "    return\n",
    "\n",
    "torch.manual_seed(0)\n",
    "model.apply(init_weights)"
   ]
  },
  {
   "cell_type": "code",
   "execution_count": 38,
   "metadata": {
    "pycharm": {
     "name": "#%%\n"
    }
   },
   "outputs": [
    {
     "data": {
      "text/plain": "<All keys matched successfully>"
     },
     "execution_count": 38,
     "metadata": {},
     "output_type": "execute_result"
    }
   ],
   "source": [
    "# You can save / load the model's parameters as follow:\n",
    "torch.save(model.state_dict(), 'model_mlp_classif.pt')\n",
    "model.load_state_dict(torch.load('model_mlp_classif.pt'))"
   ]
  },
  {
   "cell_type": "code",
   "execution_count": 39,
   "metadata": {
    "pycharm": {
     "name": "#%%\n"
    }
   },
   "outputs": [
    {
     "name": "stdout",
     "output_type": "stream",
     "text": [
      "Total number of parameters: 8070\n"
     ]
    }
   ],
   "source": [
    "# A useful command to get the total number of parameters in the model\n",
    "print('Total number of parameters:', sum(p.numel() for p in model.parameters()))"
   ]
  },
  {
   "cell_type": "markdown",
   "metadata": {
    "pycharm": {
     "name": "#%% md\n"
    }
   },
   "source": [
    "<span style=\"color:red\">**Q1**</span> How many parameters are in the network?\n",
    "\n",
    "## Training\n",
    "\n",
    "We now write the function for training the network. It's very similar to what we did in lab 2, except now we process batches of data instead of the whole dataset at each epoch."
   ]
  },
  {
   "cell_type": "code",
   "execution_count": 40,
   "metadata": {
    "pycharm": {
     "name": "#%%\n"
    }
   },
   "outputs": [],
   "source": [
    "def training_mlp_classifier(model, train_dataloader, num_epochs, loss_fn, learning_rate, verbose=True):\n",
    "\n",
    "    # Make a copy of the model (avoid changing the model outside this function)\n",
    "    model_tr = copy.deepcopy(model)\n",
    "    \n",
    "    # Set the model in 'training' mode (ensures all parameters' gradients are computed - it's like setting 'requires_grad=True' for all parameters)\n",
    "    model_tr.train()\n",
    "    \n",
    "    # Define the optimizer\n",
    "    optimizer = torch.optim.SGD(model_tr.parameters(), lr=learning_rate)\n",
    "    \n",
    "    # Initialize a list for storing the training loss over epochs\n",
    "    train_losses = []\n",
    "\n",
    "    # Initialize variables to keep track of the best model and best validation loss\n",
    "    best_model = None\n",
    "    best_val_loss = float('inf')\n",
    "    \n",
    "    # Training loop\n",
    "    for epoch in range(num_epochs):\n",
    "        \n",
    "        # Initialize the training loss for the current epoch\n",
    "        tr_loss = 0\n",
    "        \n",
    "        # Iterate over batches using the dataloader\n",
    "        for batch_index, (images, labels) in enumerate(train_dataloader):\n",
    "            \n",
    "            # TO DO: write the training procedure for each batch. This should consist of:\n",
    "            # - vectorizing the images (size should be (batch_size, input_size))\n",
    "            # - calculate the predicted labels from the vectorized images using 'model_tr'\n",
    "            # - using loss_fn, calculate the 'loss' between the predicted and true labels\n",
    "            # - set the optimizer gradients at 0 for safety\n",
    "            # - compute the gradients (use the 'backward' method on 'loss')\n",
    "            # - apply the gradient descent algorithm (perform a step of the optimizer)\n",
    "            \n",
    "            # Prepare the inputs and labels\n",
    "            images = images.reshape(images.shape[0], -1)\n",
    "            \n",
    "            # Forward pass\n",
    "            labels_predicted = model_tr(images)\n",
    "            loss = loss_fn(labels_predicted, labels)\n",
    "            \n",
    "            # Backpropagation\n",
    "            optimizer.zero_grad()\n",
    "            loss.backward()\n",
    "            optimizer.step()\n",
    "            \n",
    "            # Update the current epoch loss\n",
    "            # Note that 'loss.item()' is the loss averaged over the batch, so multiply it with the current batch size to get the total batch loss\n",
    "            tr_loss += loss.item() * 8\n",
    "\n",
    "             # If the current model has a lower validation loss, update the best model\n",
    "            if loss < best_val_loss:\n",
    "                best_val_loss = loss\n",
    "            best_model = copy.deepcopy(model_tr)\n",
    "\n",
    "        # Set the model back to training mode\n",
    "        model_tr.train()\n",
    "\n",
    "        # At the end of each epoch, get the average training loss and store it\n",
    "        tr_loss = tr_loss/len(train_dataloader.dataset)\n",
    "        train_losses.append(tr_loss)\n",
    "\n",
    "\n",
    "        \n",
    "        # Display the training loss\n",
    "        if verbose:\n",
    "            print('Epoch [{}/{}], Training loss: {:.4f}'.format(epoch+1, num_epochs, tr_loss))\n",
    "    \n",
    "    return best_model, train_losses"
   ]
  },
  {
   "cell_type": "code",
   "execution_count": 41,
   "metadata": {
    "pycharm": {
     "name": "#%%\n"
    }
   },
   "outputs": [
    {
     "name": "stdout",
     "output_type": "stream",
     "text": [
      "Epoch [1/30], Training loss: 2.3550\n",
      "Epoch [2/30], Training loss: 2.3123\n",
      "Epoch [3/30], Training loss: 2.2855\n",
      "Epoch [4/30], Training loss: 2.2657\n",
      "Epoch [5/30], Training loss: 2.2494\n",
      "Epoch [6/30], Training loss: 2.2357\n",
      "Epoch [7/30], Training loss: 2.2227\n",
      "Epoch [8/30], Training loss: 2.2115\n",
      "Epoch [9/30], Training loss: 2.2010\n",
      "Epoch [10/30], Training loss: 2.1912\n",
      "Epoch [11/30], Training loss: 2.1816\n",
      "Epoch [12/30], Training loss: 2.1724\n",
      "Epoch [13/30], Training loss: 2.1636\n",
      "Epoch [14/30], Training loss: 2.1550\n",
      "Epoch [15/30], Training loss: 2.1468\n",
      "Epoch [16/30], Training loss: 2.1378\n",
      "Epoch [17/30], Training loss: 2.1295\n",
      "Epoch [18/30], Training loss: 2.1212\n",
      "Epoch [19/30], Training loss: 2.1129\n",
      "Epoch [20/30], Training loss: 2.1046\n",
      "Epoch [21/30], Training loss: 2.0958\n",
      "Epoch [22/30], Training loss: 2.0871\n",
      "Epoch [23/30], Training loss: 2.0783\n",
      "Epoch [24/30], Training loss: 2.0694\n",
      "Epoch [25/30], Training loss: 2.0605\n",
      "Epoch [26/30], Training loss: 2.0513\n",
      "Epoch [27/30], Training loss: 2.0421\n",
      "Epoch [28/30], Training loss: 2.0325\n",
      "Epoch [29/30], Training loss: 2.0230\n",
      "Epoch [30/30], Training loss: 2.0132\n"
     ]
    },
    {
     "data": {
      "text/plain": "<Figure size 640x480 with 1 Axes>",
      "image/png": "[encoded data removed]"
     },
     "metadata": {},
     "output_type": "display_data"
    }
   ],
   "source": [
    "# TO DO: Define the training parameters and train the model\n",
    "# - 30 epochs\n",
    "# - learning rate = 0.01\n",
    "# - loss function: Cross Entropy\n",
    "# After training, save the model parameters and display the loss over epochs\n",
    "\n",
    "num_epochs = 30\n",
    "learning_rate = 0.01\n",
    "loss_fn = nn.CrossEntropyLoss()\n",
    "\n",
    "model_tr, train_losses = training_mlp_classifier(model, train_dataloader, num_epochs, loss_fn, learning_rate)\n",
    "torch.save(model_tr.state_dict(), 'model_mlp_classif.pt')\n",
    "\n",
    "plt.figure()\n",
    "plt.plot(torch.arange(num_epochs)+1, train_losses)\n",
    "plt.xlabel('Epochs')\n",
    "plt.ylabel('Loss')\n",
    "plt.show()"
   ]
  },
  {
   "cell_type": "markdown",
   "metadata": {
    "pycharm": {
     "name": "#%% md\n"
    }
   },
   "source": [
    "## Evaluation\n",
    "\n",
    "Now the model is trained, we can evaluate it on the test dataset. We do that by predicting the labels using our model, and comparing it with the true labels. This allows us to compute the classification accuracy, which is provided in the function below."
   ]
  },
  {
   "cell_type": "code",
   "execution_count": 42,
   "metadata": {
    "pycharm": {
     "name": "#%%\n"
    }
   },
   "outputs": [],
   "source": [
    "# Evaluation function: similar to the training loop, except we don't need to compute any gradient / backprop\n",
    "\n",
    "def eval_mlp_classifier(model, eval_dataloader):\n",
    "    \n",
    "    # Set the model in 'evaluation' mode (this disables some layers (batch norm, dropout...) which are not needed when testing)\n",
    "    model.eval() \n",
    "\n",
    "    # In evaluation phase, we don't need to compute gradients (for memory efficiency)\n",
    "    with torch.no_grad():\n",
    "        # initialize the total and correct number of labels to compute the accuracy\n",
    "        correct_labels = 0\n",
    "        total_labels = 0\n",
    "        \n",
    "        # Iterate over the dataset using the dataloader\n",
    "        for images, labels in eval_dataloader:\n",
    "\n",
    "            # Get the predicted labels\n",
    "            images = images.reshape(images.shape[0], -1)\n",
    "            y_predicted = model(images)\n",
    "            \n",
    "            # To get the predicted labels, we need to get the max over all possible classes\n",
    "            _, label_predicted = torch.max(y_predicted.data, 1)\n",
    "            \n",
    "            # Compute accuracy: count the total number of samples, and the correct labels (compare the true and predicted labels)\n",
    "            total_labels += labels.size(0)\n",
    "            correct_labels += (label_predicted == labels).sum().item()\n",
    "    \n",
    "    accuracy = 100 * correct_labels / total_labels\n",
    "    \n",
    "    return accuracy"
   ]
  },
  {
   "cell_type": "code",
   "execution_count": 43,
   "metadata": {
    "pycharm": {
     "name": "#%%\n"
    }
   },
   "outputs": [
    {
     "name": "stdout",
     "output_type": "stream",
     "text": [
      "Accuracy of the network on the test images: 68.0 %\n"
     ]
    }
   ],
   "source": [
    "# TO DO: Evaluate the model on the test set:\n",
    "# - Instanciate an MLP newtork and load the trained parameters\n",
    "# - Apply the evaluation function using the test dataloader\n",
    "# - Print the test accuracy\n",
    "\n",
    "model_tr = MLPClassif(input_size, hidden_size, num_classes, act_fn)\n",
    "model_tr.load_state_dict(torch.load('model_mlp_classif.pt'))\n",
    "accuracy = eval_mlp_classifier(model_tr, test_dataloader)\n",
    "print('Accuracy of the network on the test images:', accuracy, '%')"
   ]
  },
  {
   "cell_type": "markdown",
   "metadata": {
    "pycharm": {
     "name": "#%% md\n"
    }
   },
   "source": [
    "<span style=\"color:red\">**Q2**</span> Put the plot above (training loss over epochs) and the test accuracy in your report. Based on the plot, can you suggest a way to improve the test accuracy?\n",
    "\n",
    "## Influence of the activation function\n",
    "\n",
    "We used the MLP classifier with a Sigmoid activation function, but another common choice is the [Rectified Linear Unit](https://pytorch.org/docs/stable/generated/torch.nn.ReLU.html?highlight=relu#torch.nn.ReLU). Here we investigate how it performs compared to the Sigmoid-based network."
   ]
  },
  {
   "cell_type": "code",
   "execution_count": 44,
   "metadata": {
    "pycharm": {
     "name": "#%%\n"
    }
   },
   "outputs": [],
   "source": [
    "# TO DO: Define an MLP classifier using a ReLU activation. \n",
    "model_relu = MLPClassif(input_size, hidden_size, num_classes, nn.ReLU())"
   ]
  },
  {
   "cell_type": "code",
   "execution_count": 45,
   "metadata": {
    "pycharm": {
     "name": "#%%\n"
    }
   },
   "outputs": [
    {
     "data": {
      "text/plain": "MLPClassif(\n  (input_layer): Sequential(\n    (0): Linear(in_features=784, out_features=10, bias=True)\n    (1): ReLU()\n  )\n  (hidden_layer): Sequential(\n    (0): Linear(in_features=10, out_features=10, bias=True)\n    (1): ReLU()\n  )\n  (output_layer): Linear(in_features=10, out_features=10, bias=True)\n)"
     },
     "execution_count": 45,
     "metadata": {},
     "output_type": "execute_result"
    }
   ],
   "source": [
    "# Initialize the weights (for reproducibility)\n",
    "torch.manual_seed(0)\n",
    "model_relu.apply(init_weights)"
   ]
  },
  {
   "cell_type": "code",
   "execution_count": 46,
   "metadata": {
    "pycharm": {
     "name": "#%%\n"
    }
   },
   "outputs": [
    {
     "name": "stdout",
     "output_type": "stream",
     "text": [
      "Epoch [1/30], Training loss: 2.2204\n",
      "Epoch [2/30], Training loss: 1.7419\n",
      "Epoch [3/30], Training loss: 1.2621\n",
      "Epoch [4/30], Training loss: 0.8762\n",
      "Epoch [5/30], Training loss: 0.6518\n",
      "Epoch [6/30], Training loss: 0.5213\n",
      "Epoch [7/30], Training loss: 0.4233\n",
      "Epoch [8/30], Training loss: 0.3637\n",
      "Epoch [9/30], Training loss: 0.3185\n",
      "Epoch [10/30], Training loss: 0.2672\n",
      "Epoch [11/30], Training loss: 0.2336\n",
      "Epoch [12/30], Training loss: 0.2037\n",
      "Epoch [13/30], Training loss: 0.1801\n",
      "Epoch [14/30], Training loss: 0.1560\n",
      "Epoch [15/30], Training loss: 0.1340\n",
      "Epoch [16/30], Training loss: 0.1237\n",
      "Epoch [17/30], Training loss: 0.1052\n",
      "Epoch [18/30], Training loss: 0.0952\n",
      "Epoch [19/30], Training loss: 0.0823\n",
      "Epoch [20/30], Training loss: 0.0777\n",
      "Epoch [21/30], Training loss: 0.0686\n",
      "Epoch [22/30], Training loss: 0.0643\n",
      "Epoch [23/30], Training loss: 0.0578\n",
      "Epoch [24/30], Training loss: 0.0532\n",
      "Epoch [25/30], Training loss: 0.0496\n",
      "Epoch [26/30], Training loss: 0.0456\n",
      "Epoch [27/30], Training loss: 0.0418\n",
      "Epoch [28/30], Training loss: 0.0392\n",
      "Epoch [29/30], Training loss: 0.0361\n",
      "Epoch [30/30], Training loss: 0.0339\n"
     ]
    },
    {
     "data": {
      "text/plain": "<Figure size 640x480 with 1 Axes>",
      "image/png": "[encoded data removed]"
     },
     "metadata": {},
     "output_type": "display_data"
    },
    {
     "name": "stdout",
     "output_type": "stream",
     "text": [
      "Accuracy of the network on the test images: 90.0 %\n"
     ]
    }
   ],
   "source": [
    "# TO DO: Train the network and evaluate it.\n",
    "\n",
    "# Training, plot the loss and save the model's parameters\n",
    "model_relu_tr, train_losses_relu = training_mlp_classifier(model_relu, train_dataloader, num_epochs, loss_fn, learning_rate)\n",
    "torch.save(model_relu_tr.state_dict(), 'model_mlp_classif_relu.pt')\n",
    "plt.figure()\n",
    "plt.plot(train_losses_relu)\n",
    "plt.xlabel('Epochs')\n",
    "plt.ylabel('Loss')\n",
    "plt.show()\n",
    "\n",
    "# Evaluate on the test set and print accuracy\n",
    "accuracy = eval_mlp_classifier(model_relu_tr, test_dataloader)\n",
    "print('Accuracy of the network on the test images:', accuracy, '%')"
   ]
  },
  {
   "cell_type": "markdown",
   "metadata": {
    "pycharm": {
     "name": "#%% md\n"
    }
   },
   "source": [
    "<span style=\"color:red\">**Q3**</span> What is the accuracy on the test set with this network? Which one (Sigmoid or ReLU) would you recommend to use?"
   ]
  },
  {
   "cell_type": "markdown",
   "metadata": {
    "pycharm": {
     "name": "#%% md\n"
    }
   },
   "source": [
    "## Increasing the model capacity\n",
    "\n",
    "In order to improve performance, a straightforward approach is to increase the model capacity, i.e., increase the number of parameters. There are basically two ways to do so: either increase the number of neurons in each layer (*width*) of increase the total number of layers (*depth*). Let's focus here on width."
   ]
  },
  {
   "cell_type": "code",
   "execution_count": 47,
   "metadata": {
    "pycharm": {
     "name": "#%%\n"
    }
   },
   "outputs": [
    {
     "name": "stdout",
     "output_type": "stream",
     "text": [
      "Hidden size: 5  -- Total number of parameters: 4015  -- Test accuracy: 58.0 %\n",
      "Hidden size: 10  -- Total number of parameters: 8070  -- Test accuracy: 90.0 %\n",
      "Hidden size: 100  -- Total number of parameters: 89610  -- Test accuracy: 90.0 %\n",
      "Hidden size: 200  -- Total number of parameters: 199210  -- Test accuracy: 86.0 %\n"
     ]
    }
   ],
   "source": [
    "# TO DO: define, train and evalute an MLP classifier model with a variable hidden_size:\n",
    "# - 'hidden_size' ranges in [5, 10, 100, 200]\n",
    "# - the networks use ReLU activation, and training uses 30 epochs\n",
    "# - for each hidden size, print the number of parameters and the test accuracy\n",
    "# Remember to initialize the weights of the network after instanciating it for reproducibility.\n",
    "\n",
    "hidden_size_list = [5, 10, 100, 200]\n",
    "for hidden_size in hidden_size_list:\n",
    "    model = MLPClassif(input_size, hidden_size, num_classes, nn.ReLU())\n",
    "    torch.manual_seed(0)\n",
    "    model.apply(init_weights)\n",
    "    model_tr, _ = training_mlp_classifier(model, train_dataloader, num_epochs, loss_fn, learning_rate, verbose=False)\n",
    "    accuracy = eval_mlp_classifier(model_tr, test_dataloader)\n",
    "    print('Hidden size:', hidden_size,\n",
    "          ' -- Total number of parameters:', sum(p.numel() for p in model_tr.parameters()),\n",
    "          ' -- Test accuracy:', accuracy, '%')"
   ]
  },
  {
   "cell_type": "markdown",
   "metadata": {
    "pycharm": {
     "name": "#%% md\n"
    }
   },
   "source": [
    "<span style=\"color:red\">**Q4**</span> Report the test accuracy as a function of `hidden_size`. Which value of `hidden_size` would you use and why?"
   ]
  }
 ],
 "metadata": {
  "kernelspec": {
   "display_name": "Python 3 (ipykernel)",
   "language": "python",
   "name": "python3"
  },
  "language_info": {
   "codemirror_mode": {
    "name": "ipython",
    "version": 3
   },
   "file_extension": ".py",
   "mimetype": "text/x-python",
   "name": "python",
   "nbconvert_exporter": "python",
   "pygments_lexer": "ipython3",
   "version": "3.10.12"
  }
 },
 "nbformat": 4,
 "nbformat_minor": 4
}