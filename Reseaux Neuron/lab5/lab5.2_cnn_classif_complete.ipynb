{
 "cells": [
  {
   "cell_type": "markdown",
   "metadata": {
    "pycharm": {
     "name": "#%% md\n"
    }
   },
   "source": [
    "# Image classification with convolutional neural networks\n",
    "\n",
    "In this script we create, train, and evaluate an image classifier based on convolutional neural networks (CNNs)."
   ]
  },
  {
   "cell_type": "code",
   "execution_count": 1,
   "metadata": {
    "pycharm": {
     "name": "#%%\n"
    }
   },
   "outputs": [],
   "source": [
    "import torch\n",
    "import torch.nn as nn\n",
    "from torchvision import transforms, datasets\n",
    "from torch.utils.data import DataLoader, Subset\n",
    "import numpy as np\n",
    "import matplotlib.pyplot as plt\n",
    "import copy\n",
    "\n",
    "# Define the data repository\n",
    "data_dir = 'data/'"
   ]
  },
  {
   "cell_type": "code",
   "execution_count": 2,
   "metadata": {
    "pycharm": {
     "name": "#%%\n"
    }
   },
   "outputs": [],
   "source": [
    "# Initialization function\n",
    "def init_weights(m):\n",
    "    if isinstance(m, nn.Linear) or isinstance(m, nn.Conv2d):\n",
    "        torch.nn.init.xavier_uniform_(m.weight.data)\n",
    "        if m.bias is not None:\n",
    "            m.bias.data.fill_(0.01)\n",
    "    return"
   ]
  },
  {
   "cell_type": "markdown",
   "metadata": {
    "pycharm": {
     "name": "#%% md\n"
    }
   },
   "source": [
    "## Dataset\n",
    "\n",
    "In this lab we work with the [Fashion MNIST](https://github.com/zalandoresearch/fashion-mnist) dataset: it's similar to MNIST, but these are images of clothes from Zalando instead of digits.\n",
    "\n",
    "<center><a href=\"https://medium.com/ml2vec/intro-to-pytorch-with-image-classification-on-a-fashion-clothes-dataset-e589682df0c5\">\n",
    "    <img src=\"https://miro.medium.com/max/1400/1*jXssb_WjoYZgepOCfdQfJA.png\" width=\"400\"></a></center>\n",
    "\n",
    "Like MNIST, each image comes with a label between 0 and 9 (10 classes). The mapping between integer labels and actual classes (0 = t-shirt, 1 = trousers, etc.) can be found [here](https://github.com/zalandoresearch/fashion-mnist#labels)."
   ]
  },
  {
   "cell_type": "code",
   "execution_count": 3,
   "metadata": {
    "pycharm": {
     "name": "#%%\n"
    }
   },
   "outputs": [],
   "source": [
    "# Just like MNIST, you can download the data by setting'download=True' directly from pytorch\n",
    "train_data = datasets.FashionMNIST(data_dir, train=True, download=True, transform=transforms.ToTensor())\n",
    "test_data = datasets.FashionMNIST(data_dir, train=False, download=True, transform=transforms.ToTensor())\n",
    "num_classes = len(train_data.classes)\n",
    "\n",
    "# Take a subset of the train/test data\n",
    "train_data = Subset(train_data, torch.arange(400))\n",
    "test_data = Subset(test_data, torch.arange(50))\n",
    "\n",
    "# Create dataloaders\n",
    "batch_size = 8\n",
    "train_dataloader = DataLoader(train_data, shuffle=True, batch_size=batch_size)\n",
    "test_dataloader = DataLoader(test_data, batch_size=batch_size)"
   ]
  },
  {
   "cell_type": "code",
   "execution_count": 4,
   "metadata": {
    "pycharm": {
     "name": "#%%\n"
    }
   },
   "outputs": [
    {
     "data": {
      "image/png": "[encoded data removed]",
      "text/plain": [
       "<Figure size 1000x600 with 8 Axes>"
      ]
     },
     "metadata": {},
     "output_type": "display_data"
    }
   ],
   "source": [
    "# Get a batch of images from the train dataloader and print it\n",
    "image_batch_example, labels_batch_example = next(iter(train_dataloader))\n",
    "\n",
    "plt.figure(figsize = (10,6))\n",
    "for ib in range(batch_size):\n",
    "    plt.subplot(batch_size // 4, 4, ib+1)\n",
    "    plt.imshow(image_batch_example[ib, :].squeeze().detach(), cmap='gray_r')\n",
    "    plt.xticks([]), plt.yticks([])\n",
    "    plt.title('Image label = ' + str(labels_batch_example[ib].item()))\n",
    "plt.show()"
   ]
  },
  {
   "cell_type": "markdown",
   "metadata": {
    "pycharm": {
     "name": "#%% md\n"
    }
   },
   "source": [
    "## CNN classifier\n",
    "\n",
    "A CNN classifier usually consists of:\n",
    "- one or several convolutional layers/modules that produce intermediate latent representations called ***feature maps***\n",
    "- an output linear layer performing classification from the feature maps\n",
    "\n",
    "<center><a href=\"https://towardsdatascience.com/simple-introduction-to-convolutional-neural-networks-cdf8d3077bac\">\n",
    "    <img src=\"https://miro.medium.com/max/700/1*LTRcAyl6zuuJvpU-5KECZA.png\"></a></center>\n",
    "\n",
    "### Example"
   ]
  },
  {
   "cell_type": "code",
   "execution_count": 5,
   "metadata": {
    "pycharm": {
     "name": "#%%\n"
    }
   },
   "outputs": [
    {
     "name": "stdout",
     "output_type": "stream",
     "text": [
      "torch.Size([8, 16, 14, 14])\n"
     ]
    }
   ],
   "source": [
    "# Let us create a first CNN layer, with:\n",
    "# - a convolution function, with 16 output channels, kernel_size=5, padding=2, and bias\n",
    "# - a non-linear activation function (ReLU)\n",
    "# - a max pooling function\n",
    "\n",
    "cnn_layer1 = nn.Sequential(nn.Conv2d(1, 16, kernel_size=5, padding=2),\n",
    "                           nn.ReLU(),\n",
    "                           nn.MaxPool2d(kernel_size=2))\n",
    "out1 = cnn_layer1(image_batch_example)\n",
    "print(out1.shape)"
   ]
  },
  {
   "cell_type": "code",
   "execution_count": 6,
   "metadata": {
    "pycharm": {
     "name": "#%%\n"
    }
   },
   "outputs": [
    {
     "name": "stdout",
     "output_type": "stream",
     "text": [
      "torch.Size([8, 32, 7, 7])\n"
     ]
    }
   ],
   "source": [
    "# TO DO: create the second CNN layer, with the same structure as the first one\n",
    "# (same non-linear activation and max pooling functions), but the convolution function\n",
    "# now has 16 input channels and 32 output channels\n",
    "# After creating it, apply it to 'out1' to compute out2, and print the shape of out2.\n",
    "\n",
    "cnn_layer2 = nn.Sequential(nn.Conv2d(16, 32, kernel_size=5, padding=2),\n",
    "                           nn.ReLU(),\n",
    "                           nn.MaxPool2d(kernel_size =2))\n",
    "out2 = cnn_layer2(out1)\n",
    "print(out2.shape)"
   ]
  },
  {
   "cell_type": "code",
   "execution_count": 7,
   "metadata": {
    "pycharm": {
     "name": "#%%\n"
    }
   },
   "outputs": [
    {
     "name": "stdout",
     "output_type": "stream",
     "text": [
      "torch.Size([8, 1568])\n",
      "torch.Size([8, 10])\n"
     ]
    }
   ],
   "source": [
    "# Now, we define a linear layer to perform classification (as in Lab 3)\n",
    "\n",
    "# First, we need to flatten out2, since linear layers in pytorch process vectors (or more precisely batches of vectors)\n",
    "# The resulting vector should have a shape = (batch_size, 32 x 7 x 7)\n",
    "out_vec = out2.reshape(out2.shape[0], -1)\n",
    "print(out_vec.shape)\n",
    "\n",
    "# TO DO: define a Linear layer with appropriate parameters\n",
    "# - the input size is given by checking the shape of 'out_vec'\n",
    "# - the output size is the number of classes in the dataset\n",
    "# Once defined, apply this layer to out_vec\n",
    "\n",
    "input_size_linear = out_vec.shape[1]\n",
    "lin_layer = nn.Linear(input_size_linear, num_classes)\n",
    "est_labels = lin_layer(out_vec)\n",
    "print(est_labels.shape)"
   ]
  },
  {
   "cell_type": "markdown",
   "metadata": {
    "pycharm": {
     "name": "#%% md\n"
    }
   },
   "source": [
    "### General module\n",
    "\n",
    "Now, let's create a general CNN classification network, train and test it. The CNN module takes as inputs the number of output channels in each layer (and the number of classes), but we also have to explicitly provide the input size of the Linear layer, since it depends on many other parameters (image size, but also kernel, padding, stride, number of channels in the convolutions...). Instead of computing it with a general (and heavy) formula, it's easier to just get it from an example (as above), and then pass it as an input parameter.\n",
    "\n",
    "**Note**: there are ways to alleviate this issue (e.g., using another convolution layer with as many kernels as output classes, and then global pooling)... but that's outside the scope of these labs."
   ]
  },
  {
   "cell_type": "code",
   "execution_count": 8,
   "metadata": {
    "pycharm": {
     "name": "#%%\n"
    }
   },
   "outputs": [],
   "source": [
    "# TO DO: Define the CNN classifier module ('__init__' and 'forward' methods).\n",
    "# It's architecture is the same as in the example above.\n",
    "\n",
    "class CNNClassif(nn.Module):\n",
    "    def __init__(self, input_size_linear, num_channels1=16, num_channels2=32, num_classes=10):\n",
    "        super().__init__()\n",
    "        \n",
    "        self.cnn_layer1 = nn.Sequential(\n",
    "            nn.Conv2d(1, num_channels1, kernel_size=5, padding=2),\n",
    "            nn.ReLU(),\n",
    "            nn.MaxPool2d(kernel_size=2))\n",
    "            \n",
    "        self.cnn_layer2 = nn.Sequential(\n",
    "            nn.Conv2d(num_channels1, num_channels2, kernel_size=5, padding=2),\n",
    "            nn.ReLU(),\n",
    "            nn.MaxPool2d(kernel_size=2))\n",
    "        \n",
    "        self.lin_layer = nn.Linear(input_size_linear, num_classes)\n",
    "        \n",
    "    def forward(self, x):\n",
    "\n",
    "        out = self.cnn_layer1(x)\n",
    "        out = self.cnn_layer2(out)\n",
    "        out = out.reshape(out.size(0), -1)\n",
    "        out = self.lin_layer(out)\n",
    "        return out "
   ]
  },
  {
   "cell_type": "code",
   "execution_count": 9,
   "metadata": {
    "pycharm": {
     "name": "#%%\n"
    }
   },
   "outputs": [
    {
     "name": "stdout",
     "output_type": "stream",
     "text": [
      "Total number of parameters:  28938\n"
     ]
    },
    {
     "data": {
      "text/plain": [
       "CNNClassif(\n",
       "  (cnn_layer1): Sequential(\n",
       "    (0): Conv2d(1, 16, kernel_size=(5, 5), stride=(1, 1), padding=(2, 2))\n",
       "    (1): ReLU()\n",
       "    (2): MaxPool2d(kernel_size=2, stride=2, padding=0, dilation=1, ceil_mode=False)\n",
       "  )\n",
       "  (cnn_layer2): Sequential(\n",
       "    (0): Conv2d(16, 32, kernel_size=(5, 5), stride=(1, 1), padding=(2, 2))\n",
       "    (1): ReLU()\n",
       "    (2): MaxPool2d(kernel_size=2, stride=2, padding=0, dilation=1, ceil_mode=False)\n",
       "  )\n",
       "  (lin_layer): Linear(in_features=1568, out_features=10, bias=True)\n",
       ")"
      ]
     },
     "execution_count": 9,
     "metadata": {},
     "output_type": "execute_result"
    }
   ],
   "source": [
    "# Instantiate the model\n",
    "num_channels1 = 16\n",
    "num_channels2 = 32\n",
    "num_classes = 10\n",
    "model = CNNClassif(input_size_linear, num_channels1, num_channels2, num_classes)\n",
    "\n",
    "# Print the total number of parameters in the model\n",
    "print('Total number of parameters: ', sum(p.numel() for p in model.parameters()))\n",
    "\n",
    "# initialization (ensure reproducibility: everybody should have the same results)\n",
    "torch.manual_seed(0)\n",
    "model.apply(init_weights)"
   ]
  },
  {
   "cell_type": "markdown",
   "metadata": {
    "pycharm": {
     "name": "#%% md\n"
    }
   },
   "source": [
    "## Training and evaluation\n",
    "\n",
    "The training function is almost the same as in lab3, except we don't need to vectorize the images. Indeed, MLPs process (batches of) vectors, while CNNs directly process (batches of) images."
   ]
  },
  {
   "cell_type": "code",
   "execution_count": 10,
   "metadata": {
    "pycharm": {
     "name": "#%%\n"
    }
   },
   "outputs": [],
   "source": [
    "# TO DO: write the training function (no validation).\n",
    "\n",
    "def training_cnn_classifier(model, train_dataloader, num_epochs, loss_fn, learning_rate, verbose=True):\n",
    "\n",
    "    # Make a copy of the model (avoid changing the model outside this function)\n",
    "    model_tr = copy.deepcopy(model)\n",
    "    \n",
    "    # Set the model in 'training' mode (ensures all parameters' gradients are computed)\n",
    "    model_tr.train()\n",
    "    \n",
    "    # define the optimizer (SGD)\n",
    "    optimizer = torch.optim.SGD(model_tr.parameters(), lr=learning_rate)\n",
    "    \n",
    "    # Initialize a list for storing the training loss over epochs\n",
    "    train_losses = []\n",
    "    \n",
    "    # Training loop\n",
    "    for epoch in range(num_epochs):\n",
    "        tr_loss = 0\n",
    "        \n",
    "        for batch_index, (images, labels) in enumerate(train_dataloader):\n",
    "\n",
    "            # forward pass\n",
    "            y_predicted = model_tr(images)\n",
    "            loss = loss_fn(y_predicted, labels)\n",
    "\n",
    "            # backpropagation\n",
    "            optimizer.zero_grad()\n",
    "            loss.backward()\n",
    "            optimizer.step()\n",
    "            \n",
    "            # Update the current epoch loss\n",
    "            tr_loss += loss.item() * images.shape[0]\n",
    "\n",
    "        # At the end of each epoch, get the average training loss and store it\n",
    "        tr_loss = tr_loss/len(train_dataloader.dataset)\n",
    "        train_losses.append(tr_loss)\n",
    "        \n",
    "        # Display the training loss\n",
    "        if verbose:\n",
    "            print ('Epoch [{}/{}], Loss: {:.4f}'.format(epoch+1, num_epochs, tr_loss))\n",
    "        \n",
    "    return model_tr, train_losses"
   ]
  },
  {
   "cell_type": "code",
   "execution_count": 11,
   "metadata": {
    "pycharm": {
     "name": "#%%\n"
    }
   },
   "outputs": [
    {
     "name": "stdout",
     "output_type": "stream",
     "text": [
      "Epoch [1/20], Loss: 2.2194\n",
      "Epoch [2/20], Loss: 1.8321\n",
      "Epoch [3/20], Loss: 1.4346\n",
      "Epoch [4/20], Loss: 1.2466\n",
      "Epoch [5/20], Loss: 1.1169\n",
      "Epoch [6/20], Loss: 1.0042\n",
      "Epoch [7/20], Loss: 0.9339\n",
      "Epoch [8/20], Loss: 0.8945\n",
      "Epoch [9/20], Loss: 0.8292\n",
      "Epoch [10/20], Loss: 0.7793\n",
      "Epoch [11/20], Loss: 0.7399\n",
      "Epoch [12/20], Loss: 0.7050\n",
      "Epoch [13/20], Loss: 0.6700\n",
      "Epoch [14/20], Loss: 0.6316\n",
      "Epoch [15/20], Loss: 0.6488\n",
      "Epoch [16/20], Loss: 0.6240\n",
      "Epoch [17/20], Loss: 0.5812\n",
      "Epoch [18/20], Loss: 0.5712\n",
      "Epoch [19/20], Loss: 0.5839\n",
      "Epoch [20/20], Loss: 0.5334\n"
     ]
    },
    {
     "data": {
      "image/png": "[encoded data removed]",
      "text/plain": [
       "<Figure size 640x480 with 1 Axes>"
      ]
     },
     "metadata": {},
     "output_type": "display_data"
    }
   ],
   "source": [
    "# Optimizer\n",
    "num_epochs = 20\n",
    "loss_fn = nn.CrossEntropyLoss()\n",
    "learning_rate = 0.01\n",
    "\n",
    "# Training\n",
    "model, train_losses = training_cnn_classifier(model, train_dataloader, num_epochs, loss_fn, learning_rate, verbose=True)\n",
    "\n",
    "# Save the model and display the loss over epochs\n",
    "torch.save(model.state_dict(), 'model_cnn_classif.pt')\n",
    "plt.plot(train_losses)\n",
    "plt.show()"
   ]
  },
  {
   "cell_type": "code",
   "execution_count": 12,
   "metadata": {
    "pycharm": {
     "name": "#%%\n"
    }
   },
   "outputs": [],
   "source": [
    "# Eval function\n",
    "def eval_cnn_classifier(model, eval_dataloader):\n",
    "\n",
    "    # Set the model in evaluation mode\n",
    "    model.eval() \n",
    "\n",
    "    # In test phase, we don't need to compute gradients (for memory efficiency)\n",
    "    with torch.no_grad():\n",
    "        # initialize the total and correct number of labels to compute the accuracy\n",
    "        correct = 0\n",
    "        total = 0\n",
    "        for images, labels in eval_dataloader:\n",
    "            y_predicted = model(images)\n",
    "            _, label_predicted = torch.max(y_predicted.data, 1)\n",
    "            total += labels.size(0)\n",
    "            correct += (label_predicted == labels).sum().item()\n",
    "    \n",
    "    accuracy = 100 * correct / total\n",
    "    \n",
    "    return accuracy"
   ]
  },
  {
   "cell_type": "code",
   "execution_count": 13,
   "metadata": {
    "pycharm": {
     "name": "#%%\n"
    }
   },
   "outputs": [
    {
     "name": "stdout",
     "output_type": "stream",
     "text": [
      "Accuracy of the network on the test images:  68.0 %\n"
     ]
    }
   ],
   "source": [
    "# TO DO: Evaluate the model on the test set:\n",
    "# - instantiate the model\n",
    "# - load the trained parameters\n",
    "# - compute the test accuracy and display it\n",
    "\n",
    "model = CNNClassif(input_size_linear, num_channels1, num_channels2, num_classes)\n",
    "model.load_state_dict(torch.load('model_cnn_classif.pt'))\n",
    "accuracy = eval_cnn_classifier(model, test_dataloader)\n",
    "print('Accuracy of the network on the test images: ', accuracy, '%')"
   ]
  },
  {
   "cell_type": "markdown",
   "metadata": {
    "pycharm": {
     "name": "#%% md\n"
    }
   },
   "source": [
    "<span style=\"color:red\">**Q3**</span> What is the test accuracy?\n",
    "\n",
    "## Batch normalization\n",
    "\n",
    "When passing images to a CNN, each image might have different distribution / statistics. This causes the gradient at each batch to change a lot, and this makes the stochastic gradient descent algorithm quite unstable.\n",
    "\n",
    "To prevent from this problem, we use **batch normalization**, which basically normalizes each batch of data to a given mean / standard deviation. This makes training more stable, and usually significantly faster.\n",
    "\n",
    "Batch norm is easy to write in Pytorch (see the [doc](https://pytorch.org/docs/stable/generated/torch.nn.BatchNorm2d.html?highlight=batchnorm#torch.nn.BatchNorm2d)).\n",
    "\n",
    "**Note**: batch normalization should be only used for training, but should be disabled when testing the model. That's why we set `model.eval()` in the evaluation function."
   ]
  },
  {
   "cell_type": "code",
   "execution_count": 14,
   "metadata": {
    "pycharm": {
     "name": "#%%\n"
    }
   },
   "outputs": [],
   "source": [
    "# TO DO : rewrite the CNNClassif module, but insert BatchNorm2D in each CNN layer, between RELU and Maxpooling.\n",
    "\n",
    "class CNNClassif_bnorm(nn.Module):\n",
    "    def __init__(self, input_size_linear, num_channels1=16, num_channels2=32, num_classes=10):\n",
    "        super().__init__()\n",
    "        \n",
    "        self.cnn_layer1 = nn.Sequential(\n",
    "            nn.Conv2d(1, num_channels1, kernel_size=5, padding=2),\n",
    "            nn.ReLU(),\n",
    "            nn.BatchNorm2d(num_channels1),\n",
    "            nn.MaxPool2d(kernel_size=2))\n",
    "            \n",
    "        self.cnn_layer2 = nn.Sequential(\n",
    "            nn.Conv2d(num_channels1, num_channels2, kernel_size=5, padding=2),\n",
    "            nn.ReLU(),\n",
    "            nn.BatchNorm2d(num_channels2),\n",
    "            nn.MaxPool2d(kernel_size=2))\n",
    "        \n",
    "        self.lin_layer = nn.Linear(input_size_linear, num_classes)\n",
    "    \n",
    "    def forward(self, x):\n",
    "        \n",
    "        out = self.cnn_layer1(x)\n",
    "        out = self.cnn_layer2(out)\n",
    "        out = out.reshape(out.size(0), -1)\n",
    "        out = self.lin_layer(out)\n",
    "        \n",
    "        return out"
   ]
  },
  {
   "cell_type": "code",
   "execution_count": 15,
   "metadata": {
    "pycharm": {
     "name": "#%%\n"
    }
   },
   "outputs": [
    {
     "name": "stdout",
     "output_type": "stream",
     "text": [
      "Epoch [1/20], Loss: 2.1528\n",
      "Epoch [2/20], Loss: 0.8412\n",
      "Epoch [3/20], Loss: 0.5507\n",
      "Epoch [4/20], Loss: 0.2979\n",
      "Epoch [5/20], Loss: 0.2067\n",
      "Epoch [6/20], Loss: 0.1475\n",
      "Epoch [7/20], Loss: 0.1344\n",
      "Epoch [8/20], Loss: 0.0353\n",
      "Epoch [9/20], Loss: 0.0230\n",
      "Epoch [10/20], Loss: 0.0207\n",
      "Epoch [11/20], Loss: 0.0150\n",
      "Epoch [12/20], Loss: 0.0135\n",
      "Epoch [13/20], Loss: 0.0113\n",
      "Epoch [14/20], Loss: 0.0101\n",
      "Epoch [15/20], Loss: 0.0092\n",
      "Epoch [16/20], Loss: 0.0084\n",
      "Epoch [17/20], Loss: 0.0076\n",
      "Epoch [18/20], Loss: 0.0075\n",
      "Epoch [19/20], Loss: 0.0066\n",
      "Epoch [20/20], Loss: 0.0060\n"
     ]
    },
    {
     "data": {
      "image/png": "[encoded data removed]",
      "text/plain": [
       "<Figure size 640x480 with 1 Axes>"
      ]
     },
     "metadata": {},
     "output_type": "display_data"
    },
    {
     "name": "stdout",
     "output_type": "stream",
     "text": [
      "Accuracy of the network on the test images:  70.0 %\n"
     ]
    }
   ],
   "source": [
    "# TO DO:\n",
    "# - instantiate the model and initialize it for reproducibility\n",
    "# - train it, save the parameters, and plot the training loss\n",
    "# - evaluate it and print the test accuracy\n",
    "\n",
    "model_bn = CNNClassif_bnorm(input_size_linear, num_channels1, num_channels2, num_classes)\n",
    "torch.manual_seed(0)\n",
    "model_bn.apply(init_weights)\n",
    "\n",
    "model_bn, train_losses_bn = training_cnn_classifier(model_bn, train_dataloader, num_epochs, loss_fn, learning_rate, verbose=True)\n",
    "torch.save(model_bn.state_dict(), 'model_cnn_classif_bn.pt')\n",
    "plt.plot(train_losses_bn)\n",
    "plt.show()\n",
    "\n",
    "accuracy_bn = eval_cnn_classifier(model_bn, test_dataloader)\n",
    "print('Accuracy of the network on the test images: ', accuracy_bn, '%')"
   ]
  },
  {
   "cell_type": "markdown",
   "metadata": {
    "pycharm": {
     "name": "#%% md\n"
    }
   },
   "source": [
    "<span style=\"color:red\">**Q4**</span> In your report, provide the test accuracy of the network with batch norm. Also plot the training losses (both with and without batch norm on the same plot). What do you conclude?"
   ]
  },
  {
   "cell_type": "code",
   "execution_count": 16,
   "metadata": {
    "pycharm": {
     "name": "#%%\n"
    }
   },
   "outputs": [
    {
     "data": {
      "image/png": "[encoded data removed]",
      "text/plain": [
       "<Figure size 640x480 with 1 Axes>"
      ]
     },
     "metadata": {},
     "output_type": "display_data"
    }
   ],
   "source": [
    "plt.figure()\n",
    "plt.plot(np.arange(1, num_epochs+1), train_losses, label='without batch norm')\n",
    "plt.plot(np.arange(1, num_epochs+1), train_losses_bn, label='with batch norm')\n",
    "plt.xlabel('Epochs'), plt.ylabel('Training loss')\n",
    "plt.legend()\n",
    "plt.show()"
   ]
  },
  {
   "cell_type": "code",
   "execution_count": null,
   "metadata": {
    "pycharm": {
     "name": "#%%\n"
    }
   },
   "outputs": [],
   "source": []
  }
 ],
 "metadata": {
  "kernelspec": {
   "display_name": "Python 3 (ipykernel)",
   "language": "python",
   "name": "python3"
  },
  "language_info": {
   "codemirror_mode": {
    "name": "ipython",
    "version": 3
   },
   "file_extension": ".py",
   "mimetype": "text/x-python",
   "name": "python",
   "nbconvert_exporter": "python",
   "pygments_lexer": "ipython3",
   "version": "3.10.12"
  }
 },
 "nbformat": 4,
 "nbformat_minor": 4
}