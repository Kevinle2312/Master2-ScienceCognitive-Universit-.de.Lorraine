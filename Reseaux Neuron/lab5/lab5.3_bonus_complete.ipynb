{
 "cells": [
  {
   "cell_type": "markdown",
   "id": "0a00afea",
   "metadata": {
    "pycharm": {
     "name": "#%% md\n"
    }
   },
   "source": [
    "# MLP vs CNN (bonus)\n",
    "\n",
    "In lab 3 we have defined an MLP classifier, and in the previous script we used a CNN classifier. A natural question is: how do they compare, and which one is the best? The goal of this exercise is to answer this question, in terms of number of parameters, training behavior, and accuracy on the test set.\n",
    "\n",
    "&nbsp; \n",
    "\n",
    "<center><a href=\"https://towardsdatascience.com/simple-introduction-to-convolutional-neural-networks-cdf8d3077bac\">\n",
    "    <img src=\"https://miro.medium.com/max/700/1*1Cw9nKcdKV5YQun-e4F8gQ.png\"></a></center>"
   ]
  },
  {
   "cell_type": "code",
   "execution_count": 1,
   "id": "46070104",
   "metadata": {
    "pycharm": {
     "name": "#%%\n"
    }
   },
   "outputs": [],
   "source": [
    "import torch\n",
    "import torch.nn as nn\n",
    "from torchvision import transforms, datasets\n",
    "from torch.utils.data import DataLoader, Subset\n",
    "import numpy as np\n",
    "import matplotlib.pyplot as plt\n",
    "import copy\n",
    "\n",
    "# Define the data repository\n",
    "data_dir = 'data/'"
   ]
  },
  {
   "cell_type": "code",
   "execution_count": 2,
   "id": "7a804ae4",
   "metadata": {
    "pycharm": {
     "name": "#%%\n"
    }
   },
   "outputs": [],
   "source": [
    "# Initialization function\n",
    "def init_weights(m):\n",
    "    if isinstance(m, nn.Linear) or isinstance(m, nn.Conv2d):\n",
    "        torch.nn.init.xavier_uniform_(m.weight.data)\n",
    "        if m.bias is not None:\n",
    "            m.bias.data.fill_(0.01)\n",
    "    return"
   ]
  },
  {
   "cell_type": "code",
   "execution_count": 3,
   "id": "5c1127bf",
   "metadata": {
    "pycharm": {
     "name": "#%%\n"
    }
   },
   "outputs": [],
   "source": [
    "# Load the Fashion MNIST dataset\n",
    "train_data = datasets.FashionMNIST(data_dir, train=True, download=True, transform=transforms.ToTensor())\n",
    "test_data = datasets.FashionMNIST(data_dir, train=False, download=True, transform=transforms.ToTensor())\n",
    "num_classes = len(train_data.classes)\n",
    "\n",
    "train_data = Subset(train_data, torch.arange(500))\n",
    "test_data = Subset(test_data, torch.arange(50))\n",
    "\n",
    "# Create dataloaders\n",
    "batch_size = 8\n",
    "train_dataloader = DataLoader(train_data, shuffle=True, batch_size=batch_size)\n",
    "test_dataloader = DataLoader(test_data, batch_size=batch_size)"
   ]
  },
  {
   "cell_type": "code",
   "execution_count": 4,
   "id": "126966d2",
   "metadata": {
    "pycharm": {
     "name": "#%%\n"
    }
   },
   "outputs": [],
   "source": [
    "# TO DO: write the MLP and CNN (with batch norm) classifiers modules (you can reuse your code for the past scripts)\n",
    "\n",
    "# MLP classifier\n",
    "class MLPClassif(nn.Module):\n",
    "    def __init__(self, input_size, hidden_size, output_size, act_fn):\n",
    "        super().__init__()\n",
    "        \n",
    "        self.input_layer = nn.Sequential(nn.Linear(input_size, hidden_size), act_fn)\n",
    "        self.hidden_layer = nn.Sequential(nn.Linear(hidden_size, hidden_size), act_fn)\n",
    "        self.output_layer = nn.Linear(hidden_size, output_size)\n",
    "    \n",
    "    def forward(self, x):\n",
    "        \n",
    "        y = self.input_layer(x)\n",
    "        y = self.hidden_layer(y)\n",
    "        out = self.output_layer(y)\n",
    "        \n",
    "        return out\n",
    "\n",
    "# CNN classifier\n",
    "class CNNClassif_bnorm(nn.Module):\n",
    "    def __init__(self, num_channels1=16, num_channels2=32, num_classes=10):\n",
    "        super().__init__()\n",
    "        \n",
    "        self.cnn_layer1 = nn.Sequential(\n",
    "            nn.Conv2d(1, num_channels1, kernel_size=5, padding=2),\n",
    "            nn.ReLU(),\n",
    "            nn.BatchNorm2d(num_channels1),\n",
    "            nn.MaxPool2d(kernel_size=2))\n",
    "            \n",
    "        self.cnn_layer2 = nn.Sequential(\n",
    "            nn.Conv2d(num_channels1, num_channels2, kernel_size=5, padding=2),\n",
    "            nn.ReLU(),\n",
    "            nn.BatchNorm2d(num_channels2),\n",
    "            nn.MaxPool2d(kernel_size=2))\n",
    "        \n",
    "        self.lin_layer = nn.Linear(7*7*num_channels2, num_classes)\n",
    "        \n",
    "    def forward(self, x):\n",
    "        \n",
    "        out = self.cnn_layer1(x)\n",
    "        out = self.cnn_layer2(out)\n",
    "        out = out.reshape(out.size(0), -1)\n",
    "        out = self.lin_layer(out)\n",
    "        \n",
    "        return out"
   ]
  },
  {
   "cell_type": "code",
   "execution_count": 5,
   "id": "e1558513",
   "metadata": {
    "pycharm": {
     "name": "#%%\n"
    }
   },
   "outputs": [],
   "source": [
    "# TO DO: write the training function.\n",
    "# No need to write 2 functions (one for MLP and one for CNN), you can use the same but be careful about image vectorization.\n",
    "\n",
    "# Training function\n",
    "def training_classifier(model, train_dataloader, num_epochs, loss_fn, learning_rate, is_mlp=True, verbose=True):\n",
    "\n",
    "    # Make a copy of the model (avoid changing the model outside this function)\n",
    "    model_tr = copy.deepcopy(model)\n",
    "    \n",
    "    # Set the model in 'training' mode (ensures all parameters' gradients are computed)\n",
    "    model_tr.train()\n",
    "    \n",
    "    # define the optimizer (SGD)\n",
    "    optimizer = torch.optim.SGD(model_tr.parameters(), lr=learning_rate)\n",
    "    \n",
    "    # Initialize a list to save the training loss over epochs\n",
    "    train_losses = []\n",
    "    \n",
    "    # Training loop\n",
    "    for epoch in range(num_epochs):\n",
    "        tr_loss = 0\n",
    "        \n",
    "        for batch_index, (images, labels) in enumerate(train_dataloader):\n",
    "            \n",
    "            # vectorize images (MLP only)\n",
    "            if is_mlp:\n",
    "                images = images.reshape(images.shape[0], -1)\n",
    "            \n",
    "            # forward pass\n",
    "            y_predicted = model_tr(images)\n",
    "            loss = loss_fn(y_predicted, labels)\n",
    "\n",
    "            # backpropagation\n",
    "            optimizer.zero_grad()\n",
    "            loss.backward()\n",
    "            optimizer.step()\n",
    "            \n",
    "            # Update the current epoch loss\n",
    "            tr_loss += loss.item() * images.shape[0]\n",
    "\n",
    "        # At the end of each epoch, get the average training loss and store it\n",
    "        tr_loss = tr_loss/len(train_dataloader.dataset)\n",
    "        train_losses.append(tr_loss)\n",
    "        \n",
    "        # Display the training loss\n",
    "        if verbose:\n",
    "            print ('Epoch [{}/{}], Loss: {:.4f}'.format(epoch+1, num_epochs, tr_loss))\n",
    "        \n",
    "    return model_tr, train_losses"
   ]
  },
  {
   "cell_type": "code",
   "execution_count": 6,
   "id": "04e4e715",
   "metadata": {
    "pycharm": {
     "name": "#%%\n"
    }
   },
   "outputs": [],
   "source": [
    "# TO DO: write the evaluation function (again, no need to write 2)\n",
    "\n",
    "def eval_classifier(model, eval_dataloader, is_mlp=True, verbose=True):\n",
    "\n",
    "    # Set the model in eval mode\n",
    "    model.eval() \n",
    "\n",
    "    # In test phase, we don't need to compute gradients (for memory efficiency)\n",
    "    with torch.no_grad():\n",
    "        # initialize the total and correct number of labels to compute the accuracy\n",
    "        correct = 0\n",
    "        total = 0\n",
    "        for images, labels in eval_dataloader:\n",
    "            if is_mlp:\n",
    "                images = images.reshape(images.shape[0], -1)\n",
    "            y_predicted = model(images)\n",
    "            _, label_predicted = torch.max(y_predicted.data, 1)\n",
    "            total += labels.size(0)\n",
    "            correct += (label_predicted == labels).sum().item()\n",
    "    \n",
    "    accuracy = 100 * correct / total\n",
    "    \n",
    "    return accuracy"
   ]
  },
  {
   "cell_type": "code",
   "execution_count": 7,
   "id": "a49c09f5",
   "metadata": {
    "pycharm": {
     "name": "#%%\n"
    }
   },
   "outputs": [],
   "source": [
    "# Common parameters\n",
    "num_classes = 10\n",
    "num_epochs = 30\n",
    "loss_fn = nn.CrossEntropyLoss()\n",
    "learning_rate = 0.01\n",
    "\n",
    "# MLP\n",
    "input_size_mlp = train_data[0][0][0].shape[0]*train_data[0][0][0].shape[1]\n",
    "hidden_size_mlp = 50\n",
    "act_fn_mlp = nn.Sigmoid()\n",
    "\n",
    "# CNN\n",
    "num_channels1 = 16\n",
    "num_channels2 = 32"
   ]
  },
  {
   "cell_type": "code",
   "execution_count": 8,
   "id": "3fb1b331",
   "metadata": {
    "pycharm": {
     "name": "#%%\n"
    }
   },
   "outputs": [],
   "source": [
    "# TO DO: Instanciate, initialize and train the two models. Compute accuracy on the test set\n",
    "model_mlp = MLPClassif(input_size_mlp, hidden_size_mlp, num_classes, act_fn_mlp)\n",
    "torch.manual_seed(0)\n",
    "model_mlp.apply(init_weights)\n",
    "model_mlp, train_losses_mlp = training_classifier(model_mlp, train_dataloader, num_epochs, loss_fn, learning_rate, is_mlp=True, verbose=False)\n",
    "accuracy_mlp = eval_classifier(model_mlp, test_dataloader, is_mlp=True, verbose=True)\n",
    "\n",
    "model_cnn = CNNClassif_bnorm(num_channels1, num_channels2, num_classes)\n",
    "torch.manual_seed(0)\n",
    "model_cnn.apply(init_weights)\n",
    "model_cnn, train_losses_cnn = training_classifier(model_cnn, train_dataloader, num_epochs, loss_fn, learning_rate, is_mlp=False, verbose=False)\n",
    "accuracy_cnn = eval_classifier(model_cnn, test_dataloader, is_mlp=False, verbose=True)"
   ]
  },
  {
   "cell_type": "code",
   "execution_count": 9,
   "id": "7216b406",
   "metadata": {
    "pycharm": {
     "name": "#%%\n"
    }
   },
   "outputs": [
    {
     "name": "stdout",
     "output_type": "stream",
     "text": [
      "Total number of parameters:\n",
      "  MLP: 42310\n",
      "  CNN: 29034\n"
     ]
    },
    {
     "data": {
      "image/png": "[encoded data removed]",
      "text/plain": [
       "<Figure size 432x288 with 1 Axes>"
      ]
     },
     "metadata": {
      "needs_background": "light"
     },
     "output_type": "display_data"
    },
    {
     "name": "stdout",
     "output_type": "stream",
     "text": [
      "Test accuracy:\n",
      "   MLP :  46.0 %\n",
      "   CNN :  72.0 %\n"
     ]
    }
   ],
   "source": [
    "# TO DO: compare the MLP and CNN models\n",
    "# - print the number of parameters of each model\n",
    "# - plot the training loss\n",
    "# - display the test accuracy\n",
    "\n",
    "print('Total number of parameters:')\n",
    "print('  MLP:', sum(p.numel() for p in model_mlp.parameters()))\n",
    "print('  CNN:', sum(p.numel() for p in model_cnn.parameters()))\n",
    "\n",
    "plt.figure()\n",
    "plt.plot(np.arange(1, num_epochs+1), train_losses_mlp, label='MLP')\n",
    "plt.plot(np.arange(1, num_epochs+1), train_losses_cnn, label='CNN')\n",
    "plt.xlabel('Epochs'), plt.ylabel('Training loss')\n",
    "plt.legend()\n",
    "plt.show()\n",
    "\n",
    "print('Test accuracy:')\n",
    "print('   MLP : ', accuracy_mlp, '%')\n",
    "print('   CNN : ', accuracy_cnn, '%')"
   ]
  },
  {
   "cell_type": "markdown",
   "id": "851cba57",
   "metadata": {
    "pycharm": {
     "name": "#%% md\n"
    }
   },
   "source": [
    "<span style=\"color:red\">**Q5**</span> Put these results in your report. Which network would you recommend?"
   ]
  },
  {
   "cell_type": "code",
   "execution_count": null,
   "id": "7921f96e",
   "metadata": {
    "pycharm": {
     "name": "#%%\n"
    }
   },
   "outputs": [],
   "source": []
  }
 ],
 "metadata": {
  "kernelspec": {
   "display_name": "Python 3 (ipykernel)",
   "language": "python",
   "name": "python3"
  },
  "language_info": {
   "codemirror_mode": {
    "name": "ipython",
    "version": 3
   },
   "file_extension": ".py",
   "mimetype": "text/x-python",
   "name": "python",
   "nbconvert_exporter": "python",
   "pygments_lexer": "ipython3",
   "version": "3.10.12"
  }
 },
 "nbformat": 4,
 "nbformat_minor": 5
}