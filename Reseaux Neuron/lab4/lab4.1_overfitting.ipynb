{
 "cells": [
  {
   "cell_type": "markdown",
   "metadata": {
    "pycharm": {
     "name": "#%% md\n"
    }
   },
   "source": [
    "# An introduction to overfitting\n",
    "\n",
    "In the previous lab we have designed an MLP network for image classification, and we have trained it in a rather straightforward fashion, which in practice is a bit risky. Indeed, our model was designed and trained for minimizing the loss on the training set for a given number of epochs. As such, we might end up with a model that is very good at predicting the data from this training set, but is unable to *generalize* to unseen/new data (e.g., from the test set). This behavior is called **overfitting** and is a major problem in deep learning, wich we adress in this script.\n",
    "\n",
    "<center><a href=\"https://medium.com/geekculture/investigating-underfitting-and-overfitting-70382835e45c\">\n",
    "    <img src=\"https://miro.medium.com/max/1400/1*OeJVQ7sEvOJGxfGSCpbzyA.png\" width=\"600\"></a></center>\n",
    "    \n",
    "More specifically, we study two common sources of overfitting:\n",
    "\n",
    "- Training for too many epochs.\n",
    "- Using an over-parametrized (i.e., too large) model (this corresponds to the figure above)."
   ]
  },
  {
   "cell_type": "code",
   "execution_count": 144,
   "metadata": {
    "pycharm": {
     "name": "#%%\n"
    }
   },
   "outputs": [],
   "source": [
    "import torch \n",
    "import torchvision\n",
    "import torch.nn as nn\n",
    "import os\n",
    "os.environ['KMP_DUPLICATE_LIB_OK']='True'\n",
    "import random\n",
    "import numpy as np\n",
    "import matplotlib.pyplot as plt\n",
    "from skimage import io, transform\n",
    "from torch.utils.data import DataLoader, random_split, Subset\n",
    "import copy"
   ]
  },
  {
   "cell_type": "markdown",
   "metadata": {
    "pycharm": {
     "name": "#%% md\n"
    }
   },
   "source": [
    "## Dataset and model\n",
    "\n",
    "As in the previous lab, we work with the MNIST dataset and we use a simple 3-layer MLP. We provide the code below."
   ]
  },
  {
   "cell_type": "code",
   "execution_count": 145,
   "metadata": {
    "pycharm": {
     "name": "#%%\n"
    }
   },
   "outputs": [],
   "source": [
    "# Define the data repository\n",
    "data_dir = 'data/'\n",
    "\n",
    "# Load the MNIST training dataset (in this script we don't need the test set), and take a small subset\n",
    "data_transforms = torchvision.transforms.Compose([torchvision.transforms.ToTensor(),\n",
    "                                                  torchvision.transforms.Normalize((0.1307,), (0.3081,))])\n",
    "train_data = torchvision.datasets.MNIST(data_dir, train=True, download=True, transform=data_transforms)\n",
    "num_classes = len(train_data.classes)\n",
    "train_data = Subset(train_data, torch.arange(400))"
   ]
  },
  {
   "cell_type": "code",
   "execution_count": 146,
   "metadata": {
    "pycharm": {
     "name": "#%%\n"
    }
   },
   "outputs": [],
   "source": [
    "# MLP classifier\n",
    "class MLPClassif(nn.Module):\n",
    "    def __init__(self, input_size, hidden_size, output_size):\n",
    "        super(MLPClassif, self).__init__()\n",
    "        self.input_layer = nn.Sequential(nn.Linear(input_size, hidden_size), nn.ReLU())\n",
    "        self.hidden_layer = nn.Sequential(nn.Linear(hidden_size, hidden_size), nn.ReLU())\n",
    "        self.output_layer = nn.Linear(hidden_size, output_size)\n",
    "    \n",
    "    def forward(self, x):\n",
    "        y = self.input_layer(x)\n",
    "        y = self.hidden_layer(y)\n",
    "        out = self.output_layer(y)\n",
    "        return out\n",
    "    \n",
    "    \n",
    "# Initialization function\n",
    "def init_weights(m):\n",
    "    if isinstance(m, nn.Linear):\n",
    "        torch.nn.init.xavier_uniform_(m.weight.data)\n",
    "        if m.bias is not None:\n",
    "            m.bias.data.fill_(0.01)"
   ]
  },
  {
   "cell_type": "markdown",
   "metadata": {
    "pycharm": {
     "name": "#%% md\n"
    }
   },
   "source": [
    "## The validation set\n",
    "\n",
    "Until now, we have splitted our data into two sets: training and testing. A key ingredient in avoiding overfitting is the usage of an additional *validation* (or *development*) set. The data is then split into:\n",
    "\n",
    "- the *training set*, used to train the model's parameters.\n",
    "- the *validation set*, used to evaluate the capacity of the model to generalize to unseen data.\n",
    "- the *test set*, used to compare different baselines / methods after training.\n",
    "\n",
    "<center><a href=\"https://www.v7labs.com/blog/train-validation-test-set\">\n",
    "    <img src=\"https://assets-global.website-files.com/5d7b77b063a9066d83e1209c/61568656a13218cdde7f6166_training-data-validation-test.png\" width=\"400\"></a></center>"
   ]
  },
  {
   "cell_type": "code",
   "execution_count": 147,
   "metadata": {
    "pycharm": {
     "name": "#%%\n"
    }
   },
   "outputs": [
    {
     "name": "stdout",
     "output_type": "stream",
     "text": [
      "320 80\n"
     ]
    }
   ],
   "source": [
    "# Define the validation set by splitting the training data into 2 subsets (80% training and 20% validation)\n",
    "n_train_examples = int(len(train_data)*0.8)\n",
    "n_valid_examples = len(train_data) - n_train_examples\n",
    "torch.manual_seed(0)\n",
    "train_data, valid_data = random_split(train_data, [n_train_examples, n_valid_examples])\n",
    "print(len(train_data), len(valid_data))\n",
    "\n",
    "# Create the corresponding dataloaders\n",
    "batch_size = 8\n",
    "train_dataloader = DataLoader(train_data, shuffle=True, batch_size=batch_size)\n",
    "valid_dataloader = DataLoader(valid_data, batch_size=batch_size)"
   ]
  },
  {
   "cell_type": "markdown",
   "metadata": {
    "pycharm": {
     "name": "#%% md\n"
    }
   },
   "source": [
    "## Training with validation\n",
    "\n",
    "A first simple approach to avoid overfitting is to monitor the performance of the model on the validation set over epochs when training. At each epoch we compute the loss on the validation set, and check how it behaves: if the validation loss decreases, then we can continue training. Conversely, if the validation loss increases, it means the model has overfitted, so we need to stop training. Here, we run training with a specified maximum number of epochs, and we save the model yielding the lowest validation loss as the optimal/best one.\n",
    "\n",
    "<center><a href=\"https://theaisummer.com/regularization/\">\n",
    "    <img src=\"https://theaisummer.com/static/7a6353ed78b045f32e4ac39b0b4d66d2/a878e/early-stopping.png\" width=\"400\"></a></center>\n",
    "    \n",
    "\n",
    "**Note**: In practice, instead of computing the validation *loss/error* (which ideally should decrease), we can compute the validation *accuracy* (which ideally should increase). The concept is the same, but it is usually better to use a validation metric that is as close as possible or equal to the test metric (here: accuracy)."
   ]
  },
  {
   "cell_type": "code",
   "execution_count": 148,
   "metadata": {
    "pycharm": {
     "name": "#%%\n"
    }
   },
   "outputs": [],
   "source": [
    "# Evaluation function\n",
    "def eval_mlp_classifier(model, eval_dataloader):\n",
    "    \n",
    "    # Set the model in 'evaluation' mode (this disables some layers (batch norm, dropout...) which are not needed when testing)\n",
    "    model.eval() \n",
    "\n",
    "    # In evaluation phase, we don't need to compute gradients (for memory efficiency)\n",
    "    with torch.no_grad():\n",
    "        # initialize the total and correct number of labels to compute the accuracy\n",
    "        correct_labels = 0\n",
    "        total_labels = 0\n",
    "        \n",
    "        # Iterate over the dataset using the dataloader\n",
    "        for images, labels in eval_dataloader:\n",
    "\n",
    "            # Get the predicted labels\n",
    "            images = images.reshape(images.shape[0], -1)\n",
    "            y_predicted = model(images)\n",
    "            \n",
    "            # To get the predicted labels, we need to get the max over all possible classes\n",
    "            _, label_predicted = torch.max(y_predicted.data, 1)\n",
    "            \n",
    "            # Compute accuracy: count the total number of samples, and the correct labels (compare the true and predicted labels)\n",
    "            total_labels += labels.size(0)\n",
    "            correct_labels += (label_predicted == labels).sum().item()\n",
    "    \n",
    "    accuracy = 100 * correct_labels / total_labels\n",
    "    \n",
    "    return accuracy"
   ]
  },
  {
   "cell_type": "markdown",
   "metadata": {
    "pycharm": {
     "name": "#%% md\n"
    }
   },
   "source": [
    "The training function is very similar to what we did in the previous lab, so feel free to reuse it. There are two main differences:\n",
    "\n",
    "- Instead of SGD, we we use the [Adam](https://pytorch.org/docs/stable/generated/torch.optim.Adam.html) optimizer, which is a more efficient algorithm (the pytorch code is very similar though: you just need to provide the model's parameters and the learning rate).\n",
    "- At the end of each epoch, compute the accuracy on the validation set (use the provided eval function): if the accuracy is increasing, then store the current model as the optimal one."
   ]
  },
  {
   "cell_type": "code",
   "execution_count": 149,
   "metadata": {
    "pycharm": {
     "name": "#%%\n"
    }
   },
   "outputs": [],
   "source": [
    "def train_val_mlp_classifier(model, train_dataloader, valid_dataloader, num_epochs, loss_fn, learning_rate, verbose=True):\n",
    "\n",
    "    # Make a copy of the model (avoid changing the model outside this function)\n",
    "    model_tr = copy.deepcopy(model)\n",
    "\n",
    "    # Set the model in 'training' mode (ensures all parameters' gradients are computed - it's like setting 'requires_grad=True' for all parameters)\n",
    "    model_tr.train()\n",
    "\n",
    "    # Define the optimizer\n",
    "    optimizer = torch.optim.Adam(model_tr.parameters(), lr=learning_rate) # USE THE ADAM OPTIMIZER\n",
    "\n",
    "    # Initialize a list for storing the training loss over epochs\n",
    "    train_losses = []\n",
    "\n",
    "    acc =[]\n",
    "\n",
    "    # Initialize variables to keep track of the best model and best validation loss\n",
    "    best_model = None\n",
    "    best_acc = 0 # WHY START AT INF INSTEAD OF 0 ?\n",
    "\n",
    "    # Training loop\n",
    "    for epoch in range(num_epochs):\n",
    "\n",
    "        # Initialize the training loss for the current epoch\n",
    "        tr_loss = 0\n",
    "\n",
    "        # Iterate over batches using the dataloader\n",
    "        for batch_index, (images, labels) in enumerate(train_dataloader):\n",
    "\n",
    "            # TO DO: write the training procedure for each batch. This should consist of:\n",
    "            # - vectorizing the images (size should be (batch_size, input_size))\n",
    "            # - calculate the predicted labels from the vectorized images using 'model_tr'\n",
    "            # - using loss_fn, calculate the 'loss' between the predicted and true labels\n",
    "            # - set the optimizer gradients at 0 for safety\n",
    "            # - compute the gradients (use the 'backward' method on 'loss')\n",
    "            # - apply the gradient descent algorithm (perform a step of the optimizer)\n",
    "\n",
    "            # Prepare the inputs and labels\n",
    "            images = images.reshape(len(images), -1)\n",
    "\n",
    "            # Forward pass\n",
    "            labels_predicted = model_tr(images)\n",
    "            loss = loss_fn(labels_predicted, labels)\n",
    "\n",
    "            # Backpropagation\n",
    "            optimizer.zero_grad()\n",
    "            loss.backward()\n",
    "            optimizer.step()\n",
    "\n",
    "            # Update the current epoch loss\n",
    "            # Note that 'loss.item()' is the loss averaged over the batch, so multiply it with the current batch size to get the total batch loss\n",
    "            tr_loss += loss.item() * 8\n",
    "\n",
    "        # At the end of each epoch, get the average training loss and store it\n",
    "        tr_loss = tr_loss/len(train_dataloader.dataset)\n",
    "        train_losses.append(tr_loss)\n",
    "\n",
    "        # At the end of each epoch, get the accuracy and store it\n",
    "        evalIJS = eval_mlp_classifier(model_tr,valid_dataloader)\n",
    "        acc.append(evalIJS)\n",
    "\n",
    "        # If the current model has a lower validation loss, update the best model\n",
    "        if evalIJS > best_acc:\n",
    "            best_acc = evalIJS\n",
    "            best_model = copy.deepcopy(model_tr)\n",
    "\n",
    "\n",
    "        if verbose:\n",
    "            print('Epoch [{}/{}], Training loss: {:.4f}, Accuracy: {:.4f}'.format(epoch+1, num_epochs, tr_loss, evalIJS))\n",
    "\n",
    "    return best_model, train_losses, acc"
   ]
  },
  {
   "cell_type": "code",
   "execution_count": 150,
   "metadata": {
    "pycharm": {
     "name": "#%%\n"
    }
   },
   "outputs": [
    {
     "name": "stdout",
     "output_type": "stream",
     "text": [
      "Epoch [1/50], Training loss: 1.8052, Accuracy: 62.5000\n",
      "Epoch [2/50], Training loss: 0.8184, Accuracy: 82.5000\n",
      "Epoch [3/50], Training loss: 0.4151, Accuracy: 80.0000\n",
      "Epoch [4/50], Training loss: 0.2439, Accuracy: 83.7500\n",
      "Epoch [5/50], Training loss: 0.1672, Accuracy: 88.7500\n",
      "Epoch [6/50], Training loss: 0.1021, Accuracy: 87.5000\n",
      "Epoch [7/50], Training loss: 0.0630, Accuracy: 88.7500\n",
      "Epoch [8/50], Training loss: 0.0473, Accuracy: 88.7500\n",
      "Epoch [9/50], Training loss: 0.0344, Accuracy: 87.5000\n",
      "Epoch [10/50], Training loss: 0.0269, Accuracy: 88.7500\n",
      "Epoch [11/50], Training loss: 0.0215, Accuracy: 88.7500\n",
      "Epoch [12/50], Training loss: 0.0166, Accuracy: 88.7500\n",
      "Epoch [13/50], Training loss: 0.0136, Accuracy: 88.7500\n",
      "Epoch [14/50], Training loss: 0.0117, Accuracy: 88.7500\n",
      "Epoch [15/50], Training loss: 0.0102, Accuracy: 88.7500\n",
      "Epoch [16/50], Training loss: 0.0089, Accuracy: 88.7500\n",
      "Epoch [17/50], Training loss: 0.0077, Accuracy: 88.7500\n",
      "Epoch [18/50], Training loss: 0.0067, Accuracy: 88.7500\n",
      "Epoch [19/50], Training loss: 0.0061, Accuracy: 88.7500\n",
      "Epoch [20/50], Training loss: 0.0054, Accuracy: 88.7500\n",
      "Epoch [21/50], Training loss: 0.0049, Accuracy: 88.7500\n",
      "Epoch [22/50], Training loss: 0.0045, Accuracy: 88.7500\n",
      "Epoch [23/50], Training loss: 0.0040, Accuracy: 88.7500\n",
      "Epoch [24/50], Training loss: 0.0037, Accuracy: 88.7500\n",
      "Epoch [25/50], Training loss: 0.0034, Accuracy: 88.7500\n",
      "Epoch [26/50], Training loss: 0.0031, Accuracy: 88.7500\n",
      "Epoch [27/50], Training loss: 0.0029, Accuracy: 88.7500\n",
      "Epoch [28/50], Training loss: 0.0027, Accuracy: 88.7500\n",
      "Epoch [29/50], Training loss: 0.0024, Accuracy: 88.7500\n",
      "Epoch [30/50], Training loss: 0.0023, Accuracy: 88.7500\n",
      "Epoch [31/50], Training loss: 0.0021, Accuracy: 88.7500\n",
      "Epoch [32/50], Training loss: 0.0020, Accuracy: 88.7500\n",
      "Epoch [33/50], Training loss: 0.0019, Accuracy: 88.7500\n",
      "Epoch [34/50], Training loss: 0.0017, Accuracy: 88.7500\n",
      "Epoch [35/50], Training loss: 0.0016, Accuracy: 88.7500\n",
      "Epoch [36/50], Training loss: 0.0015, Accuracy: 88.7500\n",
      "Epoch [37/50], Training loss: 0.0015, Accuracy: 88.7500\n",
      "Epoch [38/50], Training loss: 0.0014, Accuracy: 88.7500\n",
      "Epoch [39/50], Training loss: 0.0013, Accuracy: 88.7500\n",
      "Epoch [40/50], Training loss: 0.0012, Accuracy: 88.7500\n",
      "Epoch [41/50], Training loss: 0.0012, Accuracy: 88.7500\n",
      "Epoch [42/50], Training loss: 0.0011, Accuracy: 88.7500\n",
      "Epoch [43/50], Training loss: 0.0010, Accuracy: 88.7500\n",
      "Epoch [44/50], Training loss: 0.0010, Accuracy: 88.7500\n",
      "Epoch [45/50], Training loss: 0.0009, Accuracy: 88.7500\n",
      "Epoch [46/50], Training loss: 0.0009, Accuracy: 88.7500\n",
      "Epoch [47/50], Training loss: 0.0009, Accuracy: 88.7500\n",
      "Epoch [48/50], Training loss: 0.0008, Accuracy: 88.7500\n",
      "Epoch [49/50], Training loss: 0.0008, Accuracy: 88.7500\n",
      "Epoch [50/50], Training loss: 0.0007, Accuracy: 88.7500\n"
     ]
    }
   ],
   "source": [
    "# Instanciate the network and initialize the parameters for reproducibility\n",
    "input_size = train_data[0][0][0].shape[0]*train_data[0][0][0].shape[1]\n",
    "hidden_size = 32\n",
    "output_size = num_classes\n",
    "model = MLPClassif(input_size, hidden_size, output_size)\n",
    "torch.manual_seed(0)\n",
    "model.apply(init_weights)\n",
    "\n",
    "# Training\n",
    "loss_fn = nn.CrossEntropyLoss()\n",
    "num_epochs = 50\n",
    "learning_rate = 0.001\n",
    "model_opt, train_losses, val_accuracies = train_val_mlp_classifier(model, train_dataloader, valid_dataloader, num_epochs, loss_fn, learning_rate)"
   ]
  },
  {
   "cell_type": "code",
   "execution_count": 151,
   "metadata": {
    "pycharm": {
     "name": "#%%\n"
    }
   },
   "outputs": [
    {
     "data": {
      "text/plain": "<Figure size 800x600 with 2 Axes>",
      "image/png": "[encoded data removed]"
     },
     "metadata": {},
     "output_type": "display_data"
    }
   ],
   "source": [
    "# TO DO: plot the training loss and validation accuracy (on two different subplots)\n",
    "# Create a single figure with two subplots\n",
    "fig, (ax1, ax2) = plt.subplots(2, 1, figsize=(8, 6))\n",
    "\n",
    "# Plot the first graph on the first subplot\n",
    "ax1.plot(train_losses)\n",
    "ax1.set_xlabel('Epochs')\n",
    "ax1.set_ylabel('Loss')\n",
    "ax1.set_title('Train Losses')\n",
    "\n",
    "# Plot the second graph on the second subplot\n",
    "ax2.plot(val_accuracies)\n",
    "ax2.set_xlabel('Epochs')\n",
    "ax2.set_ylabel('Accuracy')\n",
    "ax2.set_title('Validation Accuracies')\n",
    "\n",
    "# Adjust spacing between subplots\n",
    "plt.tight_layout()\n",
    "\n",
    "# Show the combined graph\n",
    "plt.show()"
   ]
  },
  {
   "cell_type": "markdown",
   "metadata": {
    "pycharm": {
     "name": "#%% md\n"
    }
   },
   "source": [
    "<span style=\"color:red\">**Q1**</span> Put the plot above (training loss and validation accuracy) in your report. What do you remark? Is it beneficial to monitor the validation accuracy?\n",
    "\n",
    "**Note**: We conducted training for all epochs, and we simply recorded the best performing model. Proper early stopping would mean that we interrupt training when no improvement is observed after the best validation loss has been obtained (this number of epochs is called a *patience* parameter, since it corresponds to the \"waiting time\" after the best validation score is obtained).\n",
    "This allows to reduce the computational time in addition to yielding the best model.\n",
    "\n",
    "\n",
    "## Adjusting the model's capacity\n",
    "\n",
    "The number of parameters in the network (i.e., the model's *capacity*) is expected to have a major impact on performance. Too few parameters might yield bad performance (underfitting), while too many might hamper the ability of the network to generalize (overfitting).\n",
    "\n",
    "\n",
    "<center><a href=\"https://classic.d2l.ai/chapter_multilayer-perceptrons/underfit-overfit.html\">\n",
    "    <img src=\"https://classic.d2l.ai/_images/capacity-vs-error.svg\" width=\"400\"></a></center>\n",
    "    \n",
    "\n",
    "Here, we study it by varying the number of hidden layers and checking how the validation accuracy behaves.\n",
    "\n",
    "Below we consider a general classifier module, where the number of hidden layers is passed as an input parameter. To create and stack together several layers, we can use the [ModuleList](https://pytorch.org/docs/stable/generated/torch.nn.ModuleList.html) object, along with a simple loop."
   ]
  },
  {
   "cell_type": "code",
   "execution_count": 152,
   "metadata": {
    "pycharm": {
     "name": "#%%\n"
    }
   },
   "outputs": [
    {
     "name": "stdout",
     "output_type": "stream",
     "text": [
      "ModuleList(\n",
      "  (0): Sequential(\n",
      "    (0): Linear(in_features=10, out_features=10, bias=True)\n",
      "    (1): ReLU()\n",
      "  )\n",
      "  (1): Sequential(\n",
      "    (0): Linear(in_features=10, out_features=10, bias=True)\n",
      "    (1): ReLU()\n",
      "  )\n",
      "  (2): Sequential(\n",
      "    (0): Linear(in_features=10, out_features=10, bias=True)\n",
      "    (1): ReLU()\n",
      "  )\n",
      "  (3): Sequential(\n",
      "    (0): Linear(in_features=10, out_features=10, bias=True)\n",
      "    (1): ReLU()\n",
      "  )\n",
      "  (4): Sequential(\n",
      "    (0): Linear(in_features=10, out_features=10, bias=True)\n",
      "    (1): ReLU()\n",
      "  )\n",
      ")\n"
     ]
    }
   ],
   "source": [
    "# On this example, we stack 5 {Linear + Relu} layers\n",
    "list_layer = nn.ModuleList([nn.Sequential(nn.Linear(10, 10), nn.ReLU()) for l in range(5)])\n",
    "print(list_layer)"
   ]
  },
  {
   "cell_type": "code",
   "execution_count": 153,
   "metadata": {
    "pycharm": {
     "name": "#%%\n"
    }
   },
   "outputs": [],
   "source": [
    "# TO DO: write the MLP classifier class ('__init__' and 'forward' methods) with a variable number of hidden layers.\n",
    "class MLPClassifVAR(nn.Module):\n",
    "    def __init__(self, input_size, hidden_size, output_size, hidden_layer_num):\n",
    "        super(MLPClassifVAR, self).__init__()\n",
    "        self.input_layer = nn.Sequential(nn.Linear(input_size, hidden_size), nn.ReLU())\n",
    "        self.list_layer = nn.ModuleList([nn.Sequential(nn.Linear(hidden_size, hidden_size), nn.ReLU()) for l in range(hidden_layer_num)])\n",
    "        self.output_layer = nn.Linear(hidden_size, output_size)\n",
    "        self.hidden_layer_num = hidden_layer_num\n",
    "\n",
    "    def forward(self, x):\n",
    "        y = self.input_layer(x)\n",
    "        # for k in range(self.hidden_layer_num):\n",
    "        #    y = self.list_layer[k](y)\n",
    "        for layer in self.list_layer:\n",
    "            y = layer(y)\n",
    "        out = self.output_layer(y)\n",
    "        return out\n",
    "\n",
    "    def get_layer(self, layer_idx):\n",
    "        if layer_idx == 0:\n",
    "            return self.input_layer\n",
    "        elif 0 < layer_idx <= self.hidden_layer_num:\n",
    "            return self.list_layer[layer_idx - 1]\n",
    "        elif layer_idx == self.hidden_layer_num + 1:\n",
    "            return self.output_layer\n",
    "        else:\n",
    "            raise IndexError(\"Layer index out of range\")"
   ]
  },
  {
   "cell_type": "code",
   "execution_count": 154,
   "metadata": {
    "pycharm": {
     "name": "#%%\n"
    }
   },
   "outputs": [
    {
     "name": "stdout",
     "output_type": "stream",
     "text": [
      "Epoch [1/50], Training loss: 1.8052, Accuracy: 62.5000\n",
      "Epoch [2/50], Training loss: 0.8184, Accuracy: 82.5000\n",
      "Epoch [3/50], Training loss: 0.4151, Accuracy: 80.0000\n",
      "Epoch [4/50], Training loss: 0.2439, Accuracy: 83.7500\n",
      "Epoch [5/50], Training loss: 0.1672, Accuracy: 88.7500\n",
      "Epoch [6/50], Training loss: 0.1021, Accuracy: 87.5000\n",
      "Epoch [7/50], Training loss: 0.0630, Accuracy: 88.7500\n",
      "Epoch [8/50], Training loss: 0.0473, Accuracy: 88.7500\n",
      "Epoch [9/50], Training loss: 0.0344, Accuracy: 87.5000\n",
      "Epoch [10/50], Training loss: 0.0269, Accuracy: 88.7500\n",
      "Epoch [11/50], Training loss: 0.0215, Accuracy: 88.7500\n",
      "Epoch [12/50], Training loss: 0.0166, Accuracy: 88.7500\n",
      "Epoch [13/50], Training loss: 0.0136, Accuracy: 88.7500\n",
      "Epoch [14/50], Training loss: 0.0117, Accuracy: 88.7500\n",
      "Epoch [15/50], Training loss: 0.0102, Accuracy: 88.7500\n",
      "Epoch [16/50], Training loss: 0.0089, Accuracy: 88.7500\n",
      "Epoch [17/50], Training loss: 0.0077, Accuracy: 88.7500\n",
      "Epoch [18/50], Training loss: 0.0067, Accuracy: 88.7500\n",
      "Epoch [19/50], Training loss: 0.0061, Accuracy: 88.7500\n",
      "Epoch [20/50], Training loss: 0.0054, Accuracy: 88.7500\n",
      "Epoch [21/50], Training loss: 0.0049, Accuracy: 88.7500\n",
      "Epoch [22/50], Training loss: 0.0045, Accuracy: 88.7500\n",
      "Epoch [23/50], Training loss: 0.0040, Accuracy: 88.7500\n",
      "Epoch [24/50], Training loss: 0.0037, Accuracy: 88.7500\n",
      "Epoch [25/50], Training loss: 0.0034, Accuracy: 88.7500\n",
      "Epoch [26/50], Training loss: 0.0031, Accuracy: 88.7500\n",
      "Epoch [27/50], Training loss: 0.0029, Accuracy: 88.7500\n",
      "Epoch [28/50], Training loss: 0.0027, Accuracy: 88.7500\n",
      "Epoch [29/50], Training loss: 0.0024, Accuracy: 88.7500\n",
      "Epoch [30/50], Training loss: 0.0023, Accuracy: 88.7500\n",
      "Epoch [31/50], Training loss: 0.0021, Accuracy: 88.7500\n",
      "Epoch [32/50], Training loss: 0.0020, Accuracy: 88.7500\n",
      "Epoch [33/50], Training loss: 0.0019, Accuracy: 88.7500\n",
      "Epoch [34/50], Training loss: 0.0017, Accuracy: 88.7500\n",
      "Epoch [35/50], Training loss: 0.0016, Accuracy: 88.7500\n",
      "Epoch [36/50], Training loss: 0.0015, Accuracy: 88.7500\n",
      "Epoch [37/50], Training loss: 0.0015, Accuracy: 88.7500\n",
      "Epoch [38/50], Training loss: 0.0014, Accuracy: 88.7500\n",
      "Epoch [39/50], Training loss: 0.0013, Accuracy: 88.7500\n",
      "Epoch [40/50], Training loss: 0.0012, Accuracy: 88.7500\n",
      "Epoch [41/50], Training loss: 0.0012, Accuracy: 88.7500\n",
      "Epoch [42/50], Training loss: 0.0011, Accuracy: 88.7500\n",
      "Epoch [43/50], Training loss: 0.0010, Accuracy: 88.7500\n",
      "Epoch [44/50], Training loss: 0.0010, Accuracy: 88.7500\n",
      "Epoch [45/50], Training loss: 0.0009, Accuracy: 88.7500\n",
      "Epoch [46/50], Training loss: 0.0009, Accuracy: 88.7500\n",
      "Epoch [47/50], Training loss: 0.0009, Accuracy: 88.7500\n",
      "Epoch [48/50], Training loss: 0.0008, Accuracy: 88.7500\n",
      "Epoch [49/50], Training loss: 0.0008, Accuracy: 88.7500\n",
      "Epoch [50/50], Training loss: 0.0007, Accuracy: 88.7500\n",
      "Epoch [1/50], Training loss: 2.0529, Accuracy: 45.0000\n",
      "Epoch [2/50], Training loss: 1.1783, Accuracy: 77.5000\n",
      "Epoch [3/50], Training loss: 0.6469, Accuracy: 76.2500\n",
      "Epoch [4/50], Training loss: 0.4063, Accuracy: 82.5000\n",
      "Epoch [5/50], Training loss: 0.2406, Accuracy: 85.0000\n",
      "Epoch [6/50], Training loss: 0.1436, Accuracy: 85.0000\n",
      "Epoch [7/50], Training loss: 0.0838, Accuracy: 85.0000\n",
      "Epoch [8/50], Training loss: 0.0583, Accuracy: 85.0000\n",
      "Epoch [9/50], Training loss: 0.0476, Accuracy: 90.0000\n",
      "Epoch [10/50], Training loss: 0.0266, Accuracy: 88.7500\n",
      "Epoch [11/50], Training loss: 0.0193, Accuracy: 87.5000\n",
      "Epoch [12/50], Training loss: 0.0104, Accuracy: 90.0000\n",
      "Epoch [13/50], Training loss: 0.0076, Accuracy: 90.0000\n",
      "Epoch [14/50], Training loss: 0.0058, Accuracy: 88.7500\n",
      "Epoch [15/50], Training loss: 0.0048, Accuracy: 88.7500\n",
      "Epoch [16/50], Training loss: 0.0040, Accuracy: 90.0000\n",
      "Epoch [17/50], Training loss: 0.0035, Accuracy: 88.7500\n",
      "Epoch [18/50], Training loss: 0.0030, Accuracy: 88.7500\n",
      "Epoch [19/50], Training loss: 0.0026, Accuracy: 90.0000\n",
      "Epoch [20/50], Training loss: 0.0024, Accuracy: 88.7500\n",
      "Epoch [21/50], Training loss: 0.0022, Accuracy: 90.0000\n",
      "Epoch [22/50], Training loss: 0.0019, Accuracy: 90.0000\n",
      "Epoch [23/50], Training loss: 0.0017, Accuracy: 88.7500\n",
      "Epoch [24/50], Training loss: 0.0016, Accuracy: 90.0000\n",
      "Epoch [25/50], Training loss: 0.0014, Accuracy: 90.0000\n",
      "Epoch [26/50], Training loss: 0.0013, Accuracy: 90.0000\n",
      "Epoch [27/50], Training loss: 0.0012, Accuracy: 90.0000\n",
      "Epoch [28/50], Training loss: 0.0011, Accuracy: 90.0000\n",
      "Epoch [29/50], Training loss: 0.0011, Accuracy: 90.0000\n",
      "Epoch [30/50], Training loss: 0.0010, Accuracy: 90.0000\n",
      "Epoch [31/50], Training loss: 0.0009, Accuracy: 90.0000\n",
      "Epoch [32/50], Training loss: 0.0008, Accuracy: 90.0000\n",
      "Epoch [33/50], Training loss: 0.0008, Accuracy: 90.0000\n",
      "Epoch [34/50], Training loss: 0.0007, Accuracy: 90.0000\n",
      "Epoch [35/50], Training loss: 0.0007, Accuracy: 90.0000\n",
      "Epoch [36/50], Training loss: 0.0006, Accuracy: 90.0000\n",
      "Epoch [37/50], Training loss: 0.0006, Accuracy: 90.0000\n",
      "Epoch [38/50], Training loss: 0.0006, Accuracy: 90.0000\n",
      "Epoch [39/50], Training loss: 0.0005, Accuracy: 90.0000\n",
      "Epoch [40/50], Training loss: 0.0005, Accuracy: 90.0000\n",
      "Epoch [41/50], Training loss: 0.0005, Accuracy: 90.0000\n",
      "Epoch [42/50], Training loss: 0.0004, Accuracy: 90.0000\n",
      "Epoch [43/50], Training loss: 0.0004, Accuracy: 90.0000\n",
      "Epoch [44/50], Training loss: 0.0004, Accuracy: 90.0000\n",
      "Epoch [45/50], Training loss: 0.0004, Accuracy: 90.0000\n",
      "Epoch [46/50], Training loss: 0.0004, Accuracy: 88.7500\n",
      "Epoch [47/50], Training loss: 0.0003, Accuracy: 90.0000\n",
      "Epoch [48/50], Training loss: 0.0003, Accuracy: 88.7500\n",
      "Epoch [49/50], Training loss: 0.0003, Accuracy: 88.7500\n",
      "Epoch [50/50], Training loss: 0.0003, Accuracy: 88.7500\n",
      "Epoch [1/50], Training loss: 2.2359, Accuracy: 36.2500\n",
      "Epoch [2/50], Training loss: 1.5586, Accuracy: 60.0000\n",
      "Epoch [3/50], Training loss: 0.9306, Accuracy: 66.2500\n",
      "Epoch [4/50], Training loss: 0.5790, Accuracy: 78.7500\n",
      "Epoch [5/50], Training loss: 0.3320, Accuracy: 75.0000\n",
      "Epoch [6/50], Training loss: 0.2512, Accuracy: 78.7500\n",
      "Epoch [7/50], Training loss: 0.1697, Accuracy: 78.7500\n",
      "Epoch [8/50], Training loss: 0.1217, Accuracy: 80.0000\n",
      "Epoch [9/50], Training loss: 0.0813, Accuracy: 78.7500\n",
      "Epoch [10/50], Training loss: 0.0702, Accuracy: 85.0000\n",
      "Epoch [11/50], Training loss: 0.0317, Accuracy: 78.7500\n",
      "Epoch [12/50], Training loss: 0.0203, Accuracy: 83.7500\n",
      "Epoch [13/50], Training loss: 0.0086, Accuracy: 82.5000\n",
      "Epoch [14/50], Training loss: 0.0048, Accuracy: 82.5000\n",
      "Epoch [15/50], Training loss: 0.0037, Accuracy: 82.5000\n",
      "Epoch [16/50], Training loss: 0.0031, Accuracy: 81.2500\n",
      "Epoch [17/50], Training loss: 0.0027, Accuracy: 82.5000\n",
      "Epoch [18/50], Training loss: 0.0022, Accuracy: 82.5000\n",
      "Epoch [19/50], Training loss: 0.0019, Accuracy: 82.5000\n",
      "Epoch [20/50], Training loss: 0.0017, Accuracy: 81.2500\n",
      "Epoch [21/50], Training loss: 0.0015, Accuracy: 82.5000\n",
      "Epoch [22/50], Training loss: 0.0014, Accuracy: 81.2500\n",
      "Epoch [23/50], Training loss: 0.0012, Accuracy: 80.0000\n",
      "Epoch [24/50], Training loss: 0.0011, Accuracy: 80.0000\n",
      "Epoch [25/50], Training loss: 0.0010, Accuracy: 80.0000\n",
      "Epoch [26/50], Training loss: 0.0010, Accuracy: 80.0000\n",
      "Epoch [27/50], Training loss: 0.0009, Accuracy: 80.0000\n",
      "Epoch [28/50], Training loss: 0.0008, Accuracy: 80.0000\n",
      "Epoch [29/50], Training loss: 0.0007, Accuracy: 80.0000\n",
      "Epoch [30/50], Training loss: 0.0007, Accuracy: 80.0000\n",
      "Epoch [31/50], Training loss: 0.0006, Accuracy: 80.0000\n",
      "Epoch [32/50], Training loss: 0.0006, Accuracy: 80.0000\n",
      "Epoch [33/50], Training loss: 0.0006, Accuracy: 80.0000\n",
      "Epoch [34/50], Training loss: 0.0005, Accuracy: 80.0000\n",
      "Epoch [35/50], Training loss: 0.0005, Accuracy: 80.0000\n",
      "Epoch [36/50], Training loss: 0.0005, Accuracy: 80.0000\n",
      "Epoch [37/50], Training loss: 0.0004, Accuracy: 80.0000\n",
      "Epoch [38/50], Training loss: 0.0004, Accuracy: 80.0000\n",
      "Epoch [39/50], Training loss: 0.0004, Accuracy: 80.0000\n",
      "Epoch [40/50], Training loss: 0.0004, Accuracy: 80.0000\n",
      "Epoch [41/50], Training loss: 0.0003, Accuracy: 80.0000\n",
      "Epoch [42/50], Training loss: 0.0003, Accuracy: 81.2500\n",
      "Epoch [43/50], Training loss: 0.0003, Accuracy: 80.0000\n",
      "Epoch [44/50], Training loss: 0.0003, Accuracy: 81.2500\n",
      "Epoch [45/50], Training loss: 0.0003, Accuracy: 80.0000\n",
      "Epoch [46/50], Training loss: 0.0003, Accuracy: 81.2500\n",
      "Epoch [47/50], Training loss: 0.0003, Accuracy: 81.2500\n",
      "Epoch [48/50], Training loss: 0.0002, Accuracy: 81.2500\n",
      "Epoch [49/50], Training loss: 0.0002, Accuracy: 81.2500\n",
      "Epoch [50/50], Training loss: 0.0002, Accuracy: 81.2500\n",
      "[88.75, 90.0, 85.0]\n"
     ]
    }
   ],
   "source": [
    "# TO DO:\n",
    "# - Define the general parameters of the MLP classifier model and training (same as before)\n",
    "# Instanciate the network and initialize the parameters for reproducibility\n",
    "input_size = train_data[0][0][0].shape[0]*train_data[0][0][0].shape[1]\n",
    "hidden_size = 32\n",
    "loss_fn = nn.CrossEntropyLoss()\n",
    "num_epochs = 50\n",
    "learning_rate = 0.001\n",
    "output_size = num_classes\n",
    "hidden_layer_num = [1,3,5]\n",
    "max_accuracy = []\n",
    "for hidden_layer_member in hidden_layer_num:\n",
    "    model = MLPClassifVAR(input_size, hidden_size, output_size, hidden_layer_member)\n",
    "    torch.manual_seed(0)\n",
    "    model.apply(init_weights)\n",
    "    # Training\n",
    "    model_opt, train_losses, val_accuracies = train_val_mlp_classifier(model, train_dataloader, valid_dataloader, num_epochs, loss_fn, learning_rate)\n",
    "\n",
    "    # Find the maximum accuracy value\n",
    "    max_accuracy.append(max(val_accuracies))\n",
    "\n",
    "print(max_accuracy)\n",
    "\n",
    "\n",
    "\n",
    "# - For a number of hidden layers equal to 1, 3, and 5:\n",
    "#      - Instanciate a model (remember to initialize the weights to ensure reproducibility)\n",
    "#      - Train the model\n",
    "#      - Get the maximum validation accuracy\n",
    "# - Plot the max accuracy as a function of the number of hidden layers\n"
   ]
  },
  {
   "cell_type": "code",
   "execution_count": 155,
   "outputs": [
    {
     "data": {
      "text/plain": "[<matplotlib.lines.Line2D at 0x1ce3bf80be0>]"
     },
     "execution_count": 155,
     "metadata": {},
     "output_type": "execute_result"
    },
    {
     "data": {
      "text/plain": "<Figure size 640x480 with 1 Axes>",
      "image/png": "[encoded data removed]"
     },
     "metadata": {},
     "output_type": "display_data"
    }
   ],
   "source": [
    "plt.plot(max_accuracy)"
   ],
   "metadata": {
    "collapsed": false,
    "pycharm": {
     "name": "#%%\n"
    }
   }
  },
  {
   "cell_type": "markdown",
   "metadata": {
    "pycharm": {
     "name": "#%% md\n"
    }
   },
   "source": [
    "<span style=\"color:red\">**Q2**</span> Put the plot above (test accuracy as a function of number of hidden layers) in your report. What do you observe? What's the best model / number of hidden layers to use?plot("
   ]
  }
 ],
 "metadata": {
  "kernelspec": {
   "display_name": "Python 3 (ipykernel)",
   "language": "python",
   "name": "python3"
  },
  "language_info": {
   "codemirror_mode": {
    "name": "ipython",
    "version": 3
   },
   "file_extension": ".py",
   "mimetype": "text/x-python",
   "name": "python",
   "nbconvert_exporter": "python",
   "pygments_lexer": "ipython3",
   "version": "3.9.17"
  }
 },
 "nbformat": 4,
 "nbformat_minor": 4
}