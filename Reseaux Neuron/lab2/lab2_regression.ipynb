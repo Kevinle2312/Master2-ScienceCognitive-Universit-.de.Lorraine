{
 "cells": [
  {
   "cell_type": "code",
   "execution_count": 32,
   "outputs": [],
   "source": [
    "import torch\n",
    "import torch.nn as nn\n",
    "import numpy as np\n",
    "import os\n",
    "os.environ['KMP_DUPLICATE_LIB_OK']='True'\n",
    "import matplotlib.pyplot as plt"
   ],
   "metadata": {
    "collapsed": false,
    "pycharm": {
     "name": "#%%\n"
    }
   }
  },
  {
   "cell_type": "markdown",
   "source": [
    "## Automatic differentiation (Autograd)\n",
    "\n",
    "Autograd is the Pytorch engine that performs gradient tracking and computation. It really is the core of neural networks training, since optimization algorithms like stochastic gradient descent rely on gradient computation. Every tensor in Pytorch not only contains some values (the data itself), but also stores the gradients related to operations that have been computed using these tensors."
   ],
   "metadata": {
    "collapsed": false,
    "pycharm": {
     "name": "#%% md\n"
    }
   }
  },
  {
   "cell_type": "code",
   "execution_count": 33,
   "outputs": [
    {
     "name": "stdout",
     "output_type": "stream",
     "text": [
      "False\n"
     ]
    }
   ],
   "source": [
    "# By default, when tensors are created their gradients is not tracked\n",
    "x = torch.ones(1, 10)\n",
    "print(x.requires_grad)"
   ],
   "metadata": {
    "collapsed": false,
    "pycharm": {
     "name": "#%%\n"
    }
   }
  },
  {
   "cell_type": "code",
   "execution_count": 34,
   "outputs": [
    {
     "name": "stdout",
     "output_type": "stream",
     "text": [
      "True\n",
      "True\n"
     ]
    }
   ],
   "source": [
    "# You can change it using the requires_grad_() method\n",
    "x.requires_grad_()\n",
    "print(x.requires_grad)\n",
    "\n",
    "# Alternatively, when creating a tensor, you can directly set 'requires_grad=True'\n",
    "x = torch.ones(1, 10, requires_grad=True)\n",
    "print(x.requires_grad)"
   ],
   "metadata": {
    "collapsed": false,
    "pycharm": {
     "name": "#%%\n"
    }
   }
  },
  {
   "cell_type": "code",
   "execution_count": 35,
   "outputs": [
    {
     "name": "stdout",
     "output_type": "stream",
     "text": [
      "None\n"
     ]
    }
   ],
   "source": [
    "# You can access the gradient stored in x with 'x.grad'.\n",
    "# However, since no computation has been performed yet, it should return 'None'\n",
    "print(x.grad)"
   ],
   "metadata": {
    "collapsed": false,
    "pycharm": {
     "name": "#%%\n"
    }
   }
  },
  {
   "cell_type": "code",
   "execution_count": 36,
   "outputs": [
    {
     "name": "stdout",
     "output_type": "stream",
     "text": [
      "<AddBackward0 object at 0x0000021D3E09A130>\n",
      "<MulBackward0 object at 0x0000021D3E09A130>\n",
      "<MeanBackward0 object at 0x0000021D3E09A130>\n"
     ]
    }
   ],
   "source": [
    "# If you create a tensor y from x using any torch operation, it will have a gradient function (grad_fn) which is specific to this operation\n",
    "y = x + 50\n",
    "print(y.grad_fn)\n",
    "\n",
    "y = 3 * x\n",
    "print(y.grad_fn)\n",
    "\n",
    "y = x.mean()\n",
    "print(y.grad_fn)"
   ],
   "metadata": {
    "collapsed": false,
    "pycharm": {
     "name": "#%%\n"
    }
   }
  },
  {
   "cell_type": "markdown",
   "metadata": {
    "pycharm": {
     "name": "#%% md\n"
    }
   },
   "source": [
    "As an example, let's define an operation involving a 1D data tensor $\\mathbf{x} = [x_0, \\ldots, x_{9}]$ and a parameter $a$:\n",
    "\n",
    "$$ loss = a \\times \\sum_i x_i $$\n",
    "\n",
    "We can mathematically compute the gradient of $loss$ with respect to $a$ and $\\mathbf{x}$:\n",
    "\n",
    "$$ \\nabla_{a} loss = \\sum_i x_i $$\n",
    "and\n",
    "$$  \\nabla_{x_i} loss = a \\quad (\\text{or in vector form:} \\quad \\nabla_{\\mathbf{x}} loss = [a, \\ldots, a]) $$\n",
    "\n",
    "Of course, on this example it's easy to compute gradients by hand. But when working with deep neural networks with millions of parameters, it can be a bit more complicated. The good news is that Pytorch does it automatically for us, thanks to the `backward()` method."
   ]
  },
  {
   "cell_type": "code",
   "execution_count": 37,
   "metadata": {
    "pycharm": {
     "name": "#%%\n"
    }
   },
   "outputs": [
    {
     "name": "stdout",
     "output_type": "stream",
     "text": [
      "True\n",
      "<MulBackward0 object at 0x0000021D3F2E17F0>\n"
     ]
    }
   ],
   "source": [
    "# Let's implement the above:\n",
    "a = torch.tensor([3.], requires_grad=True)\n",
    "x = torch.ones(1, 10, requires_grad=True)\n",
    "loss = x.sum() * a\n",
    "\n",
    "print(loss.requires_grad)\n",
    "print(loss.grad_fn)"
   ]
  },
  {
   "cell_type": "code",
   "execution_count": 38,
   "outputs": [
    {
     "data": {
      "text/plain": "tensor([3.], requires_grad=True)"
     },
     "execution_count": 38,
     "metadata": {},
     "output_type": "execute_result"
    }
   ],
   "source": [
    "a"
   ],
   "metadata": {
    "collapsed": false,
    "pycharm": {
     "name": "#%%\n"
    }
   }
  },
  {
   "cell_type": "code",
   "execution_count": 39,
   "outputs": [
    {
     "data": {
      "text/plain": "tensor([[1., 1., 1., 1., 1., 1., 1., 1., 1., 1.]], requires_grad=True)"
     },
     "execution_count": 39,
     "metadata": {},
     "output_type": "execute_result"
    }
   ],
   "source": [
    "x"
   ],
   "metadata": {
    "collapsed": false,
    "pycharm": {
     "name": "#%%\n"
    }
   }
  },
  {
   "cell_type": "code",
   "execution_count": 40,
   "outputs": [
    {
     "data": {
      "text/plain": "tensor([30.], grad_fn=<MulBackward0>)"
     },
     "execution_count": 40,
     "metadata": {},
     "output_type": "execute_result"
    }
   ],
   "source": [
    "loss"
   ],
   "metadata": {
    "collapsed": false,
    "pycharm": {
     "name": "#%%\n"
    }
   }
  },
  {
   "cell_type": "code",
   "execution_count": 41,
   "metadata": {
    "pycharm": {
     "name": "#%%\n"
    }
   },
   "outputs": [
    {
     "name": "stdout",
     "output_type": "stream",
     "text": [
      "tensor([[3., 3., 3., 3., 3., 3., 3., 3., 3., 3.]])\n",
      "tensor([10.])\n"
     ]
    }
   ],
   "source": [
    "# Now, let's compute the gradient of the loss with respect to x and a\n",
    "loss.backward()\n",
    "\n",
    "# These gradients are stored in x.grad and a.grad\n",
    "print(x.grad)\n",
    "print(a.grad)"
   ]
  },
  {
   "cell_type": "markdown",
   "metadata": {
    "pycharm": {
     "name": "#%% md\n"
    }
   },
   "source": [
    "As you can see, `x.grad` and `a.grad` contain $\\nabla_{\\mathbf{x}} loss$ and $\\nabla_a loss$, respectively.\n",
    "\n",
    "**Note**: In this example, we have computed the gradient with respect to both the input data $\\mathbf{x}$ and the parameter $a$, but this is only for illustrative purpose. Indeed, in practice, we do not compute the gradient with respect to the data ($\\mathbf{x}$) because it is fixed; we are only interested in the gradient with respect to the parameter ($a$), since this is what we optimize using gradient descent."
   ]
  },
  {
   "cell_type": "code",
   "execution_count": 42,
   "metadata": {
    "pycharm": {
     "name": "#%%\n"
    }
   },
   "outputs": [
    {
     "name": "stdout",
     "output_type": "stream",
     "text": [
      "False\n"
     ]
    }
   ],
   "source": [
    "# After a model is trained, we no longer need to compute its gradient. Therefore, when doing prediction,\n",
    "# we can disable gradient tracking to save memory and computational time\n",
    "\n",
    "with torch.no_grad():\n",
    "    loss = x.sum() * a\n",
    "    print(loss.requires_grad)"
   ]
  },
  {
   "cell_type": "code",
   "execution_count": 43,
   "metadata": {
    "pycharm": {
     "name": "#%%\n"
    }
   },
   "outputs": [
    {
     "name": "stdout",
     "output_type": "stream",
     "text": [
      "tensor([[-20.]])\n",
      "tensor([-10.])\n"
     ]
    }
   ],
   "source": [
    "# TO DO:\n",
    "# - define a data tensors x which simply contains the value 2\n",
    "x = torch.tensor([2])\n",
    "# - define another data tensor y which simply contains the value 10\n",
    "y = torch.tensor([10])\n",
    "# - define parameter tensors w and b with values 1 and 3, respectively (these need gradient tracking)\n",
    "w = torch.ones(1,1, requires_grad=True)\n",
    "b = torch.tensor([3.], requires_grad=True)\n",
    "# - compute the loss as: loss=(y - (w*x + b))^2\n",
    "loss = (y-(w*x+b))**2\n",
    "# - compute the gradients of loss\n",
    "loss.backward()\n",
    "# - print the value of the gradient of loss with respect to w and b\n",
    "print(w.grad)\n",
    "print(b.grad)\n",
    "# hint: to be sure there's no mistake, you can check if it's correct with a bit of math."
   ]
  },
  {
   "cell_type": "markdown",
   "metadata": {
    "pycharm": {
     "name": "#%% md\n"
    }
   },
   "source": [
    "<span style=\"color:red\">**Q1**</span> Put the values of these gradients in your report.\n",
    "\n",
    "## Linear regression\n",
    "\n",
    "<center><a href=\"https://kpu.pressbooks.pub/learningstatistics/chapter/linear-regression/\">\n",
    "    <img src=\"https://kpu.pressbooks.pub/app/uploads/sites/66/2019/09/regression1a-1.png\" width=\"500\"></a></center>\n",
    "\n",
    "Let's now address linear regression. Assuming we have several points of data pairs $(x,y)$, the model is simply $f(x) = wx + b$, where $w$ is called *weight* (or slope) and $b$ is called the *bias*. The goal of linear regression is to estimate the optimal $w$ and $b$ from the available training data $x$ and $y$.\n",
    "\n",
    "**Note**: we don't really need Pytorch for solving that problem (indeed, a basic gradient descent algorithm can be implemented directly without too much hassle - if you have some math background and want to have fun, please feel free). Nonetheless, we consider it anyway because it's a good basic exercice, and once linear regression is solved, we can move to more sophisticated nonlinear regression and to (deep) neural networks.\n",
    "\n",
    "### Data"
   ]
  },
  {
   "cell_type": "code",
   "execution_count": 44,
   "metadata": {
    "pycharm": {
     "name": "#%%\n"
    }
   },
   "outputs": [
    {
     "name": "stdout",
     "output_type": "stream",
     "text": [
      "torch.Size([15, 1]) torch.Size([15, 1])\n"
     ]
    },
    {
     "data": {
      "text/plain": "<Figure size 640x480 with 1 Axes>",
      "image/png": "[encoded data removed]"
     },
     "metadata": {},
     "output_type": "display_data"
    }
   ],
   "source": [
    "# Create a toy dataset (we store all values of x and y into single tensors 'all_x' and 'all_y')\n",
    "all_x = torch.tensor([[3.3], [4.4], [5.5], [6.71], [6.93], [4.168], [9.779], [6.182], [7.59],\n",
    "                 [2.167], [7.042], [10.791], [5.313], [7.997], [3.1]], dtype=torch.float)\n",
    "all_y = torch.tensor([[1.7], [2.76], [2.09], [3.19], [1.694], [1.573], [3.366], [2.596], [2.53],\n",
    "                 [1.221], [2.827], [3.465], [1.65], [2.904], [1.3]], dtype=torch.float)\n",
    "print(all_x.shape, all_y.shape)\n",
    "\n",
    "# Plot the data (y as a function of x)\n",
    "plt.figure()\n",
    "plt.plot(all_x, all_y, 'bo')\n",
    "plt.xlabel('x'), plt.ylabel('y')\n",
    "plt.show()"
   ]
  },
  {
   "cell_type": "markdown",
   "metadata": {
    "pycharm": {
     "name": "#%% md\n"
    }
   },
   "source": [
    "The data tensors `all_x` and `all_y` we have defined here constitute our *dataset*, which has therefore a length of 15; and each data sample $(x,y)$ is one element in `(all_x,all_y)`. Since it's a very small and simple dataset, we don't need to use a Pytorch `Dataset` or `Dataloader` object as introduced in lab 1; we can directly consider that our dataset consists of 1 batch of data, with a batch size of 15.\n",
    "\n",
    "### Model\n",
    "\n",
    "Let us create our linear model. In pytorch, it's easily done with `nn.Linear` (check the [documentation](https://pytorch.org/docs/stable/generated/torch.nn.Linear.html?highlight=torch%20nn%20linear#torch.nn.Linear)!). In particular, we need to specify the input and output sizes. In our case, these are equal to 1 since we work with scalars. There is also an option `bias` which can be `True` (default) or `False`. If `bias=False`, then $b=0$ and the model reduces to $f(x) = wx$.\n",
    "\n",
    "**Note**: When we create a Pytorch model using any `torch.nn` module, the corresponding parameters have `requires_grad=True` by default, thus you don't need to explicitly specify it."
   ]
  },
  {
   "cell_type": "code",
   "execution_count": 45,
   "metadata": {
    "pycharm": {
     "name": "#%%\n"
    }
   },
   "outputs": [
    {
     "name": "stdout",
     "output_type": "stream",
     "text": [
      "Parameter containing:\n",
      "tensor([[-0.0198]], requires_grad=True)\n",
      "Parameter containing:\n",
      "tensor([0.7929], requires_grad=True)\n"
     ]
    }
   ],
   "source": [
    "# Create the linear model\n",
    "input_size = 1\n",
    "output_size = 1\n",
    "lin_reg_model = nn.Linear(input_size, output_size, bias=True)\n",
    "\n",
    "# 'lin_reg_model' is a module which contains the linear function and its parameters (weight and bias)\n",
    "# When we instanciate the model, the parameters are initialized with random values\n",
    "# We also remark that both parameters have 'requires_grad=True', which is the normal default behavior.\n",
    "print(lin_reg_model.weight)\n",
    "print(lin_reg_model.bias)"
   ]
  },
  {
   "cell_type": "code",
   "execution_count": 46,
   "metadata": {
    "pycharm": {
     "name": "#%%\n"
    }
   },
   "outputs": [
    {
     "name": "stdout",
     "output_type": "stream",
     "text": [
      "tensor([0.7275], grad_fn=<AddBackward0>)\n",
      "True\n"
     ]
    }
   ],
   "source": [
    "# Now we can easily compute predictions as y_pred = f(x) as follows:\n",
    "x = all_x[0]\n",
    "y_pred = lin_reg_model(x)\n",
    "print(y_pred)\n",
    "\n",
    "# Since y_pred is computed from the model (which has requires_grad=True), it also has requires_grad=True\n",
    "print(y_pred.requires_grad)"
   ]
  },
  {
   "cell_type": "code",
   "execution_count": 47,
   "metadata": {
    "pycharm": {
     "name": "#%%\n"
    }
   },
   "outputs": [
    {
     "name": "stdout",
     "output_type": "stream",
     "text": [
      "False\n"
     ]
    },
    {
     "data": {
      "text/plain": "<Figure size 640x480 with 1 Axes>",
      "image/png": "[encoded data removed]"
     },
     "metadata": {},
     "output_type": "display_data"
    }
   ],
   "source": [
    "# Let's compute predictions for all the data at once:\n",
    "all_y_pred = lin_reg_model(all_x)\n",
    "\n",
    "# If we want to plot all_y_pred, we first need to get rid of the tracked gradient. This is done as follows:\n",
    "all_y_pred = all_y_pred.detach()\n",
    "print(all_y_pred.requires_grad)\n",
    "\n",
    "# We can plot the predicted values on top of the original data\n",
    "plt.figure()\n",
    "plt.plot(all_x, all_y, 'bo', label='Original data')\n",
    "plt.plot(all_x, all_y_pred, 'r', label='Predicted data')\n",
    "plt.xlabel('x'), plt.ylabel('y')\n",
    "plt.legend()\n",
    "plt.show()"
   ]
  },
  {
   "cell_type": "code",
   "execution_count": 48,
   "metadata": {
    "pycharm": {
     "name": "#%%\n"
    }
   },
   "outputs": [
    {
     "name": "stdout",
     "output_type": "stream",
     "text": [
      "Parameter containing:\n",
      "tensor([[2.]], requires_grad=True)\n",
      "Parameter containing:\n",
      "tensor([3.], requires_grad=True)\n"
     ]
    }
   ],
   "source": [
    "# It is possible to manually change the values of the parameters (weight and bias):\n",
    "lin_reg_model.weight.data.fill_(2)\n",
    "lin_reg_model.bias.data.fill_(3)\n",
    "\n",
    "print(lin_reg_model.weight)\n",
    "print(lin_reg_model.bias)"
   ]
  },
  {
   "cell_type": "code",
   "execution_count": 49,
   "metadata": {
    "pycharm": {
     "name": "#%%\n"
    }
   },
   "outputs": [
    {
     "name": "stdout",
     "output_type": "stream",
     "text": [
      "False\n"
     ]
    },
    {
     "data": {
      "text/plain": "<Figure size 640x480 with 1 Axes>",
      "image/png": "[encoded data removed]"
     },
     "metadata": {},
     "output_type": "display_data"
    }
   ],
   "source": [
    "# TO DO:\n",
    "# - set the weight and bias of the linear model at 0.5 and -1, respectively.\n",
    "lin_reg_model.weight.data.fill_(0.5)\n",
    "lin_reg_model.bias.data.fill_(-1)\n",
    "# - compute the new predictions all_y_pred with this model\n",
    "all_y_pred = lin_reg_model(all_x)\n",
    "# - plot the predictions on top of the original data\n",
    "all_y_pred = all_y_pred.detach()\n",
    "print(all_y_pred.requires_grad)\n",
    "plt.figure()\n",
    "plt.plot(all_x, all_y, 'bo', label='Original data')\n",
    "plt.plot(all_x, all_y_pred, 'r', label='Predicted data')\n",
    "plt.xlabel('x'), plt.ylabel('y')\n",
    "plt.legend()\n",
    "plt.show()"
   ]
  },
  {
   "cell_type": "markdown",
   "metadata": {
    "pycharm": {
     "name": "#%% md\n"
    }
   },
   "source": [
    "### Training\n",
    "\n",
    "Now that our model is defined, we have to train it, that is, to optimize the values of the weight and bias $w$ and $b$. To do that, we first define the [loss function](https://pytorch.org/docs/stable/nn.html#loss-functions) and the `optimizer` (i.e., [the optimization algorithm](https://pytorch.org/docs/stable/optim.html#algorithms))."
   ]
  },
  {
   "cell_type": "code",
   "execution_count": 50,
   "metadata": {
    "pycharm": {
     "name": "#%%\n"
    }
   },
   "outputs": [
    {
     "data": {
      "text/plain": "tensor([1.])"
     },
     "execution_count": 50,
     "metadata": {},
     "output_type": "execute_result"
    }
   ],
   "source": [
    "# TO DO: first, re-instanciate the model and set both the weight and bias at 1.\n",
    "# This will avoid random values and ensure reproducibility (everyone should get the same results)\n",
    "input_size = 1\n",
    "output_size = 1\n",
    "lin_reg_model = nn.Linear(input_size, output_size, bias=True)\n",
    "lin_reg_model.weight.data.fill_(1)\n",
    "lin_reg_model.bias.data.fill_(1)"
   ]
  },
  {
   "cell_type": "code",
   "execution_count": 51,
   "metadata": {
    "pycharm": {
     "name": "#%%\n"
    }
   },
   "outputs": [],
   "source": [
    "# For linear regression, it is common to use the mean square error (MSE) as loss function\n",
    "loss_fn = nn.MSELoss()\n",
    "\n",
    "# For the optimizer, let's use stochastic gradient (SGD). In Pytorch, we need to specify:\n",
    "# - which parameters are going to be updated (= the model's parameters)\n",
    "# - the learning rate\n",
    "optimizer = torch.optim.SGD(lin_reg_model.parameters(), lr=0.01)"
   ]
  },
  {
   "cell_type": "markdown",
   "metadata": {
    "pycharm": {
     "name": "#%% md\n"
    }
   },
   "source": [
    "Let us briefly recap the gradient descent procedure for training (we note $\\mathcal{L}$ the loss function and $\\mu$ the learning rate). At each iteration (or *epoch*), we perform the following operations:\n",
    "1. Using the current model's parameters, compute the predictions: $y_{\\text{pred}} = f(x)$\n",
    "2. Using the loss function, compute the error between true values and predictions: $l = \\mathcal{L}(y_{\\text{pred}},y)$\n",
    "3. Compute the gradients of the loss with respect to the parameters. If there are only two parameters $w$ and $b$, then we have to compute $\\nabla_{w} l$ and $\\nabla_{b} l$.\n",
    "4. Perform gradient descent, that is, update the parameters with: $w \\leftarrow w - \\mu \\nabla_{w} l$ and $b \\leftarrow b - \\mu \\nabla_{b} l$\n",
    "\n",
    "The good news is that we don't have to explicitly code steps 3. and 4., since Pytorch takes care about that for us with simple functions: all gradients are computed with `l.backward()` (we have seen this one already) and the gradient descent is simply performed with `optimizer.step()`.\n",
    "\n",
    "**Note**: before computing the gradients with `l.backward()`, it's safer to remove all possible gradients that have been computed beforehand (e.g., from another model, or stored in the memory) to avoid numerical issues. This is easily done with: `optimizer.zero_grad()`."
   ]
  },
  {
   "cell_type": "code",
   "execution_count": 52,
   "metadata": {
    "pycharm": {
     "name": "#%%\n"
    }
   },
   "outputs": [
    {
     "name": "stdout",
     "output_type": "stream",
     "text": [
      "Epoch [1/10], Loss: 25.6761\n",
      "Epoch [2/10], Loss: 0.6436\n",
      "Epoch [3/10], Loss: 0.1803\n",
      "Epoch [4/10], Loss: 0.1717\n",
      "Epoch [5/10], Loss: 0.1715\n",
      "Epoch [6/10], Loss: 0.1715\n",
      "Epoch [7/10], Loss: 0.1715\n",
      "Epoch [8/10], Loss: 0.1715\n",
      "Epoch [9/10], Loss: 0.1715\n",
      "Epoch [10/10], Loss: 0.1715\n"
     ]
    }
   ],
   "source": [
    "# TO DO: Write the training loop for 10 epochs.\n",
    "# At the end of each epoch, print the value of the loss (it's easily accessed with 'l.item()')\n",
    "num_epochs = 10\n",
    "for epoch in range(num_epochs):\n",
    "\n",
    "    # Forward pass: calculate the predicted value with the model\n",
    "    y_pred = lin_reg_model(all_x)\n",
    "\n",
    "    # Compute the error between the true values y and the predicted values\n",
    "    l = loss_fn(all_y, y_pred)\n",
    "\n",
    "    # Compute the gradient of the loss with respect to the model parameters\n",
    "    optimizer.zero_grad()\n",
    "    l.backward()\n",
    "\n",
    "    # Apply the gradient descent algorithm\n",
    "    optimizer.step()\n",
    "\n",
    "    # Print the loss\n",
    "    loss_current_epoch = l.item()\n",
    "    print('Epoch [{}/{}], Loss: {:.4f}'.format(epoch+1, num_epochs, loss_current_epoch))\n"
   ]
  },
  {
   "cell_type": "code",
   "execution_count": 53,
   "metadata": {
    "pycharm": {
     "name": "#%%\n"
    }
   },
   "outputs": [
    {
     "name": "stdout",
     "output_type": "stream",
     "text": [
      "Parameter containing:\n",
      "tensor([[0.2400]], requires_grad=True)\n",
      "Parameter containing:\n",
      "tensor([0.8871], requires_grad=True)\n"
     ]
    }
   ],
   "source": [
    "# After training, save the parameters of the trained model and display them\n",
    "torch.save(lin_reg_model.state_dict(), 'model_linear_regression.pt')\n",
    "print(lin_reg_model.weight)\n",
    "print(lin_reg_model.bias)"
   ]
  },
  {
   "cell_type": "markdown",
   "metadata": {
    "pycharm": {
     "name": "#%% md\n"
    }
   },
   "source": [
    "<span style=\"color:red\">**Q2**</span> What are the final values (i.e., after training) of the weight $w$ and bias $b$?"
   ]
  },
  {
   "cell_type": "code",
   "execution_count": 54,
   "metadata": {
    "pycharm": {
     "name": "#%%\n"
    }
   },
   "outputs": [
    {
     "data": {
      "text/plain": "<Figure size 640x480 with 1 Axes>",
      "image/png": "[encoded data removed]"
     },
     "metadata": {},
     "output_type": "display_data"
    }
   ],
   "source": [
    "# # TO DO: Compute the final estimates y_pred with the trained model, and display the results (predictions and original)\n",
    "# y_pred = lin_reg_model(all_x)\n",
    "y_pred = y_pred.detach()\n",
    "\n",
    "plt.figure()\n",
    "plt.plot(all_x, all_y, 'bo', label='Original data')\n",
    "plt.plot(all_x, y_pred, 'r', label='Predicted data')\n",
    "plt.xlabel('x'), plt.ylabel('y')\n",
    "plt.legend()\n",
    "plt.show()"
   ]
  },
  {
   "cell_type": "markdown",
   "metadata": {
    "pycharm": {
     "name": "#%% md\n"
    }
   },
   "source": [
    "Congrats, you have just trained your first model in Pytorch! In practice, this is how easy working with neural networks is, and the training function is always pretty much the same, up to one difference: here he have use the whole dataset (`all_x`) directly, but real-world datasets are much larger, so we need to split it into batches using a `Dataloader` (as we've seen in lab 1), and iterate over these batches (as we will see in lab 3).\n",
    "\n",
    "Meanwhile, we consider a slightly more complicated model and design our first neural netwotk.\n",
    "\n",
    "## Nonlinear regression\n",
    "\n",
    "Let us address the more elaborate task of *nonlinear regression*, where $f$ is no longer a simple linear/affine function.\n",
    "\n",
    "<center><a href=\"https://www.r-bloggers.com/2016/02/first-steps-with-non-linear-regression-in-r/\">\n",
    "    <img src=\"https://i0.wp.com/datascienceplus.com/wp-content/uploads/2016/02/NLS_2.png\" width=\"400\"></a></center>\n",
    "\n",
    "In some scenarios, analyzing/vizualizing the data allows to recognize the nature of $f$ (polynomial, exponential, logarithm...). But sometimes, things get more complicated and even vizualization is not straightforward (e.g., when working with high-dimensional data such as images, audio signals, text data...). That's where neural networks become useful: we only define a general function architecture by assembling elementary operators (linear layers and *activation functions*), which allows to approximate any complicated function (remember the [universal approximation theorem](https://en.wikipedia.org/wiki/Universal_approximation_theorem)).\n",
    "\n",
    "### Data\n",
    "\n",
    "For this example, we consider sinusoidal-like data - of course in this case we know the function $f$, but let's pretend we don't and see if we can approximate it using a neural network."
   ]
  },
  {
   "cell_type": "code",
   "execution_count": 55,
   "metadata": {
    "pycharm": {
     "name": "#%%\n"
    }
   },
   "outputs": [
    {
     "data": {
      "text/plain": "<Figure size 640x480 with 1 Axes>",
      "image/png": "[encoded data removed]"
     },
     "metadata": {},
     "output_type": "display_data"
    }
   ],
   "source": [
    "# TO DO: generate sinusoidal data:\n",
    "# - create a tensor all_x which ranges from -3 to 3 with a step of 0.1\n",
    "all_x = torch.arange(-3, 3, 0.1)\n",
    "# - unsqueeze it to add an extra dimension (its shape should be [60, 1])\n",
    "all_x = all_x.unsqueeze(dim=1)\n",
    "# - compute all_y = cos(all_x)\n",
    "all_y = torch.cos(all_x)\n",
    "# - plot all_y as a function of all_x\n",
    "plt.figure()\n",
    "plt.plot(all_x, all_y, 'bo', label='Original data')\n",
    "plt.xlabel('x'), plt.ylabel('y')\n",
    "plt.legend()\n",
    "plt.show()"
   ]
  },
  {
   "cell_type": "markdown",
   "metadata": {
    "pycharm": {
     "name": "#%% md\n"
    }
   },
   "source": [
    "### Model\n",
    "\n",
    "As recalled above, the core idea behind neural networks is to assemble simple mathematical operations to approximate a potentially complicated function. For instance, in multilayer perceptrons (MLP), a network is designed by concatenating several layers, where each layer consists of:\n",
    "- a linear function\n",
    "- (potentially) a non-linear element-wise *activation* function\n",
    "\n",
    "There is a plethora of nonlinear activation functions, which you can check [here](https://pytorch.org/docs/stable/nn.html#non-linear-activations-weighted-sum-nonlinearity). A popular one is the rectified linear unit ([ReLU](https://pytorch.org/docs/stable/generated/torch.nn.ReLU.html#torch.nn.ReLU)).\n",
    "\n",
    "Here, we propose to approximate our sinusoidal data with a simple network made up with 2 linear layers and 1 activation function in between:\n",
    "\n",
    "<center> $x \\to$ Linear_1 $\\to$ ReLU $\\to$ Linear_2 $\\to y$</center>\n"
   ]
  },
  {
   "cell_type": "code",
   "execution_count": 56,
   "metadata": {
    "pycharm": {
     "name": "#%%\n"
    }
   },
   "outputs": [
    {
     "name": "stdout",
     "output_type": "stream",
     "text": [
      "Sequential(\n",
      "  (0): Linear(in_features=1, out_features=3, bias=True)\n",
      "  (1): ReLU()\n",
      "  (2): Linear(in_features=3, out_features=1, bias=True)\n",
      ")\n"
     ]
    }
   ],
   "source": [
    "# To DO: write the 'nonlin_reg_model' model.\n",
    "# - the first linear layer should have input_size=1 and output_size=3 (we increase the dimension of x)\n",
    "input_size_x = 1\n",
    "output_size_x = 3\n",
    "nonlin_reg_model_X = nn.Linear(input_size, output_size, bias=True)\n",
    "# - the second linear layer should have input_size=3 and output_size=1 (we go back to the dimension of y)\n",
    "input_size_y = 3\n",
    "output_size_y = 1\n",
    "nonlin_reg_model_Y = nn.Linear(input_size, output_size, bias=True)\n",
    "# - to build the complete model, you can stack the separate layers together into one model using torch.nn.Sequential (check the doc!)\n",
    "model = nn.Sequential(\n",
    "    nn.Linear(input_size_x, output_size_x, bias=True),  # Input layer to hidden layer\n",
    "    nn.ReLU(),  # Activation function\n",
    "    nn.Linear(input_size_y, output_size, bias=True)  # Hidden layer to output layer\n",
    ")\n",
    "# - once it's done, compute nonlin_reg_model(all_x) to be sure there are no bugs\n",
    "print(model)\n",
    "nonlin_reg_model = model"
   ]
  },
  {
   "cell_type": "code",
   "execution_count": 57,
   "metadata": {
    "pycharm": {
     "name": "#%%\n"
    }
   },
   "outputs": [
    {
     "data": {
      "text/plain": "Sequential(\n  (0): Linear(in_features=1, out_features=3, bias=True)\n  (1): ReLU()\n  (2): Linear(in_features=3, out_features=1, bias=True)\n)"
     },
     "execution_count": 57,
     "metadata": {},
     "output_type": "execute_result"
    }
   ],
   "source": [
    "# initialization (ensure reproducibility: everybody should have the same results)\n",
    "def init_weights(m):\n",
    "    if isinstance(m, nn.Linear):\n",
    "        torch.nn.init.xavier_uniform_(m.weight.data)\n",
    "        m.bias.data.fill_(0.01)\n",
    "\n",
    "torch.manual_seed(0)\n",
    "nonlin_reg_model.apply(init_weights)"
   ]
  },
  {
   "cell_type": "markdown",
   "metadata": {
    "pycharm": {
     "name": "#%% md\n"
    }
   },
   "source": [
    "### Training"
   ]
  },
  {
   "cell_type": "code",
   "execution_count": 58,
   "metadata": {
    "pycharm": {
     "name": "#%%\n"
    }
   },
   "outputs": [],
   "source": [
    "# TO DO: train the model. The procedure is very similar to the linear regression case, and uses:\n",
    "# - loss function = MSE\n",
    "loss_fn = nn.MSELoss()\n",
    "# - number of epochs = 50\n",
    "num_epochs = 50\n",
    "# - optimizer = SGD with a learning rate of 0.1\n",
    "optimizer = torch.optim.SGD(nonlin_reg_model.parameters(), lr=0.1)"
   ]
  },
  {
   "cell_type": "code",
   "execution_count": 59,
   "metadata": {
    "pycharm": {
     "name": "#%%\n"
    }
   },
   "outputs": [],
   "source": [
    "# TO DO: Plot the loss over epochs\n",
    "losses = list()"
   ]
  },
  {
   "cell_type": "code",
   "execution_count": 60,
   "metadata": {
    "pycharm": {
     "name": "#%%\n"
    }
   },
   "outputs": [
    {
     "name": "stdout",
     "output_type": "stream",
     "text": [
      "Epoch [1/50], Loss: 0.8169981837272644\n",
      "Epoch [2/50], Loss: 0.45279064774513245\n",
      "Epoch [3/50], Loss: 0.3724183440208435\n",
      "Epoch [4/50], Loss: 0.3247684836387634\n",
      "Epoch [5/50], Loss: 0.2903457283973694\n",
      "Epoch [6/50], Loss: 0.2638123333454132\n",
      "Epoch [7/50], Loss: 0.24239791929721832\n",
      "Epoch [8/50], Loss: 0.22399969398975372\n",
      "Epoch [9/50], Loss: 0.2077016681432724\n",
      "Epoch [10/50], Loss: 0.19311843812465668\n",
      "Epoch [11/50], Loss: 0.17986874282360077\n",
      "Epoch [12/50], Loss: 0.16754452884197235\n",
      "Epoch [13/50], Loss: 0.15600131452083588\n",
      "Epoch [14/50], Loss: 0.14515921473503113\n",
      "Epoch [15/50], Loss: 0.13514158129692078\n",
      "Epoch [16/50], Loss: 0.12570978701114655\n",
      "Epoch [17/50], Loss: 0.11683384329080582\n",
      "Epoch [18/50], Loss: 0.10849329829216003\n",
      "Epoch [19/50], Loss: 0.1006694957613945\n",
      "Epoch [20/50], Loss: 0.09334351867437363\n",
      "Epoch [21/50], Loss: 0.08649561554193497\n",
      "Epoch [22/50], Loss: 0.08010505884885788\n",
      "Epoch [23/50], Loss: 0.074150450527668\n",
      "Epoch [24/50], Loss: 0.06860990822315216\n",
      "Epoch [25/50], Loss: 0.0634654089808464\n",
      "Epoch [26/50], Loss: 0.05873126536607742\n",
      "Epoch [27/50], Loss: 0.05433955043554306\n",
      "Epoch [28/50], Loss: 0.050267960876226425\n",
      "Epoch [29/50], Loss: 0.04649706929922104\n",
      "Epoch [30/50], Loss: 0.043008141219615936\n",
      "Epoch [31/50], Loss: 0.03978307917714119\n",
      "Epoch [32/50], Loss: 0.03680459409952164\n",
      "Epoch [33/50], Loss: 0.034056153148412704\n",
      "Epoch [34/50], Loss: 0.03153096139431\n",
      "Epoch [35/50], Loss: 0.029213882982730865\n",
      "Epoch [36/50], Loss: 0.02708045206964016\n",
      "Epoch [37/50], Loss: 0.02511703409254551\n",
      "Epoch [38/50], Loss: 0.02331102080643177\n",
      "Epoch [39/50], Loss: 0.021650617942214012\n",
      "Epoch [40/50], Loss: 0.020124834030866623\n",
      "Epoch [41/50], Loss: 0.018723422661423683\n",
      "Epoch [42/50], Loss: 0.017436811700463295\n",
      "Epoch [43/50], Loss: 0.016256095841526985\n",
      "Epoch [44/50], Loss: 0.0151729891076684\n",
      "Epoch [45/50], Loss: 0.014179782941937447\n",
      "Epoch [46/50], Loss: 0.013269331306219101\n",
      "Epoch [47/50], Loss: 0.01243500504642725\n",
      "Epoch [48/50], Loss: 0.0116706732660532\n",
      "Epoch [49/50], Loss: 0.010970646515488625\n",
      "Epoch [50/50], Loss: 0.01032967958599329\n",
      "50\n"
     ]
    },
    {
     "data": {
      "text/plain": "<Figure size 640x480 with 1 Axes>",
      "image/png": "[encoded data removed]"
     },
     "metadata": {},
     "output_type": "display_data"
    }
   ],
   "source": [
    "# TO DO: Compute the predicted outputs, and plot the results (original data and predictions)\n",
    "# Training loop\n",
    "\n",
    "for epoch in range(num_epochs):\n",
    "    # Forward pass\n",
    "    y_pred = nonlin_reg_model(all_x)\n",
    "\n",
    "    # Calculate loss\n",
    "    loss = loss_fn(y_pred, all_y)\n",
    "\n",
    "    # Backpropagation and optimization\n",
    "    optimizer.zero_grad()\n",
    "    loss.backward()\n",
    "    optimizer.step()\n",
    "\n",
    "    # Store the loss\n",
    "    losses.append(loss.item())\n",
    "\n",
    "    print(f\"Epoch [{epoch+1}/{num_epochs}], Loss: {loss.item()}\")\n",
    "\n",
    "    # Save the model's parameters to a file\n",
    "    torch.save(nonlin_reg_model.state_dict(), 'model_params.pth')\n",
    "print(len(losses))\n",
    "num_po = torch.arange(0, len(losses), 1)\n",
    "plt.figure()\n",
    "plt.plot(num_po, losses, 'bo', label='Loss data')\n",
    "plt.xlabel('epoche'), plt.ylabel('loss')\n",
    "plt.legend()\n",
    "plt.show()"
   ]
  },
  {
   "cell_type": "code",
   "execution_count": 61,
   "outputs": [
    {
     "data": {
      "text/plain": "<Figure size 640x480 with 1 Axes>",
      "image/png": "[encoded data removed]"
     },
     "metadata": {},
     "output_type": "display_data"
    }
   ],
   "source": [
    "y_pred = y_pred.detach()\n",
    "plt.figure()\n",
    "plt.plot(all_x, all_y, 'bo', label='Original data')\n",
    "plt.plot(all_x, y_pred, 'r', label='Predicted data')\n",
    "plt.xlabel('x'), plt.ylabel('y')\n",
    "plt.legend()\n",
    "plt.show()"
   ],
   "metadata": {
    "collapsed": false,
    "pycharm": {
     "name": "#%%\n"
    }
   }
  },
  {
   "cell_type": "markdown",
   "metadata": {
    "pycharm": {
     "name": "#%% md\n"
    }
   },
   "source": [
    "<span style=\"color:red\">**Q3 and Q4**</span> Put the above-mentionned plots in your report (loss over epochs and original/predicted data)."
   ]
  },
  {
   "cell_type": "code",
   "execution_count": 61,
   "outputs": [],
   "source": [],
   "metadata": {
    "collapsed": false,
    "pycharm": {
     "name": "#%%\n"
    }
   }
  }
 ],
 "metadata": {
  "kernelspec": {
   "display_name": "Python 3 (ipykernel)",
   "language": "python",
   "name": "python3"
  },
  "language_info": {
   "codemirror_mode": {
    "name": "ipython",
    "version": 3
   },
   "file_extension": ".py",
   "mimetype": "text/x-python",
   "name": "python",
   "nbconvert_exporter": "python",
   "pygments_lexer": "ipython3",
   "version": "3.8.10"
  }
 },
 "nbformat": 4,
 "nbformat_minor": 4
}